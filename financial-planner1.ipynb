{
 "cells": [
  {
   "cell_type": "markdown",
   "metadata": {},
   "source": [
    "# Unit 5 - Financial Planning\n"
   ]
  },
  {
   "cell_type": "code",
   "execution_count": 1,
   "metadata": {},
   "outputs": [],
   "source": [
    "# Initial imports\n",
    "import os\n",
    "import requests\n",
    "import pandas as pd\n",
    "from dotenv import load_dotenv\n",
    "import alpaca_trade_api as tradeapi\n",
    "from MCForecastTools import MCSimulation\n",
    "\n",
    "%matplotlib inline"
   ]
  },
  {
   "cell_type": "code",
   "execution_count": 2,
   "metadata": {},
   "outputs": [
    {
     "data": {
      "text/plain": [
       "True"
      ]
     },
     "execution_count": 2,
     "metadata": {},
     "output_type": "execute_result"
    }
   ],
   "source": [
    "# Load .env enviroment variables\n",
    "load_dotenv()"
   ]
  },
  {
   "cell_type": "markdown",
   "metadata": {},
   "source": [
    "## Part 1 - Personal Finance Planner"
   ]
  },
  {
   "cell_type": "markdown",
   "metadata": {},
   "source": [
    "### Collect Crypto Prices Using the `requests` Library"
   ]
  },
  {
   "cell_type": "code",
   "execution_count": 3,
   "metadata": {},
   "outputs": [],
   "source": [
    "# Set current amount of crypto assets\n",
    "my_btc = 1.2\n",
    "my_eth = 5.3"
   ]
  },
  {
   "cell_type": "code",
   "execution_count": 4,
   "metadata": {},
   "outputs": [],
   "source": [
    "# Crypto API URLs\n",
    "btc_url = \"https://api.alternative.me/v2/ticker/Bitcoin/?convert=CAD\"\n",
    "eth_url = \"https://api.alternative.me/v2/ticker/Ethereum/?convert=CAD\""
   ]
  },
  {
   "cell_type": "code",
   "execution_count": 5,
   "metadata": {},
   "outputs": [
    {
     "name": "stdout",
     "output_type": "stream",
     "text": [
      "The current value of your 1.2 BTC is $45486.00\n",
      "The current value of your 5.3 ETH is $12537.04\n"
     ]
    }
   ],
   "source": [
    "# Fetch current BTC price\n",
    "data_btc = requests.get(btc_url).json()\n",
    "btc_value = data_btc[\"data\"][\"1\"][\"quotes\"][\"USD\"][\"price\"]\n",
    "\n",
    "# Fetch current ETH price\n",
    "data_eth = requests.get(eth_url).json()\n",
    "eth_value = data_eth[\"data\"][\"1027\"][\"quotes\"][\"USD\"][\"price\"]\n",
    "\n",
    "# Compute current value of my crpto\n",
    "my_btc_value = my_btc * btc_value\n",
    "my_eth_value = my_eth * eth_value\n",
    "\n",
    "# Print current crypto wallet balance\n",
    "print(f\"The current value of your {my_btc} BTC is ${my_btc_value:0.2f}\")\n",
    "print(f\"The current value of your {my_eth} ETH is ${my_eth_value:0.2f}\")"
   ]
  },
  {
   "cell_type": "markdown",
   "metadata": {},
   "source": [
    "### Collect Investments Data Using Alpaca: `SPY` (stocks) and `AGG` (bonds)"
   ]
  },
  {
   "cell_type": "code",
   "execution_count": 6,
   "metadata": {},
   "outputs": [],
   "source": [
    "# Current amount of shares\n",
    "my_agg = 200\n",
    "my_spy = 50"
   ]
  },
  {
   "cell_type": "code",
   "execution_count": 7,
   "metadata": {},
   "outputs": [],
   "source": [
    "# Set Alpaca API key and secret\n",
    "#alpaca_api_key = os.getenv(\"ALPACA_API_KEY\")\n",
    "alpaca_api_key = os.getenv(\"ALPACA_API_KEY\")\n",
    "alpaca_secret_key = os.getenv(\"ALPACA_SECRET_KEY\")\n",
    "\n",
    "# Create the Alpaca API object\n",
    "api = tradeapi.REST(\n",
    "    alpaca_api_key,\n",
    "    alpaca_secret_key,\n",
    "    api_version=\"v2\")"
   ]
  },
  {
   "cell_type": "code",
   "execution_count": 8,
   "metadata": {},
   "outputs": [
    {
     "data": {
      "text/html": [
       "<div>\n",
       "<style scoped>\n",
       "    .dataframe tbody tr th:only-of-type {\n",
       "        vertical-align: middle;\n",
       "    }\n",
       "\n",
       "    .dataframe tbody tr th {\n",
       "        vertical-align: top;\n",
       "    }\n",
       "\n",
       "    .dataframe thead tr th {\n",
       "        text-align: left;\n",
       "    }\n",
       "\n",
       "    .dataframe thead tr:last-of-type th {\n",
       "        text-align: right;\n",
       "    }\n",
       "</style>\n",
       "<table border=\"1\" class=\"dataframe\">\n",
       "  <thead>\n",
       "    <tr>\n",
       "      <th></th>\n",
       "      <th colspan=\"5\" halign=\"left\">AGG</th>\n",
       "      <th colspan=\"5\" halign=\"left\">SPY</th>\n",
       "    </tr>\n",
       "    <tr>\n",
       "      <th></th>\n",
       "      <th>open</th>\n",
       "      <th>high</th>\n",
       "      <th>low</th>\n",
       "      <th>close</th>\n",
       "      <th>volume</th>\n",
       "      <th>open</th>\n",
       "      <th>high</th>\n",
       "      <th>low</th>\n",
       "      <th>close</th>\n",
       "      <th>volume</th>\n",
       "    </tr>\n",
       "    <tr>\n",
       "      <th>time</th>\n",
       "      <th></th>\n",
       "      <th></th>\n",
       "      <th></th>\n",
       "      <th></th>\n",
       "      <th></th>\n",
       "      <th></th>\n",
       "      <th></th>\n",
       "      <th></th>\n",
       "      <th></th>\n",
       "      <th></th>\n",
       "    </tr>\n",
       "  </thead>\n",
       "  <tbody>\n",
       "    <tr>\n",
       "      <th>2021-05-17 00:00:00-04:00</th>\n",
       "      <td>114.21</td>\n",
       "      <td>115.4999</td>\n",
       "      <td>111.26</td>\n",
       "      <td>114.165</td>\n",
       "      <td>3852318</td>\n",
       "      <td>415.39</td>\n",
       "      <td>416.39</td>\n",
       "      <td>413.36</td>\n",
       "      <td>415.55</td>\n",
       "      <td>57714535</td>\n",
       "    </tr>\n",
       "  </tbody>\n",
       "</table>\n",
       "</div>"
      ],
      "text/plain": [
       "                              AGG                                         SPY  \\\n",
       "                             open      high     low    close   volume    open   \n",
       "time                                                                            \n",
       "2021-05-17 00:00:00-04:00  114.21  115.4999  111.26  114.165  3852318  415.39   \n",
       "\n",
       "                                                             \n",
       "                             high     low   close    volume  \n",
       "time                                                         \n",
       "2021-05-17 00:00:00-04:00  416.39  413.36  415.55  57714535  "
      ]
     },
     "execution_count": 8,
     "metadata": {},
     "output_type": "execute_result"
    }
   ],
   "source": [
    "# Format current date as ISO format\n",
    "today = pd.Timestamp(\"2021-05-17\", tz=\"America/New_York\").isoformat()\n",
    "\n",
    "# Set the tickers\n",
    "tickers = [\"AGG\", \"SPY\"]\n",
    "\n",
    "# Set timeframe to '1D' for Alpaca API\n",
    "timeframe = \"1D\"\n",
    "\n",
    "# Get current closing prices for SPY and AGG\n",
    "df_portfolio = api.get_barset(\n",
    "    tickers,\n",
    "    timeframe,\n",
    "    start = today,\n",
    "    end = today,\n",
    ").df\n",
    "\n",
    "# Preview DataFrame\n",
    "df_portfolio.head()"
   ]
  },
  {
   "cell_type": "code",
   "execution_count": 9,
   "metadata": {},
   "outputs": [
    {
     "name": "stdout",
     "output_type": "stream",
     "text": [
      "Current AGG closing price: $114.165\n",
      "Current SPY closing price: $415.55\n"
     ]
    }
   ],
   "source": [
    "# Pick AGG and SPY close prices\n",
    "agg_close_price = float(df_portfolio[\"AGG\"][\"close\"])                                     \n",
    "spy_close_price = float(df_portfolio[\"SPY\"][\"close\"])\n",
    "                                     \n",
    "# Print AGG and SPY close prices\n",
    "print(f\"Current AGG closing price: ${agg_close_price}\")\n",
    "print(f\"Current SPY closing price: ${spy_close_price}\")"
   ]
  },
  {
   "cell_type": "code",
   "execution_count": 10,
   "metadata": {},
   "outputs": [
    {
     "name": "stdout",
     "output_type": "stream",
     "text": [
      "The current value of your 50 SPY shares is $20777.50\n",
      "The current value of your 200 AGG shares is $22833.00\n"
     ]
    }
   ],
   "source": [
    "# Compute the current value of shares\n",
    "my_agg_value = my_agg * agg_close_price\n",
    "my_spy_value = my_spy * spy_close_price\n",
    "\n",
    "# Print current value of share\n",
    "print(f\"The current value of your {my_spy} SPY shares is ${my_spy_value:0.2f}\")\n",
    "print(f\"The current value of your {my_agg} AGG shares is ${my_agg_value:0.2f}\")"
   ]
  },
  {
   "cell_type": "markdown",
   "metadata": {},
   "source": [
    "### Savings Health Analysis"
   ]
  },
  {
   "cell_type": "code",
   "execution_count": 11,
   "metadata": {},
   "outputs": [
    {
     "data": {
      "text/html": [
       "<div>\n",
       "<style scoped>\n",
       "    .dataframe tbody tr th:only-of-type {\n",
       "        vertical-align: middle;\n",
       "    }\n",
       "\n",
       "    .dataframe tbody tr th {\n",
       "        vertical-align: top;\n",
       "    }\n",
       "\n",
       "    .dataframe thead th {\n",
       "        text-align: right;\n",
       "    }\n",
       "</style>\n",
       "<table border=\"1\" class=\"dataframe\">\n",
       "  <thead>\n",
       "    <tr style=\"text-align: right;\">\n",
       "      <th></th>\n",
       "      <th>amount</th>\n",
       "    </tr>\n",
       "  </thead>\n",
       "  <tbody>\n",
       "    <tr>\n",
       "      <th>crypto</th>\n",
       "      <td>58023.044</td>\n",
       "    </tr>\n",
       "    <tr>\n",
       "      <th>shares</th>\n",
       "      <td>43610.500</td>\n",
       "    </tr>\n",
       "  </tbody>\n",
       "</table>\n",
       "</div>"
      ],
      "text/plain": [
       "           amount\n",
       "crypto  58023.044\n",
       "shares  43610.500"
      ]
     },
     "metadata": {},
     "output_type": "display_data"
    }
   ],
   "source": [
    "# Set monthly household income\n",
    "monthly_income = 12000\n",
    "total_crypto = my_btc_value + my_eth_value\n",
    "total_shares_value = my_agg_value + my_spy_value\n",
    "data = {'amount':[total_crypto, total_shares_value]}\n",
    "\n",
    "# Create savings DataFrame\n",
    "df_savings = pd.DataFrame(data, index =['crypto', 'shares'])\n",
    "\n",
    "# Display savings DataFrame\n",
    "display(df_savings)"
   ]
  },
  {
   "cell_type": "code",
   "execution_count": 12,
   "metadata": {},
   "outputs": [
    {
     "data": {
      "text/plain": [
       "<AxesSubplot:title={'center':'Composition of Personal Savings'}, ylabel='amount'>"
      ]
     },
     "execution_count": 12,
     "metadata": {},
     "output_type": "execute_result"
    },
    {
     "data": {
      "image/png": "[encoded data removed]",
      "text/plain": [
       "<Figure size 432x288 with 1 Axes>"
      ]
     },
     "metadata": {},
     "output_type": "display_data"
    }
   ],
   "source": [
    "# Plot savings pie chart\n",
    "df_savings.plot.pie(y=\"amount\", title=\"Composition of Personal Savings\")"
   ]
  },
  {
   "cell_type": "code",
   "execution_count": 13,
   "metadata": {},
   "outputs": [
    {
     "name": "stdout",
     "output_type": "stream",
     "text": [
      "Congratulations! You have enough money in your emergency fund.\n"
     ]
    }
   ],
   "source": [
    "# Set ideal emergency fund\n",
    "emergency_fund = monthly_income * 3\n",
    "\n",
    "# Calculate total amount of savings\n",
    "total_savings = total_crypto + total_shares_value\n",
    "\n",
    "# Validate saving health\n",
    "if emergency_fund < total_savings:\n",
    "    print(\"Congratulations! You have enough money in your emergency fund.\")\n",
    "elif emergency_fund == total_savings:\n",
    "    print(\"You have reach your financial goal\")\n",
    "else:\n",
    "    print(f\"You are {emergency_fun - total_savings} dollars away from reaching the goal\")"
   ]
  },
  {
   "cell_type": "markdown",
   "metadata": {},
   "source": [
    "## Part 2 - Retirement Planning\n",
    "\n",
    "### Monte Carlo Simulation"
   ]
  },
  {
   "cell_type": "code",
   "execution_count": 14,
   "metadata": {},
   "outputs": [],
   "source": [
    "# Set start and end dates of five years back from today.\n",
    "# Sample results may vary from the solution based on the time frame chosen\n",
    "start_date = pd.Timestamp('2016-04-30', tz='America/New_York').isoformat()\n",
    "end_date = pd.Timestamp('2021-04-30', tz='America/New_York').isoformat()"
   ]
  },
  {
   "cell_type": "code",
   "execution_count": 15,
   "metadata": {},
   "outputs": [
    {
     "data": {
      "text/html": [
       "<div>\n",
       "<style scoped>\n",
       "    .dataframe tbody tr th:only-of-type {\n",
       "        vertical-align: middle;\n",
       "    }\n",
       "\n",
       "    .dataframe tbody tr th {\n",
       "        vertical-align: top;\n",
       "    }\n",
       "\n",
       "    .dataframe thead tr th {\n",
       "        text-align: left;\n",
       "    }\n",
       "</style>\n",
       "<table border=\"1\" class=\"dataframe\">\n",
       "  <thead>\n",
       "    <tr>\n",
       "      <th></th>\n",
       "      <th colspan=\"5\" halign=\"left\">AGG</th>\n",
       "      <th colspan=\"5\" halign=\"left\">SPY</th>\n",
       "    </tr>\n",
       "    <tr>\n",
       "      <th></th>\n",
       "      <th>open</th>\n",
       "      <th>high</th>\n",
       "      <th>low</th>\n",
       "      <th>close</th>\n",
       "      <th>volume</th>\n",
       "      <th>open</th>\n",
       "      <th>high</th>\n",
       "      <th>low</th>\n",
       "      <th>close</th>\n",
       "      <th>volume</th>\n",
       "    </tr>\n",
       "  </thead>\n",
       "  <tbody>\n",
       "    <tr>\n",
       "      <th>2019-05-07</th>\n",
       "      <td>108.63</td>\n",
       "      <td>108.7000</td>\n",
       "      <td>108.585</td>\n",
       "      <td>108.62</td>\n",
       "      <td>2788574.0</td>\n",
       "      <td>NaN</td>\n",
       "      <td>NaN</td>\n",
       "      <td>NaN</td>\n",
       "      <td>NaN</td>\n",
       "      <td>NaN</td>\n",
       "    </tr>\n",
       "    <tr>\n",
       "      <th>2019-05-08</th>\n",
       "      <td>108.74</td>\n",
       "      <td>108.8100</td>\n",
       "      <td>108.550</td>\n",
       "      <td>108.57</td>\n",
       "      <td>5808492.0</td>\n",
       "      <td>287.53</td>\n",
       "      <td>289.43</td>\n",
       "      <td>286.87</td>\n",
       "      <td>287.5600</td>\n",
       "      <td>75117753.0</td>\n",
       "    </tr>\n",
       "    <tr>\n",
       "      <th>2019-05-09</th>\n",
       "      <td>108.78</td>\n",
       "      <td>108.8100</td>\n",
       "      <td>108.550</td>\n",
       "      <td>108.67</td>\n",
       "      <td>4669136.0</td>\n",
       "      <td>285.23</td>\n",
       "      <td>287.33</td>\n",
       "      <td>283.30</td>\n",
       "      <td>286.7500</td>\n",
       "      <td>90532298.0</td>\n",
       "    </tr>\n",
       "    <tr>\n",
       "      <th>2019-05-10</th>\n",
       "      <td>108.74</td>\n",
       "      <td>108.8200</td>\n",
       "      <td>108.630</td>\n",
       "      <td>108.67</td>\n",
       "      <td>4810765.0</td>\n",
       "      <td>285.62</td>\n",
       "      <td>288.94</td>\n",
       "      <td>282.30</td>\n",
       "      <td>288.0300</td>\n",
       "      <td>97407327.0</td>\n",
       "    </tr>\n",
       "    <tr>\n",
       "      <th>2019-05-13</th>\n",
       "      <td>108.83</td>\n",
       "      <td>108.9768</td>\n",
       "      <td>108.815</td>\n",
       "      <td>108.86</td>\n",
       "      <td>5116696.0</td>\n",
       "      <td>282.42</td>\n",
       "      <td>283.49</td>\n",
       "      <td>279.93</td>\n",
       "      <td>280.9905</td>\n",
       "      <td>106597028.0</td>\n",
       "    </tr>\n",
       "  </tbody>\n",
       "</table>\n",
       "</div>"
      ],
      "text/plain": [
       "               AGG                                           SPY          \\\n",
       "              open      high      low   close     volume    open    high   \n",
       "2019-05-07  108.63  108.7000  108.585  108.62  2788574.0     NaN     NaN   \n",
       "2019-05-08  108.74  108.8100  108.550  108.57  5808492.0  287.53  289.43   \n",
       "2019-05-09  108.78  108.8100  108.550  108.67  4669136.0  285.23  287.33   \n",
       "2019-05-10  108.74  108.8200  108.630  108.67  4810765.0  285.62  288.94   \n",
       "2019-05-13  108.83  108.9768  108.815  108.86  5116696.0  282.42  283.49   \n",
       "\n",
       "                                           \n",
       "               low     close       volume  \n",
       "2019-05-07     NaN       NaN          NaN  \n",
       "2019-05-08  286.87  287.5600   75117753.0  \n",
       "2019-05-09  283.30  286.7500   90532298.0  \n",
       "2019-05-10  282.30  288.0300   97407327.0  \n",
       "2019-05-13  279.93  280.9905  106597028.0  "
      ]
     },
     "execution_count": 15,
     "metadata": {},
     "output_type": "execute_result"
    }
   ],
   "source": [
    "# Get 5 years' worth of historical data for SPY and AGG\n",
    "tickers = [\"AGG\", \"SPY\"]\n",
    "df_stock_data = api.get_barset(\n",
    "    tickers,\n",
    "    timeframe,\n",
    "    start = start_date,\n",
    "    end = end_date,\n",
    "    limit = 500,\n",
    ").df\n",
    "\n",
    "df_stock_data.index = df_stock_data.index.date\n",
    "\n",
    "# Display sample data\n",
    "df_stock_data.head()"
   ]
  },
  {
   "cell_type": "code",
   "execution_count": 16,
   "metadata": {},
   "outputs": [],
   "source": [
    "df_stock_data = df_stock_data.dropna()"
   ]
  },
  {
   "cell_type": "code",
   "execution_count": 17,
   "metadata": {},
   "outputs": [
    {
     "data": {
      "text/plain": [
       "AGG  open      0\n",
       "     high      0\n",
       "     low       0\n",
       "     close     0\n",
       "     volume    0\n",
       "SPY  open      0\n",
       "     high      0\n",
       "     low       0\n",
       "     close     0\n",
       "     volume    0\n",
       "dtype: int64"
      ]
     },
     "execution_count": 17,
     "metadata": {},
     "output_type": "execute_result"
    }
   ],
   "source": [
    "df_stock_data.isnull().sum()"
   ]
  },
  {
   "cell_type": "code",
   "execution_count": 18,
   "metadata": {},
   "outputs": [
    {
     "data": {
      "text/html": [
       "<div>\n",
       "<style scoped>\n",
       "    .dataframe tbody tr th:only-of-type {\n",
       "        vertical-align: middle;\n",
       "    }\n",
       "\n",
       "    .dataframe tbody tr th {\n",
       "        vertical-align: top;\n",
       "    }\n",
       "\n",
       "    .dataframe thead tr th {\n",
       "        text-align: left;\n",
       "    }\n",
       "</style>\n",
       "<table border=\"1\" class=\"dataframe\">\n",
       "  <thead>\n",
       "    <tr>\n",
       "      <th></th>\n",
       "      <th colspan=\"5\" halign=\"left\">AGG</th>\n",
       "      <th colspan=\"5\" halign=\"left\">SPY</th>\n",
       "    </tr>\n",
       "    <tr>\n",
       "      <th></th>\n",
       "      <th>open</th>\n",
       "      <th>high</th>\n",
       "      <th>low</th>\n",
       "      <th>close</th>\n",
       "      <th>volume</th>\n",
       "      <th>open</th>\n",
       "      <th>high</th>\n",
       "      <th>low</th>\n",
       "      <th>close</th>\n",
       "      <th>volume</th>\n",
       "    </tr>\n",
       "  </thead>\n",
       "  <tbody>\n",
       "    <tr>\n",
       "      <th>2019-05-08</th>\n",
       "      <td>108.74</td>\n",
       "      <td>108.8100</td>\n",
       "      <td>108.550</td>\n",
       "      <td>108.57</td>\n",
       "      <td>5808492.0</td>\n",
       "      <td>287.53</td>\n",
       "      <td>289.43</td>\n",
       "      <td>286.87</td>\n",
       "      <td>287.5600</td>\n",
       "      <td>75117753.0</td>\n",
       "    </tr>\n",
       "    <tr>\n",
       "      <th>2019-05-09</th>\n",
       "      <td>108.78</td>\n",
       "      <td>108.8100</td>\n",
       "      <td>108.550</td>\n",
       "      <td>108.67</td>\n",
       "      <td>4669136.0</td>\n",
       "      <td>285.23</td>\n",
       "      <td>287.33</td>\n",
       "      <td>283.30</td>\n",
       "      <td>286.7500</td>\n",
       "      <td>90532298.0</td>\n",
       "    </tr>\n",
       "    <tr>\n",
       "      <th>2019-05-10</th>\n",
       "      <td>108.74</td>\n",
       "      <td>108.8200</td>\n",
       "      <td>108.630</td>\n",
       "      <td>108.67</td>\n",
       "      <td>4810765.0</td>\n",
       "      <td>285.62</td>\n",
       "      <td>288.94</td>\n",
       "      <td>282.30</td>\n",
       "      <td>288.0300</td>\n",
       "      <td>97407327.0</td>\n",
       "    </tr>\n",
       "    <tr>\n",
       "      <th>2019-05-13</th>\n",
       "      <td>108.83</td>\n",
       "      <td>108.9768</td>\n",
       "      <td>108.815</td>\n",
       "      <td>108.86</td>\n",
       "      <td>5116696.0</td>\n",
       "      <td>282.42</td>\n",
       "      <td>283.49</td>\n",
       "      <td>279.93</td>\n",
       "      <td>280.9905</td>\n",
       "      <td>106597028.0</td>\n",
       "    </tr>\n",
       "    <tr>\n",
       "      <th>2019-05-14</th>\n",
       "      <td>108.90</td>\n",
       "      <td>108.9700</td>\n",
       "      <td>108.740</td>\n",
       "      <td>108.94</td>\n",
       "      <td>4976560.0</td>\n",
       "      <td>281.99</td>\n",
       "      <td>285.10</td>\n",
       "      <td>281.85</td>\n",
       "      <td>283.3300</td>\n",
       "      <td>68269143.0</td>\n",
       "    </tr>\n",
       "  </tbody>\n",
       "</table>\n",
       "</div>"
      ],
      "text/plain": [
       "               AGG                                           SPY          \\\n",
       "              open      high      low   close     volume    open    high   \n",
       "2019-05-08  108.74  108.8100  108.550  108.57  5808492.0  287.53  289.43   \n",
       "2019-05-09  108.78  108.8100  108.550  108.67  4669136.0  285.23  287.33   \n",
       "2019-05-10  108.74  108.8200  108.630  108.67  4810765.0  285.62  288.94   \n",
       "2019-05-13  108.83  108.9768  108.815  108.86  5116696.0  282.42  283.49   \n",
       "2019-05-14  108.90  108.9700  108.740  108.94  4976560.0  281.99  285.10   \n",
       "\n",
       "                                           \n",
       "               low     close       volume  \n",
       "2019-05-08  286.87  287.5600   75117753.0  \n",
       "2019-05-09  283.30  286.7500   90532298.0  \n",
       "2019-05-10  282.30  288.0300   97407327.0  \n",
       "2019-05-13  279.93  280.9905  106597028.0  \n",
       "2019-05-14  281.85  283.3300   68269143.0  "
      ]
     },
     "execution_count": 18,
     "metadata": {},
     "output_type": "execute_result"
    }
   ],
   "source": [
    "df_stock_data.head()"
   ]
  },
  {
   "cell_type": "code",
   "execution_count": 19,
   "metadata": {},
   "outputs": [],
   "source": [
    "# Configuring a Monte Carlo simulation to forecast 30 years cumulative returns\n",
    "MC_even_dist = MCSimulation(portfolio_data = df_stock_data, weights = [.40, .60], num_simulation = 500, num_trading_days = 252*30)"
   ]
  },
  {
   "cell_type": "code",
   "execution_count": 20,
   "metadata": {},
   "outputs": [
    {
     "data": {
      "text/html": [
       "<div>\n",
       "<style scoped>\n",
       "    .dataframe tbody tr th:only-of-type {\n",
       "        vertical-align: middle;\n",
       "    }\n",
       "\n",
       "    .dataframe tbody tr th {\n",
       "        vertical-align: top;\n",
       "    }\n",
       "\n",
       "    .dataframe thead tr th {\n",
       "        text-align: left;\n",
       "    }\n",
       "</style>\n",
       "<table border=\"1\" class=\"dataframe\">\n",
       "  <thead>\n",
       "    <tr>\n",
       "      <th></th>\n",
       "      <th colspan=\"6\" halign=\"left\">AGG</th>\n",
       "      <th colspan=\"6\" halign=\"left\">SPY</th>\n",
       "    </tr>\n",
       "    <tr>\n",
       "      <th></th>\n",
       "      <th>open</th>\n",
       "      <th>high</th>\n",
       "      <th>low</th>\n",
       "      <th>close</th>\n",
       "      <th>volume</th>\n",
       "      <th>daily_return</th>\n",
       "      <th>open</th>\n",
       "      <th>high</th>\n",
       "      <th>low</th>\n",
       "      <th>close</th>\n",
       "      <th>volume</th>\n",
       "      <th>daily_return</th>\n",
       "    </tr>\n",
       "  </thead>\n",
       "  <tbody>\n",
       "    <tr>\n",
       "      <th>2019-05-08</th>\n",
       "      <td>108.74</td>\n",
       "      <td>108.8100</td>\n",
       "      <td>108.550</td>\n",
       "      <td>108.57</td>\n",
       "      <td>5808492.0</td>\n",
       "      <td>NaN</td>\n",
       "      <td>287.53</td>\n",
       "      <td>289.43</td>\n",
       "      <td>286.87</td>\n",
       "      <td>287.5600</td>\n",
       "      <td>75117753.0</td>\n",
       "      <td>NaN</td>\n",
       "    </tr>\n",
       "    <tr>\n",
       "      <th>2019-05-09</th>\n",
       "      <td>108.78</td>\n",
       "      <td>108.8100</td>\n",
       "      <td>108.550</td>\n",
       "      <td>108.67</td>\n",
       "      <td>4669136.0</td>\n",
       "      <td>0.000921</td>\n",
       "      <td>285.23</td>\n",
       "      <td>287.33</td>\n",
       "      <td>283.30</td>\n",
       "      <td>286.7500</td>\n",
       "      <td>90532298.0</td>\n",
       "      <td>-0.002817</td>\n",
       "    </tr>\n",
       "    <tr>\n",
       "      <th>2019-05-10</th>\n",
       "      <td>108.74</td>\n",
       "      <td>108.8200</td>\n",
       "      <td>108.630</td>\n",
       "      <td>108.67</td>\n",
       "      <td>4810765.0</td>\n",
       "      <td>0.000000</td>\n",
       "      <td>285.62</td>\n",
       "      <td>288.94</td>\n",
       "      <td>282.30</td>\n",
       "      <td>288.0300</td>\n",
       "      <td>97407327.0</td>\n",
       "      <td>0.004464</td>\n",
       "    </tr>\n",
       "    <tr>\n",
       "      <th>2019-05-13</th>\n",
       "      <td>108.83</td>\n",
       "      <td>108.9768</td>\n",
       "      <td>108.815</td>\n",
       "      <td>108.86</td>\n",
       "      <td>5116696.0</td>\n",
       "      <td>0.001748</td>\n",
       "      <td>282.42</td>\n",
       "      <td>283.49</td>\n",
       "      <td>279.93</td>\n",
       "      <td>280.9905</td>\n",
       "      <td>106597028.0</td>\n",
       "      <td>-0.024440</td>\n",
       "    </tr>\n",
       "    <tr>\n",
       "      <th>2019-05-14</th>\n",
       "      <td>108.90</td>\n",
       "      <td>108.9700</td>\n",
       "      <td>108.740</td>\n",
       "      <td>108.94</td>\n",
       "      <td>4976560.0</td>\n",
       "      <td>0.000735</td>\n",
       "      <td>281.99</td>\n",
       "      <td>285.10</td>\n",
       "      <td>281.85</td>\n",
       "      <td>283.3300</td>\n",
       "      <td>68269143.0</td>\n",
       "      <td>0.008326</td>\n",
       "    </tr>\n",
       "  </tbody>\n",
       "</table>\n",
       "</div>"
      ],
      "text/plain": [
       "               AGG                                                        SPY  \\\n",
       "              open      high      low   close     volume daily_return    open   \n",
       "2019-05-08  108.74  108.8100  108.550  108.57  5808492.0          NaN  287.53   \n",
       "2019-05-09  108.78  108.8100  108.550  108.67  4669136.0     0.000921  285.23   \n",
       "2019-05-10  108.74  108.8200  108.630  108.67  4810765.0     0.000000  285.62   \n",
       "2019-05-13  108.83  108.9768  108.815  108.86  5116696.0     0.001748  282.42   \n",
       "2019-05-14  108.90  108.9700  108.740  108.94  4976560.0     0.000735  281.99   \n",
       "\n",
       "                                                                \n",
       "              high     low     close       volume daily_return  \n",
       "2019-05-08  289.43  286.87  287.5600   75117753.0          NaN  \n",
       "2019-05-09  287.33  283.30  286.7500   90532298.0    -0.002817  \n",
       "2019-05-10  288.94  282.30  288.0300   97407327.0     0.004464  \n",
       "2019-05-13  283.49  279.93  280.9905  106597028.0    -0.024440  \n",
       "2019-05-14  285.10  281.85  283.3300   68269143.0     0.008326  "
      ]
     },
     "execution_count": 20,
     "metadata": {},
     "output_type": "execute_result"
    }
   ],
   "source": [
    "# Printing the simulation input data\n",
    "MC_even_dist.portfolio_data.head()"
   ]
  },
  {
   "cell_type": "code",
   "execution_count": 21,
   "metadata": {},
   "outputs": [],
   "source": [
    "MC_even_dist.portfolio_data = MC_even_dist.portfolio_data.dropna()"
   ]
  },
  {
   "cell_type": "code",
   "execution_count": 22,
   "metadata": {},
   "outputs": [
    {
     "data": {
      "text/plain": [
       "AGG  open            0\n",
       "     high            0\n",
       "     low             0\n",
       "     close           0\n",
       "     volume          0\n",
       "     daily_return    0\n",
       "SPY  open            0\n",
       "     high            0\n",
       "     low             0\n",
       "     close           0\n",
       "     volume          0\n",
       "     daily_return    0\n",
       "dtype: int64"
      ]
     },
     "execution_count": 22,
     "metadata": {},
     "output_type": "execute_result"
    }
   ],
   "source": [
    "MC_even_dist.portfolio_data.isnull().sum()"
   ]
  },
  {
   "cell_type": "code",
   "execution_count": 23,
   "metadata": {},
   "outputs": [
    {
     "data": {
      "text/html": [
       "<div>\n",
       "<style scoped>\n",
       "    .dataframe tbody tr th:only-of-type {\n",
       "        vertical-align: middle;\n",
       "    }\n",
       "\n",
       "    .dataframe tbody tr th {\n",
       "        vertical-align: top;\n",
       "    }\n",
       "\n",
       "    .dataframe thead tr th {\n",
       "        text-align: left;\n",
       "    }\n",
       "</style>\n",
       "<table border=\"1\" class=\"dataframe\">\n",
       "  <thead>\n",
       "    <tr>\n",
       "      <th></th>\n",
       "      <th colspan=\"6\" halign=\"left\">AGG</th>\n",
       "      <th colspan=\"6\" halign=\"left\">SPY</th>\n",
       "    </tr>\n",
       "    <tr>\n",
       "      <th></th>\n",
       "      <th>open</th>\n",
       "      <th>high</th>\n",
       "      <th>low</th>\n",
       "      <th>close</th>\n",
       "      <th>volume</th>\n",
       "      <th>daily_return</th>\n",
       "      <th>open</th>\n",
       "      <th>high</th>\n",
       "      <th>low</th>\n",
       "      <th>close</th>\n",
       "      <th>volume</th>\n",
       "      <th>daily_return</th>\n",
       "    </tr>\n",
       "  </thead>\n",
       "  <tbody>\n",
       "    <tr>\n",
       "      <th>2019-05-09</th>\n",
       "      <td>108.78</td>\n",
       "      <td>108.8100</td>\n",
       "      <td>108.550</td>\n",
       "      <td>108.67</td>\n",
       "      <td>4669136.0</td>\n",
       "      <td>0.000921</td>\n",
       "      <td>285.23</td>\n",
       "      <td>287.33</td>\n",
       "      <td>283.30</td>\n",
       "      <td>286.7500</td>\n",
       "      <td>90532298.0</td>\n",
       "      <td>-0.002817</td>\n",
       "    </tr>\n",
       "    <tr>\n",
       "      <th>2019-05-10</th>\n",
       "      <td>108.74</td>\n",
       "      <td>108.8200</td>\n",
       "      <td>108.630</td>\n",
       "      <td>108.67</td>\n",
       "      <td>4810765.0</td>\n",
       "      <td>0.000000</td>\n",
       "      <td>285.62</td>\n",
       "      <td>288.94</td>\n",
       "      <td>282.30</td>\n",
       "      <td>288.0300</td>\n",
       "      <td>97407327.0</td>\n",
       "      <td>0.004464</td>\n",
       "    </tr>\n",
       "    <tr>\n",
       "      <th>2019-05-13</th>\n",
       "      <td>108.83</td>\n",
       "      <td>108.9768</td>\n",
       "      <td>108.815</td>\n",
       "      <td>108.86</td>\n",
       "      <td>5116696.0</td>\n",
       "      <td>0.001748</td>\n",
       "      <td>282.42</td>\n",
       "      <td>283.49</td>\n",
       "      <td>279.93</td>\n",
       "      <td>280.9905</td>\n",
       "      <td>106597028.0</td>\n",
       "      <td>-0.024440</td>\n",
       "    </tr>\n",
       "    <tr>\n",
       "      <th>2019-05-14</th>\n",
       "      <td>108.90</td>\n",
       "      <td>108.9700</td>\n",
       "      <td>108.740</td>\n",
       "      <td>108.94</td>\n",
       "      <td>4976560.0</td>\n",
       "      <td>0.000735</td>\n",
       "      <td>281.99</td>\n",
       "      <td>285.10</td>\n",
       "      <td>281.85</td>\n",
       "      <td>283.3300</td>\n",
       "      <td>68269143.0</td>\n",
       "      <td>0.008326</td>\n",
       "    </tr>\n",
       "    <tr>\n",
       "      <th>2019-05-15</th>\n",
       "      <td>109.16</td>\n",
       "      <td>109.1800</td>\n",
       "      <td>108.830</td>\n",
       "      <td>109.11</td>\n",
       "      <td>2136097.0</td>\n",
       "      <td>0.001560</td>\n",
       "      <td>281.59</td>\n",
       "      <td>285.77</td>\n",
       "      <td>281.36</td>\n",
       "      <td>285.0600</td>\n",
       "      <td>62989430.0</td>\n",
       "      <td>0.006106</td>\n",
       "    </tr>\n",
       "  </tbody>\n",
       "</table>\n",
       "</div>"
      ],
      "text/plain": [
       "               AGG                                                        SPY  \\\n",
       "              open      high      low   close     volume daily_return    open   \n",
       "2019-05-09  108.78  108.8100  108.550  108.67  4669136.0     0.000921  285.23   \n",
       "2019-05-10  108.74  108.8200  108.630  108.67  4810765.0     0.000000  285.62   \n",
       "2019-05-13  108.83  108.9768  108.815  108.86  5116696.0     0.001748  282.42   \n",
       "2019-05-14  108.90  108.9700  108.740  108.94  4976560.0     0.000735  281.99   \n",
       "2019-05-15  109.16  109.1800  108.830  109.11  2136097.0     0.001560  281.59   \n",
       "\n",
       "                                                                \n",
       "              high     low     close       volume daily_return  \n",
       "2019-05-09  287.33  283.30  286.7500   90532298.0    -0.002817  \n",
       "2019-05-10  288.94  282.30  288.0300   97407327.0     0.004464  \n",
       "2019-05-13  283.49  279.93  280.9905  106597028.0    -0.024440  \n",
       "2019-05-14  285.10  281.85  283.3300   68269143.0     0.008326  \n",
       "2019-05-15  285.77  281.36  285.0600   62989430.0     0.006106  "
      ]
     },
     "execution_count": 23,
     "metadata": {},
     "output_type": "execute_result"
    }
   ],
   "source": [
    "MC_even_dist.portfolio_data.head()"
   ]
  },
  {
   "cell_type": "code",
   "execution_count": 24,
   "metadata": {},
   "outputs": [
    {
     "name": "stdout",
     "output_type": "stream",
     "text": [
      "Running Monte Carlo simulation number 0.\n",
      "Running Monte Carlo simulation number 10.\n",
      "Running Monte Carlo simulation number 20.\n",
      "Running Monte Carlo simulation number 30.\n",
      "Running Monte Carlo simulation number 40.\n",
      "Running Monte Carlo simulation number 50.\n",
      "Running Monte Carlo simulation number 60.\n",
      "Running Monte Carlo simulation number 70.\n",
      "Running Monte Carlo simulation number 80.\n",
      "Running Monte Carlo simulation number 90.\n",
      "Running Monte Carlo simulation number 100.\n",
      "Running Monte Carlo simulation number 110.\n",
      "Running Monte Carlo simulation number 120.\n",
      "Running Monte Carlo simulation number 130.\n",
      "Running Monte Carlo simulation number 140.\n",
      "Running Monte Carlo simulation number 150.\n",
      "Running Monte Carlo simulation number 160.\n",
      "Running Monte Carlo simulation number 170.\n",
      "Running Monte Carlo simulation number 180.\n",
      "Running Monte Carlo simulation number 190.\n",
      "Running Monte Carlo simulation number 200.\n",
      "Running Monte Carlo simulation number 210.\n",
      "Running Monte Carlo simulation number 220.\n",
      "Running Monte Carlo simulation number 230.\n",
      "Running Monte Carlo simulation number 240.\n",
      "Running Monte Carlo simulation number 250.\n",
      "Running Monte Carlo simulation number 260.\n",
      "Running Monte Carlo simulation number 270.\n",
      "Running Monte Carlo simulation number 280.\n",
      "Running Monte Carlo simulation number 290.\n",
      "Running Monte Carlo simulation number 300.\n",
      "Running Monte Carlo simulation number 310.\n",
      "Running Monte Carlo simulation number 320.\n",
      "Running Monte Carlo simulation number 330.\n",
      "Running Monte Carlo simulation number 340.\n",
      "Running Monte Carlo simulation number 350.\n",
      "Running Monte Carlo simulation number 360.\n",
      "Running Monte Carlo simulation number 370.\n",
      "Running Monte Carlo simulation number 380.\n",
      "Running Monte Carlo simulation number 390.\n",
      "Running Monte Carlo simulation number 400.\n",
      "Running Monte Carlo simulation number 410.\n",
      "Running Monte Carlo simulation number 420.\n",
      "Running Monte Carlo simulation number 430.\n",
      "Running Monte Carlo simulation number 440.\n",
      "Running Monte Carlo simulation number 450.\n",
      "Running Monte Carlo simulation number 460.\n",
      "Running Monte Carlo simulation number 470.\n",
      "Running Monte Carlo simulation number 480.\n",
      "Running Monte Carlo simulation number 490.\n"
     ]
    },
    {
     "data": {
      "text/html": [
       "<div>\n",
       "<style scoped>\n",
       "    .dataframe tbody tr th:only-of-type {\n",
       "        vertical-align: middle;\n",
       "    }\n",
       "\n",
       "    .dataframe tbody tr th {\n",
       "        vertical-align: top;\n",
       "    }\n",
       "\n",
       "    .dataframe thead th {\n",
       "        text-align: right;\n",
       "    }\n",
       "</style>\n",
       "<table border=\"1\" class=\"dataframe\">\n",
       "  <thead>\n",
       "    <tr style=\"text-align: right;\">\n",
       "      <th></th>\n",
       "      <th>0</th>\n",
       "      <th>1</th>\n",
       "      <th>2</th>\n",
       "      <th>3</th>\n",
       "      <th>4</th>\n",
       "      <th>5</th>\n",
       "      <th>6</th>\n",
       "      <th>7</th>\n",
       "      <th>8</th>\n",
       "      <th>9</th>\n",
       "      <th>...</th>\n",
       "      <th>490</th>\n",
       "      <th>491</th>\n",
       "      <th>492</th>\n",
       "      <th>493</th>\n",
       "      <th>494</th>\n",
       "      <th>495</th>\n",
       "      <th>496</th>\n",
       "      <th>497</th>\n",
       "      <th>498</th>\n",
       "      <th>499</th>\n",
       "    </tr>\n",
       "  </thead>\n",
       "  <tbody>\n",
       "    <tr>\n",
       "      <th>0</th>\n",
       "      <td>1.000000</td>\n",
       "      <td>1.000000</td>\n",
       "      <td>1.000000</td>\n",
       "      <td>1.000000</td>\n",
       "      <td>1.000000</td>\n",
       "      <td>1.000000</td>\n",
       "      <td>1.000000</td>\n",
       "      <td>1.000000</td>\n",
       "      <td>1.000000</td>\n",
       "      <td>1.000000</td>\n",
       "      <td>...</td>\n",
       "      <td>1.000000</td>\n",
       "      <td>1.000000</td>\n",
       "      <td>1.000000</td>\n",
       "      <td>1.000000</td>\n",
       "      <td>1.000000</td>\n",
       "      <td>1.000000</td>\n",
       "      <td>1.000000</td>\n",
       "      <td>1.000000</td>\n",
       "      <td>1.000000</td>\n",
       "      <td>1.000000</td>\n",
       "    </tr>\n",
       "    <tr>\n",
       "      <th>1</th>\n",
       "      <td>1.004028</td>\n",
       "      <td>1.006523</td>\n",
       "      <td>1.003874</td>\n",
       "      <td>0.991778</td>\n",
       "      <td>0.998408</td>\n",
       "      <td>1.009628</td>\n",
       "      <td>0.986911</td>\n",
       "      <td>1.021819</td>\n",
       "      <td>1.010923</td>\n",
       "      <td>0.999004</td>\n",
       "      <td>...</td>\n",
       "      <td>0.986451</td>\n",
       "      <td>1.004552</td>\n",
       "      <td>0.996909</td>\n",
       "      <td>1.000080</td>\n",
       "      <td>0.998494</td>\n",
       "      <td>1.007868</td>\n",
       "      <td>0.997008</td>\n",
       "      <td>0.991800</td>\n",
       "      <td>0.986530</td>\n",
       "      <td>1.020208</td>\n",
       "    </tr>\n",
       "    <tr>\n",
       "      <th>2</th>\n",
       "      <td>0.997278</td>\n",
       "      <td>0.993051</td>\n",
       "      <td>1.008287</td>\n",
       "      <td>0.992749</td>\n",
       "      <td>0.993848</td>\n",
       "      <td>1.025500</td>\n",
       "      <td>0.969929</td>\n",
       "      <td>1.014678</td>\n",
       "      <td>1.036070</td>\n",
       "      <td>1.002749</td>\n",
       "      <td>...</td>\n",
       "      <td>0.999551</td>\n",
       "      <td>1.016855</td>\n",
       "      <td>1.003761</td>\n",
       "      <td>1.015545</td>\n",
       "      <td>0.985534</td>\n",
       "      <td>1.009775</td>\n",
       "      <td>0.999313</td>\n",
       "      <td>0.978957</td>\n",
       "      <td>0.982434</td>\n",
       "      <td>0.997338</td>\n",
       "    </tr>\n",
       "    <tr>\n",
       "      <th>3</th>\n",
       "      <td>1.000132</td>\n",
       "      <td>0.989892</td>\n",
       "      <td>1.013704</td>\n",
       "      <td>0.991194</td>\n",
       "      <td>0.991533</td>\n",
       "      <td>1.028371</td>\n",
       "      <td>0.973943</td>\n",
       "      <td>1.014997</td>\n",
       "      <td>1.037596</td>\n",
       "      <td>1.007184</td>\n",
       "      <td>...</td>\n",
       "      <td>0.999417</td>\n",
       "      <td>1.012947</td>\n",
       "      <td>1.006314</td>\n",
       "      <td>1.033197</td>\n",
       "      <td>0.995136</td>\n",
       "      <td>1.025941</td>\n",
       "      <td>0.995378</td>\n",
       "      <td>0.972562</td>\n",
       "      <td>0.970425</td>\n",
       "      <td>1.001160</td>\n",
       "    </tr>\n",
       "    <tr>\n",
       "      <th>4</th>\n",
       "      <td>0.989965</td>\n",
       "      <td>1.005739</td>\n",
       "      <td>1.030107</td>\n",
       "      <td>0.988053</td>\n",
       "      <td>0.998859</td>\n",
       "      <td>1.020312</td>\n",
       "      <td>0.986084</td>\n",
       "      <td>1.019204</td>\n",
       "      <td>1.062772</td>\n",
       "      <td>0.992674</td>\n",
       "      <td>...</td>\n",
       "      <td>1.017374</td>\n",
       "      <td>1.020099</td>\n",
       "      <td>1.006661</td>\n",
       "      <td>1.034656</td>\n",
       "      <td>0.996106</td>\n",
       "      <td>1.015366</td>\n",
       "      <td>0.997864</td>\n",
       "      <td>0.960679</td>\n",
       "      <td>0.972777</td>\n",
       "      <td>0.996982</td>\n",
       "    </tr>\n",
       "    <tr>\n",
       "      <th>...</th>\n",
       "      <td>...</td>\n",
       "      <td>...</td>\n",
       "      <td>...</td>\n",
       "      <td>...</td>\n",
       "      <td>...</td>\n",
       "      <td>...</td>\n",
       "      <td>...</td>\n",
       "      <td>...</td>\n",
       "      <td>...</td>\n",
       "      <td>...</td>\n",
       "      <td>...</td>\n",
       "      <td>...</td>\n",
       "      <td>...</td>\n",
       "      <td>...</td>\n",
       "      <td>...</td>\n",
       "      <td>...</td>\n",
       "      <td>...</td>\n",
       "      <td>...</td>\n",
       "      <td>...</td>\n",
       "      <td>...</td>\n",
       "      <td>...</td>\n",
       "    </tr>\n",
       "    <tr>\n",
       "      <th>7556</th>\n",
       "      <td>30.478838</td>\n",
       "      <td>93.986980</td>\n",
       "      <td>61.456110</td>\n",
       "      <td>22.077978</td>\n",
       "      <td>13.933034</td>\n",
       "      <td>395.034438</td>\n",
       "      <td>127.377322</td>\n",
       "      <td>44.562922</td>\n",
       "      <td>24.094756</td>\n",
       "      <td>51.361278</td>\n",
       "      <td>...</td>\n",
       "      <td>129.157980</td>\n",
       "      <td>121.581620</td>\n",
       "      <td>258.710087</td>\n",
       "      <td>24.843065</td>\n",
       "      <td>102.078456</td>\n",
       "      <td>35.197380</td>\n",
       "      <td>16.435512</td>\n",
       "      <td>250.747184</td>\n",
       "      <td>185.054631</td>\n",
       "      <td>88.801846</td>\n",
       "    </tr>\n",
       "    <tr>\n",
       "      <th>7557</th>\n",
       "      <td>30.331619</td>\n",
       "      <td>94.389972</td>\n",
       "      <td>61.157542</td>\n",
       "      <td>22.039624</td>\n",
       "      <td>13.850542</td>\n",
       "      <td>395.103223</td>\n",
       "      <td>126.366823</td>\n",
       "      <td>44.588167</td>\n",
       "      <td>24.041537</td>\n",
       "      <td>51.072516</td>\n",
       "      <td>...</td>\n",
       "      <td>126.494713</td>\n",
       "      <td>121.271747</td>\n",
       "      <td>258.468050</td>\n",
       "      <td>24.772007</td>\n",
       "      <td>101.417423</td>\n",
       "      <td>35.428493</td>\n",
       "      <td>16.375621</td>\n",
       "      <td>250.081411</td>\n",
       "      <td>183.235773</td>\n",
       "      <td>88.548294</td>\n",
       "    </tr>\n",
       "    <tr>\n",
       "      <th>7558</th>\n",
       "      <td>30.241975</td>\n",
       "      <td>94.511629</td>\n",
       "      <td>61.496401</td>\n",
       "      <td>22.364964</td>\n",
       "      <td>13.927424</td>\n",
       "      <td>399.446194</td>\n",
       "      <td>127.564271</td>\n",
       "      <td>44.598778</td>\n",
       "      <td>23.600047</td>\n",
       "      <td>51.295310</td>\n",
       "      <td>...</td>\n",
       "      <td>126.008877</td>\n",
       "      <td>120.987880</td>\n",
       "      <td>254.779603</td>\n",
       "      <td>24.707771</td>\n",
       "      <td>101.423622</td>\n",
       "      <td>35.309718</td>\n",
       "      <td>16.315420</td>\n",
       "      <td>250.930341</td>\n",
       "      <td>183.747008</td>\n",
       "      <td>88.207603</td>\n",
       "    </tr>\n",
       "    <tr>\n",
       "      <th>7559</th>\n",
       "      <td>29.918991</td>\n",
       "      <td>94.878811</td>\n",
       "      <td>61.465956</td>\n",
       "      <td>22.569442</td>\n",
       "      <td>13.742800</td>\n",
       "      <td>406.084534</td>\n",
       "      <td>128.330064</td>\n",
       "      <td>43.959257</td>\n",
       "      <td>23.559132</td>\n",
       "      <td>51.478836</td>\n",
       "      <td>...</td>\n",
       "      <td>125.990160</td>\n",
       "      <td>121.826649</td>\n",
       "      <td>255.282868</td>\n",
       "      <td>24.746190</td>\n",
       "      <td>100.686988</td>\n",
       "      <td>34.531039</td>\n",
       "      <td>16.477899</td>\n",
       "      <td>247.743703</td>\n",
       "      <td>184.774029</td>\n",
       "      <td>88.451304</td>\n",
       "    </tr>\n",
       "    <tr>\n",
       "      <th>7560</th>\n",
       "      <td>29.970614</td>\n",
       "      <td>95.010196</td>\n",
       "      <td>62.689270</td>\n",
       "      <td>23.061061</td>\n",
       "      <td>13.882358</td>\n",
       "      <td>409.340992</td>\n",
       "      <td>128.488810</td>\n",
       "      <td>44.598896</td>\n",
       "      <td>24.016246</td>\n",
       "      <td>51.423063</td>\n",
       "      <td>...</td>\n",
       "      <td>127.469885</td>\n",
       "      <td>121.244603</td>\n",
       "      <td>260.996199</td>\n",
       "      <td>24.725182</td>\n",
       "      <td>100.181385</td>\n",
       "      <td>34.452181</td>\n",
       "      <td>16.345873</td>\n",
       "      <td>241.507130</td>\n",
       "      <td>183.261435</td>\n",
       "      <td>88.163675</td>\n",
       "    </tr>\n",
       "  </tbody>\n",
       "</table>\n",
       "<p>7561 rows × 500 columns</p>\n",
       "</div>"
      ],
      "text/plain": [
       "            0          1          2          3          4           5    \\\n",
       "0      1.000000   1.000000   1.000000   1.000000   1.000000    1.000000   \n",
       "1      1.004028   1.006523   1.003874   0.991778   0.998408    1.009628   \n",
       "2      0.997278   0.993051   1.008287   0.992749   0.993848    1.025500   \n",
       "3      1.000132   0.989892   1.013704   0.991194   0.991533    1.028371   \n",
       "4      0.989965   1.005739   1.030107   0.988053   0.998859    1.020312   \n",
       "...         ...        ...        ...        ...        ...         ...   \n",
       "7556  30.478838  93.986980  61.456110  22.077978  13.933034  395.034438   \n",
       "7557  30.331619  94.389972  61.157542  22.039624  13.850542  395.103223   \n",
       "7558  30.241975  94.511629  61.496401  22.364964  13.927424  399.446194   \n",
       "7559  29.918991  94.878811  61.465956  22.569442  13.742800  406.084534   \n",
       "7560  29.970614  95.010196  62.689270  23.061061  13.882358  409.340992   \n",
       "\n",
       "             6          7          8          9    ...         490  \\\n",
       "0       1.000000   1.000000   1.000000   1.000000  ...    1.000000   \n",
       "1       0.986911   1.021819   1.010923   0.999004  ...    0.986451   \n",
       "2       0.969929   1.014678   1.036070   1.002749  ...    0.999551   \n",
       "3       0.973943   1.014997   1.037596   1.007184  ...    0.999417   \n",
       "4       0.986084   1.019204   1.062772   0.992674  ...    1.017374   \n",
       "...          ...        ...        ...        ...  ...         ...   \n",
       "7556  127.377322  44.562922  24.094756  51.361278  ...  129.157980   \n",
       "7557  126.366823  44.588167  24.041537  51.072516  ...  126.494713   \n",
       "7558  127.564271  44.598778  23.600047  51.295310  ...  126.008877   \n",
       "7559  128.330064  43.959257  23.559132  51.478836  ...  125.990160   \n",
       "7560  128.488810  44.598896  24.016246  51.423063  ...  127.469885   \n",
       "\n",
       "             491         492        493         494        495        496  \\\n",
       "0       1.000000    1.000000   1.000000    1.000000   1.000000   1.000000   \n",
       "1       1.004552    0.996909   1.000080    0.998494   1.007868   0.997008   \n",
       "2       1.016855    1.003761   1.015545    0.985534   1.009775   0.999313   \n",
       "3       1.012947    1.006314   1.033197    0.995136   1.025941   0.995378   \n",
       "4       1.020099    1.006661   1.034656    0.996106   1.015366   0.997864   \n",
       "...          ...         ...        ...         ...        ...        ...   \n",
       "7556  121.581620  258.710087  24.843065  102.078456  35.197380  16.435512   \n",
       "7557  121.271747  258.468050  24.772007  101.417423  35.428493  16.375621   \n",
       "7558  120.987880  254.779603  24.707771  101.423622  35.309718  16.315420   \n",
       "7559  121.826649  255.282868  24.746190  100.686988  34.531039  16.477899   \n",
       "7560  121.244603  260.996199  24.725182  100.181385  34.452181  16.345873   \n",
       "\n",
       "             497         498        499  \n",
       "0       1.000000    1.000000   1.000000  \n",
       "1       0.991800    0.986530   1.020208  \n",
       "2       0.978957    0.982434   0.997338  \n",
       "3       0.972562    0.970425   1.001160  \n",
       "4       0.960679    0.972777   0.996982  \n",
       "...          ...         ...        ...  \n",
       "7556  250.747184  185.054631  88.801846  \n",
       "7557  250.081411  183.235773  88.548294  \n",
       "7558  250.930341  183.747008  88.207603  \n",
       "7559  247.743703  184.774029  88.451304  \n",
       "7560  241.507130  183.261435  88.163675  \n",
       "\n",
       "[7561 rows x 500 columns]"
      ]
     },
     "execution_count": 24,
     "metadata": {},
     "output_type": "execute_result"
    }
   ],
   "source": [
    "# Running a Monte Carlo simulation to forecast 30 years cumulative returns\n",
    "MC_even_dist.calc_cumulative_return()"
   ]
  },
  {
   "cell_type": "code",
   "execution_count": 25,
   "metadata": {},
   "outputs": [
    {
     "data": {
      "image/png": "[encoded data removed]",
      "text/plain": [
       "<Figure size 432x288 with 1 Axes>"
      ]
     },
     "metadata": {
      "needs_background": "light"
     },
     "output_type": "display_data"
    }
   ],
   "source": [
    "# Plot simulation outcomes\n",
    "line_plot = MC_even_dist.plot_simulation()"
   ]
  },
  {
   "cell_type": "code",
   "execution_count": 26,
   "metadata": {},
   "outputs": [
    {
     "data": {
      "image/png": "[encoded data removed]",
      "text/plain": [
       "<Figure size 432x288 with 1 Axes>"
      ]
     },
     "metadata": {
      "needs_background": "light"
     },
     "output_type": "display_data"
    }
   ],
   "source": [
    "# Plot probability distribution and confidence intervals\n",
    "dist_plot = MC_even_dist.plot_distribution()"
   ]
  },
  {
   "cell_type": "markdown",
   "metadata": {},
   "source": [
    "### Retirement Analysis"
   ]
  },
  {
   "cell_type": "code",
   "execution_count": 27,
   "metadata": {},
   "outputs": [
    {
     "name": "stdout",
     "output_type": "stream",
     "text": [
      "count           500.000000\n",
      "mean             77.842448\n",
      "std              74.803471\n",
      "min               4.839457\n",
      "25%              29.432766\n",
      "50%              56.231462\n",
      "75%              98.138687\n",
      "max             552.273387\n",
      "95% CI Lower     10.212484\n",
      "95% CI Upper    259.972942\n",
      "Name: 7560, dtype: float64\n"
     ]
    }
   ],
   "source": [
    "# Fetch summary statistics from the Monte Carlo simulation results\n",
    "even_tbl = MC_even_dist.summarize_cumulative_return()\n",
    "\n",
    "# Print summary statistics\n",
    "print(even_tbl)"
   ]
  },
  {
   "cell_type": "markdown",
   "metadata": {},
   "source": [
    "### Calculate the expected portfolio return at the 95% lower and upper confidence intervals based on a `$20,000` initial investment."
   ]
  },
  {
   "cell_type": "code",
   "execution_count": 28,
   "metadata": {},
   "outputs": [
    {
     "name": "stdout",
     "output_type": "stream",
     "text": [
      "There is a 95% chance that an initial investment of $20000 in the portfolio over the next 30 years will end within in the range of $204249.69 and $5199458.84\n"
     ]
    }
   ],
   "source": [
    "# Set initial investment\n",
    "initial_investment = 20000\n",
    "\n",
    "# Use the lower and upper `95%` confidence intervals to calculate the range of the possible outcomes of our $20,000\n",
    "ci_lower = round(even_tbl[8]*20000,2)\n",
    "ci_upper = round(even_tbl[9]*20000,2)\n",
    "\n",
    "# Print results\n",
    "print(f\"There is a 95% chance that an initial investment of ${initial_investment} in the portfolio\"\n",
    "      f\" over the next 30 years will end within in the range of\"\n",
    "      f\" ${ci_lower} and ${ci_upper}\")"
   ]
  },
  {
   "cell_type": "markdown",
   "metadata": {},
   "source": [
    "### Calculate the expected portfolio return at the `95%` lower and upper confidence intervals based on a `50%` increase in the initial investment."
   ]
  },
  {
   "cell_type": "code",
   "execution_count": 29,
   "metadata": {},
   "outputs": [
    {
     "name": "stdout",
     "output_type": "stream",
     "text": [
      "There is a 95% chance that an initial investment of $30000.0 in the portfolio over the next 30 years will end within in the range of $306374.53 and $7799188.25\n"
     ]
    }
   ],
   "source": [
    "# Set initial investment\n",
    "initial_investment = 20000 * 1.5\n",
    "\n",
    "# Use the lower and upper `95%` confidence intervals to calculate the range of the possible outcomes of our $30,000\n",
    "tbl = MC_even_dist.summarize_cumulative_return()\n",
    "ci_lower = round(tbl[8]*20000*1.5,2)\n",
    "ci_upper = round(tbl[9]*20000*1.5,2)\n",
    "\n",
    "# Print results\n",
    "print(f\"There is a 95% chance that an initial investment of ${initial_investment} in the portfolio\"\n",
    "      f\" over the next 30 years will end within in the range of\"\n",
    "      f\" ${ci_lower} and ${ci_upper}\")"
   ]
  },
  {
   "cell_type": "markdown",
   "metadata": {},
   "source": [
    "## Optional Challenge - Early Retirement\n",
    "\n",
    "\n",
    "### Five Years Retirement Option"
   ]
  },
  {
   "cell_type": "code",
   "execution_count": 30,
   "metadata": {},
   "outputs": [],
   "source": [
    "# Configuring a Monte Carlo simulation to forecast 5 years cumulative returns\n",
    "# YOUR CODE HERE!\n",
    "\n",
    "# Print the simulation input data"
   ]
  },
  {
   "cell_type": "code",
   "execution_count": 31,
   "metadata": {},
   "outputs": [],
   "source": [
    "# Running a Monte Carlo simulation to forecast 5 years cumulative returns\n",
    "# YOUR CODE HERE!"
   ]
  },
  {
   "cell_type": "code",
   "execution_count": 32,
   "metadata": {},
   "outputs": [],
   "source": [
    "# Plot simulation outcomes\n",
    "# YOUR CODE HERE!"
   ]
  },
  {
   "cell_type": "code",
   "execution_count": 33,
   "metadata": {},
   "outputs": [],
   "source": [
    "# Plot probability distribution and confidence intervals\n",
    "# YOUR CODE HERE!\n"
   ]
  },
  {
   "cell_type": "code",
   "execution_count": 34,
   "metadata": {},
   "outputs": [],
   "source": [
    "# Fetch summary statistics from the Monte Carlo simulation results\n",
    "# YOUR CODE HERE!\n",
    "\n",
    "# Print summary statistics\n"
   ]
  },
  {
   "cell_type": "code",
   "execution_count": 35,
   "metadata": {},
   "outputs": [],
   "source": [
    "# Set initial investment\n",
    "\n",
    "# Use the lower and upper `95%` confidence intervals to calculate the range of the possible outcomes of our $60,000\n",
    "\n",
    "# Print results\n"
   ]
  },
  {
   "cell_type": "markdown",
   "metadata": {},
   "source": [
    "### Ten Years Retirement Option"
   ]
  },
  {
   "cell_type": "code",
   "execution_count": 36,
   "metadata": {},
   "outputs": [],
   "source": [
    "# Configuring a Monte Carlo simulation to forecast 10 years cumulative returns\n",
    "# YOUR CODE HERE!"
   ]
  },
  {
   "cell_type": "code",
   "execution_count": 37,
   "metadata": {},
   "outputs": [],
   "source": [
    "# Running a Monte Carlo simulation to forecast 10 years cumulative returns\n",
    "# YOUR CODE HERE!"
   ]
  },
  {
   "cell_type": "code",
   "execution_count": 38,
   "metadata": {},
   "outputs": [],
   "source": [
    "# Plot simulation outcomes\n",
    "# YOUR CODE HERE!"
   ]
  },
  {
   "cell_type": "code",
   "execution_count": 39,
   "metadata": {},
   "outputs": [],
   "source": [
    "# Plot probability distribution and confidence intervals\n",
    "# YOUR CODE HERE!"
   ]
  },
  {
   "cell_type": "code",
   "execution_count": 40,
   "metadata": {},
   "outputs": [],
   "source": [
    "# Fetch summary statistics from the Monte Carlo simulation results\n",
    "# YOUR CODE HERE!\n",
    "\n",
    "# Print summary statistics\n",
    "# YOUR CODE HERE!"
   ]
  },
  {
   "cell_type": "code",
   "execution_count": 41,
   "metadata": {},
   "outputs": [],
   "source": [
    "# Set initial investment\n",
    "# YOUR CODE HERE!\n",
    "\n",
    "# Use the lower and upper `95%` confidence intervals to calculate the range of the possible outcomes of our $60,000\n",
    "# YOUR CODE HERE!\n",
    "\n",
    "# Print results"
   ]
  }
 ],
 "metadata": {
  "kernelspec": {
   "display_name": "Python 3",
   "language": "python",
   "name": "python3"
  },
  "language_info": {
   "codemirror_mode": {
    "name": "ipython",
    "version": 3
   },
   "file_extension": ".py",
   "mimetype": "text/x-python",
   "name": "python",
   "nbconvert_exporter": "python",
   "pygments_lexer": "ipython3",
   "version": "3.7.9"
  }
 },
 "nbformat": 4,
 "nbformat_minor": 4
}
