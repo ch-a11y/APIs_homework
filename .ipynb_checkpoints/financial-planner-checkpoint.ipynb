{
 "cells": [
  {
   "cell_type": "markdown",
   "metadata": {},
   "source": [
    "# Unit 5 - Financial Planning\n"
   ]
  },
  {
   "cell_type": "code",
   "execution_count": null,
   "metadata": {},
   "outputs": [],
   "source": [
    "# Initial imports\n",
    "import os\n",
    "import requests\n",
    "import pandas as pd\n",
    "from dotenv import load_dotenv\n",
    "import alpaca_trade_api as tradeapi\n",
    "from MCForecastTools import MCSimulation\n",
    "\n",
    "%matplotlib inline"
   ]
  },
  {
   "cell_type": "code",
   "execution_count": 117,
   "metadata": {},
   "outputs": [
    {
     "data": {
      "text/plain": [
       "True"
      ]
     },
     "execution_count": 117,
     "metadata": {},
     "output_type": "execute_result"
    }
   ],
   "source": [
    "# Load .env enviroment variables\n",
    "load_dotenv()"
   ]
  },
  {
   "cell_type": "markdown",
   "metadata": {},
   "source": [
    "## Part 1 - Personal Finance Planner"
   ]
  },
  {
   "cell_type": "markdown",
   "metadata": {},
   "source": [
    "### Collect Crypto Prices Using the `requests` Library"
   ]
  },
  {
   "cell_type": "code",
   "execution_count": 119,
   "metadata": {},
   "outputs": [],
   "source": [
    "# Set current amount of crypto assets\n",
    "my_btc = 1.2\n",
    "my_eth = 5.3"
   ]
  },
  {
   "cell_type": "code",
   "execution_count": 120,
   "metadata": {},
   "outputs": [],
   "source": [
    "# Crypto API URLs\n",
    "btc_url = \"https://api.alternative.me/v2/ticker/Bitcoin/?convert=CAD\"\n",
    "eth_url = \"https://api.alternative.me/v2/ticker/Ethereum/?convert=CAD\""
   ]
  },
  {
   "cell_type": "code",
   "execution_count": 121,
   "metadata": {},
   "outputs": [
    {
     "name": "stdout",
     "output_type": "stream",
     "text": [
      "The current value of your 1.2 BTC is $45279.60\n",
      "The current value of your 5.3 ETH is $13140.61\n"
     ]
    }
   ],
   "source": [
    "# Fetch current ETH price\n",
    "data_eth = requests.get(eth_url).json()\n",
    "eth_value = data_eth[\"data\"][\"1027\"][\"quotes\"][\"USD\"][\"price\"]\n",
    "\n",
    "\n",
    "# Compute current value of my crpto\n",
    "my_btc_value = my_btc * btc_value\n",
    "my_eth_value = my_eth * eth_value\n",
    "\n",
    "# Print current crypto wallet balance\n",
    "print(f\"The current value of your {my_btc} BTC is ${my_btc_value:0.2f}\")\n",
    "print(f\"The current value of your {my_eth} ETH is ${my_eth_value:0.2f}\")"
   ]
  },
  {
   "cell_type": "markdown",
   "metadata": {},
   "source": [
    "### Collect Investments Data Using Alpaca: `SPY` (stocks) and `AGG` (bonds)"
   ]
  },
  {
   "cell_type": "code",
   "execution_count": 122,
   "metadata": {},
   "outputs": [],
   "source": [
    "# Current amount of shares\n",
    "my_agg = 200\n",
    "my_spy = 50"
   ]
  },
  {
   "cell_type": "code",
   "execution_count": 123,
   "metadata": {},
   "outputs": [],
   "source": [
    "# Set Alpaca API key and secret\n",
    "#alpaca_api_key = os.getenv(\"ALPACA_API_KEY\")\n",
    "alpaca_api_key = os.getenv(\"ALPACA_API_KEY\")\n",
    "alpaca_secret_key = os.getenv(\"ALPACA_SECRET_KEY\")\n",
    "\n",
    "# Create the Alpaca API object\n",
    "api = tradeapi.REST(\n",
    "    alpaca_api_key,\n",
    "    alpaca_secret_key,\n",
    "    api_version=\"v2\")"
   ]
  },
  {
   "cell_type": "code",
   "execution_count": 124,
   "metadata": {},
   "outputs": [
    {
     "data": {
      "text/html": [
       "<div>\n",
       "<style scoped>\n",
       "    .dataframe tbody tr th:only-of-type {\n",
       "        vertical-align: middle;\n",
       "    }\n",
       "\n",
       "    .dataframe tbody tr th {\n",
       "        vertical-align: top;\n",
       "    }\n",
       "\n",
       "    .dataframe thead tr th {\n",
       "        text-align: left;\n",
       "    }\n",
       "\n",
       "    .dataframe thead tr:last-of-type th {\n",
       "        text-align: right;\n",
       "    }\n",
       "</style>\n",
       "<table border=\"1\" class=\"dataframe\">\n",
       "  <thead>\n",
       "    <tr>\n",
       "      <th></th>\n",
       "      <th colspan=\"5\" halign=\"left\">AGG</th>\n",
       "      <th colspan=\"5\" halign=\"left\">SPY</th>\n",
       "    </tr>\n",
       "    <tr>\n",
       "      <th></th>\n",
       "      <th>open</th>\n",
       "      <th>high</th>\n",
       "      <th>low</th>\n",
       "      <th>close</th>\n",
       "      <th>volume</th>\n",
       "      <th>open</th>\n",
       "      <th>high</th>\n",
       "      <th>low</th>\n",
       "      <th>close</th>\n",
       "      <th>volume</th>\n",
       "    </tr>\n",
       "    <tr>\n",
       "      <th>time</th>\n",
       "      <th></th>\n",
       "      <th></th>\n",
       "      <th></th>\n",
       "      <th></th>\n",
       "      <th></th>\n",
       "      <th></th>\n",
       "      <th></th>\n",
       "      <th></th>\n",
       "      <th></th>\n",
       "      <th></th>\n",
       "    </tr>\n",
       "  </thead>\n",
       "  <tbody>\n",
       "    <tr>\n",
       "      <th>2021-05-17 00:00:00-04:00</th>\n",
       "      <td>114.21</td>\n",
       "      <td>115.4999</td>\n",
       "      <td>111.26</td>\n",
       "      <td>114.165</td>\n",
       "      <td>3852318</td>\n",
       "      <td>415.39</td>\n",
       "      <td>416.39</td>\n",
       "      <td>413.36</td>\n",
       "      <td>415.54</td>\n",
       "      <td>57713982</td>\n",
       "    </tr>\n",
       "  </tbody>\n",
       "</table>\n",
       "</div>"
      ],
      "text/plain": [
       "                              AGG                                         SPY  \\\n",
       "                             open      high     low    close   volume    open   \n",
       "time                                                                            \n",
       "2021-05-17 00:00:00-04:00  114.21  115.4999  111.26  114.165  3852318  415.39   \n",
       "\n",
       "                                                             \n",
       "                             high     low   close    volume  \n",
       "time                                                         \n",
       "2021-05-17 00:00:00-04:00  416.39  413.36  415.54  57713982  "
      ]
     },
     "execution_count": 124,
     "metadata": {},
     "output_type": "execute_result"
    }
   ],
   "source": [
    "# Format current date as ISO format\n",
    "today = pd.Timestamp(\"2021-05-17\", tz=\"America/New_York\").isoformat()\n",
    "\n",
    "# Set the tickers\n",
    "tickers = [\"AGG\", \"SPY\"]\n",
    "\n",
    "# Set timeframe to '1D' for Alpaca API\n",
    "timeframe = \"1D\"\n",
    "\n",
    "# Get current closing prices for SPY and AGG\n",
    "df_portfolio = api.get_barset(\n",
    "    tickers,\n",
    "    timeframe,\n",
    "    start = today,\n",
    "    end = today,\n",
    ").df\n",
    "\n",
    "# Preview DataFrame\n",
    "df_portfolio.head()"
   ]
  },
  {
   "cell_type": "code",
   "execution_count": 125,
   "metadata": {},
   "outputs": [
    {
     "name": "stdout",
     "output_type": "stream",
     "text": [
      "Current AGG closing price: $114.165\n",
      "Current SPY closing price: $415.54\n"
     ]
    }
   ],
   "source": [
    "# Pick AGG and SPY close prices\n",
    "\n",
    "agg_close_price = float(df_portfolio[\"AGG\"][\"close\"])                                     \n",
    "spy_close_price = float(df_portfolio[\"SPY\"][\"close\"])\n",
    "                                     \n",
    "# Print AGG and SPY close prices\n",
    "print(f\"Current AGG closing price: ${agg_close_price}\")\n",
    "print(f\"Current SPY closing price: ${spy_close_price}\")"
   ]
  },
  {
   "cell_type": "code",
   "execution_count": 126,
   "metadata": {},
   "outputs": [
    {
     "name": "stdout",
     "output_type": "stream",
     "text": [
      "The current value of your 50 SPY shares is $20777.00\n",
      "The current value of your 200 AGG shares is $22833.00\n"
     ]
    }
   ],
   "source": [
    "# Compute the current value of shares\n",
    "my_agg_value = my_agg * agg_close_price\n",
    "my_spy_value = my_spy * spy_close_price\n",
    "\n",
    "# Print current value of share\n",
    "print(f\"The current value of your {my_spy} SPY shares is ${my_spy_value:0.2f}\")\n",
    "print(f\"The current value of your {my_agg} AGG shares is ${my_agg_value:0.2f}\")"
   ]
  },
  {
   "cell_type": "markdown",
   "metadata": {},
   "source": [
    "### Savings Health Analysis"
   ]
  },
  {
   "cell_type": "code",
   "execution_count": 127,
   "metadata": {},
   "outputs": [
    {
     "data": {
      "text/html": [
       "<div>\n",
       "<style scoped>\n",
       "    .dataframe tbody tr th:only-of-type {\n",
       "        vertical-align: middle;\n",
       "    }\n",
       "\n",
       "    .dataframe tbody tr th {\n",
       "        vertical-align: top;\n",
       "    }\n",
       "\n",
       "    .dataframe thead th {\n",
       "        text-align: right;\n",
       "    }\n",
       "</style>\n",
       "<table border=\"1\" class=\"dataframe\">\n",
       "  <thead>\n",
       "    <tr style=\"text-align: right;\">\n",
       "      <th></th>\n",
       "      <th>amount</th>\n",
       "    </tr>\n",
       "  </thead>\n",
       "  <tbody>\n",
       "    <tr>\n",
       "      <th>crypto</th>\n",
       "      <td>58420.208</td>\n",
       "    </tr>\n",
       "    <tr>\n",
       "      <th>shares</th>\n",
       "      <td>43610.000</td>\n",
       "    </tr>\n",
       "  </tbody>\n",
       "</table>\n",
       "</div>"
      ],
      "text/plain": [
       "           amount\n",
       "crypto  58420.208\n",
       "shares  43610.000"
      ]
     },
     "metadata": {},
     "output_type": "display_data"
    }
   ],
   "source": [
    "# Set monthly household income\n",
    "monthly_income = 12000\n",
    "total_crypto = my_btc_value + my_eth_value\n",
    "total_shares_value = my_agg_value + my_spy_value\n",
    "data = {'amount':[total_crypto, total_shares_value]}\n",
    "\n",
    "# Create savings DataFrame\n",
    "df_savings = pd.DataFrame(data, index =['crypto', 'shares'])\n",
    "\n",
    "# Display savings DataFrame\n",
    "display(df_savings)"
   ]
  },
  {
   "cell_type": "code",
   "execution_count": 128,
   "metadata": {},
   "outputs": [
    {
     "data": {
      "text/plain": [
       "<AxesSubplot:title={'center':'Composition of Personal Savings'}, ylabel='amount'>"
      ]
     },
     "execution_count": 128,
     "metadata": {},
     "output_type": "execute_result"
    },
    {
     "data": {
      "image/png": "[encoded data removed]",
      "text/plain": [
       "<Figure size 432x288 with 1 Axes>"
      ]
     },
     "metadata": {},
     "output_type": "display_data"
    }
   ],
   "source": [
    "# Plot savings pie chart\n",
    "df_savings.plot.pie(y=\"amount\", title=\"Composition of Personal Savings\")"
   ]
  },
  {
   "cell_type": "code",
   "execution_count": 129,
   "metadata": {},
   "outputs": [
    {
     "name": "stdout",
     "output_type": "stream",
     "text": [
      "Congratulations! You have enough money in your emergency fund.\n"
     ]
    }
   ],
   "source": [
    "# Set ideal emergency fund\n",
    "emergency_fund = monthly_income * 3\n",
    "\n",
    "# Calculate total amount of savings\n",
    "total_savings = total_crypto + total_shares_value\n",
    "\n",
    "# Validate saving health\n",
    "if emergency_fund < total_savings:\n",
    "    print(\"Congratulations! You have enough money in your emergency fund.\")\n",
    "elif emergency_fund == total_savings:\n",
    "    print(\"You have reach your financial goal\")\n",
    "else:\n",
    "    print(f\"You are {emergency_fun - total_savings} dollars away from reaching the goal\")"
   ]
  },
  {
   "cell_type": "markdown",
   "metadata": {},
   "source": [
    "## Part 2 - Retirement Planning\n",
    "\n",
    "### Monte Carlo Simulation"
   ]
  },
  {
   "cell_type": "code",
   "execution_count": 158,
   "metadata": {},
   "outputs": [],
   "source": [
    "# Set start and end dates of five years back from today.\n",
    "# Sample results may vary from the solution based on the time frame chosen\n",
    "start_date = pd.Timestamp('2016-04-30', tz='America/New_York').isoformat()\n",
    "end_date = pd.Timestamp('2021-04-30', tz='America/New_York').isoformat()"
   ]
  },
  {
   "cell_type": "code",
   "execution_count": 159,
   "metadata": {},
   "outputs": [
    {
     "data": {
      "text/html": [
       "<div>\n",
       "<style scoped>\n",
       "    .dataframe tbody tr th:only-of-type {\n",
       "        vertical-align: middle;\n",
       "    }\n",
       "\n",
       "    .dataframe tbody tr th {\n",
       "        vertical-align: top;\n",
       "    }\n",
       "\n",
       "    .dataframe thead tr th {\n",
       "        text-align: left;\n",
       "    }\n",
       "</style>\n",
       "<table border=\"1\" class=\"dataframe\">\n",
       "  <thead>\n",
       "    <tr>\n",
       "      <th></th>\n",
       "      <th colspan=\"5\" halign=\"left\">AGG</th>\n",
       "      <th colspan=\"5\" halign=\"left\">SPY</th>\n",
       "    </tr>\n",
       "    <tr>\n",
       "      <th></th>\n",
       "      <th>open</th>\n",
       "      <th>high</th>\n",
       "      <th>low</th>\n",
       "      <th>close</th>\n",
       "      <th>volume</th>\n",
       "      <th>open</th>\n",
       "      <th>high</th>\n",
       "      <th>low</th>\n",
       "      <th>close</th>\n",
       "      <th>volume</th>\n",
       "    </tr>\n",
       "  </thead>\n",
       "  <tbody>\n",
       "    <tr>\n",
       "      <th>2019-05-08</th>\n",
       "      <td>108.74</td>\n",
       "      <td>108.8100</td>\n",
       "      <td>108.550</td>\n",
       "      <td>108.57</td>\n",
       "      <td>5808492</td>\n",
       "      <td>287.53</td>\n",
       "      <td>289.43</td>\n",
       "      <td>286.87</td>\n",
       "      <td>287.5600</td>\n",
       "      <td>75117753</td>\n",
       "    </tr>\n",
       "    <tr>\n",
       "      <th>2019-05-09</th>\n",
       "      <td>108.78</td>\n",
       "      <td>108.8100</td>\n",
       "      <td>108.550</td>\n",
       "      <td>108.67</td>\n",
       "      <td>4669136</td>\n",
       "      <td>285.23</td>\n",
       "      <td>287.33</td>\n",
       "      <td>283.30</td>\n",
       "      <td>286.7500</td>\n",
       "      <td>90532298</td>\n",
       "    </tr>\n",
       "    <tr>\n",
       "      <th>2019-05-10</th>\n",
       "      <td>108.74</td>\n",
       "      <td>108.8200</td>\n",
       "      <td>108.630</td>\n",
       "      <td>108.67</td>\n",
       "      <td>4810765</td>\n",
       "      <td>285.62</td>\n",
       "      <td>288.94</td>\n",
       "      <td>282.30</td>\n",
       "      <td>288.0300</td>\n",
       "      <td>97407327</td>\n",
       "    </tr>\n",
       "    <tr>\n",
       "      <th>2019-05-13</th>\n",
       "      <td>108.83</td>\n",
       "      <td>108.9768</td>\n",
       "      <td>108.815</td>\n",
       "      <td>108.86</td>\n",
       "      <td>5116696</td>\n",
       "      <td>282.42</td>\n",
       "      <td>283.49</td>\n",
       "      <td>279.93</td>\n",
       "      <td>280.9905</td>\n",
       "      <td>106597028</td>\n",
       "    </tr>\n",
       "    <tr>\n",
       "      <th>2019-05-14</th>\n",
       "      <td>108.90</td>\n",
       "      <td>108.9700</td>\n",
       "      <td>108.740</td>\n",
       "      <td>108.94</td>\n",
       "      <td>4976560</td>\n",
       "      <td>281.99</td>\n",
       "      <td>285.10</td>\n",
       "      <td>281.85</td>\n",
       "      <td>283.3300</td>\n",
       "      <td>68269143</td>\n",
       "    </tr>\n",
       "  </tbody>\n",
       "</table>\n",
       "</div>"
      ],
      "text/plain": [
       "               AGG                                         SPY          \\\n",
       "              open      high      low   close   volume    open    high   \n",
       "2019-05-08  108.74  108.8100  108.550  108.57  5808492  287.53  289.43   \n",
       "2019-05-09  108.78  108.8100  108.550  108.67  4669136  285.23  287.33   \n",
       "2019-05-10  108.74  108.8200  108.630  108.67  4810765  285.62  288.94   \n",
       "2019-05-13  108.83  108.9768  108.815  108.86  5116696  282.42  283.49   \n",
       "2019-05-14  108.90  108.9700  108.740  108.94  4976560  281.99  285.10   \n",
       "\n",
       "                                         \n",
       "               low     close     volume  \n",
       "2019-05-08  286.87  287.5600   75117753  \n",
       "2019-05-09  283.30  286.7500   90532298  \n",
       "2019-05-10  282.30  288.0300   97407327  \n",
       "2019-05-13  279.93  280.9905  106597028  \n",
       "2019-05-14  281.85  283.3300   68269143  "
      ]
     },
     "execution_count": 159,
     "metadata": {},
     "output_type": "execute_result"
    }
   ],
   "source": [
    "# Get 5 years' worth of historical data for SPY and AGG\n",
    "tickers = [\"AGG\", \"SPY\"]\n",
    "df_stock_data = api.get_barset(\n",
    "    tickers,\n",
    "    timeframe,\n",
    "    start = start_date,\n",
    "    end = end_date,\n",
    "    limit = 500,\n",
    ").df\n",
    "df_stock_data.index = df_stock_data.index.date\n",
    "\n",
    "# Display sample data\n",
    "df_stock_data.head()"
   ]
  },
  {
   "cell_type": "code",
   "execution_count": 161,
   "metadata": {},
   "outputs": [],
   "source": [
    "# Configuring a Monte Carlo simulation to forecast 30 years cumulative returns\n",
    "MC_even_dist = MCSimulation(portfolio_data = df_stock_data, weights = [.40, .60], num_simulation = 500, num_trading_days = 252*30)"
   ]
  },
  {
   "cell_type": "code",
   "execution_count": 162,
   "metadata": {},
   "outputs": [
    {
     "data": {
      "text/html": [
       "<div>\n",
       "<style scoped>\n",
       "    .dataframe tbody tr th:only-of-type {\n",
       "        vertical-align: middle;\n",
       "    }\n",
       "\n",
       "    .dataframe tbody tr th {\n",
       "        vertical-align: top;\n",
       "    }\n",
       "\n",
       "    .dataframe thead tr th {\n",
       "        text-align: left;\n",
       "    }\n",
       "</style>\n",
       "<table border=\"1\" class=\"dataframe\">\n",
       "  <thead>\n",
       "    <tr>\n",
       "      <th></th>\n",
       "      <th colspan=\"6\" halign=\"left\">AGG</th>\n",
       "      <th colspan=\"6\" halign=\"left\">SPY</th>\n",
       "    </tr>\n",
       "    <tr>\n",
       "      <th></th>\n",
       "      <th>open</th>\n",
       "      <th>high</th>\n",
       "      <th>low</th>\n",
       "      <th>close</th>\n",
       "      <th>volume</th>\n",
       "      <th>daily_return</th>\n",
       "      <th>open</th>\n",
       "      <th>high</th>\n",
       "      <th>low</th>\n",
       "      <th>close</th>\n",
       "      <th>volume</th>\n",
       "      <th>daily_return</th>\n",
       "    </tr>\n",
       "  </thead>\n",
       "  <tbody>\n",
       "    <tr>\n",
       "      <th>2019-05-08</th>\n",
       "      <td>108.74</td>\n",
       "      <td>108.8100</td>\n",
       "      <td>108.550</td>\n",
       "      <td>108.57</td>\n",
       "      <td>5808492</td>\n",
       "      <td>NaN</td>\n",
       "      <td>287.53</td>\n",
       "      <td>289.43</td>\n",
       "      <td>286.87</td>\n",
       "      <td>287.5600</td>\n",
       "      <td>75117753</td>\n",
       "      <td>NaN</td>\n",
       "    </tr>\n",
       "    <tr>\n",
       "      <th>2019-05-09</th>\n",
       "      <td>108.78</td>\n",
       "      <td>108.8100</td>\n",
       "      <td>108.550</td>\n",
       "      <td>108.67</td>\n",
       "      <td>4669136</td>\n",
       "      <td>0.000921</td>\n",
       "      <td>285.23</td>\n",
       "      <td>287.33</td>\n",
       "      <td>283.30</td>\n",
       "      <td>286.7500</td>\n",
       "      <td>90532298</td>\n",
       "      <td>-0.002817</td>\n",
       "    </tr>\n",
       "    <tr>\n",
       "      <th>2019-05-10</th>\n",
       "      <td>108.74</td>\n",
       "      <td>108.8200</td>\n",
       "      <td>108.630</td>\n",
       "      <td>108.67</td>\n",
       "      <td>4810765</td>\n",
       "      <td>0.000000</td>\n",
       "      <td>285.62</td>\n",
       "      <td>288.94</td>\n",
       "      <td>282.30</td>\n",
       "      <td>288.0300</td>\n",
       "      <td>97407327</td>\n",
       "      <td>0.004464</td>\n",
       "    </tr>\n",
       "    <tr>\n",
       "      <th>2019-05-13</th>\n",
       "      <td>108.83</td>\n",
       "      <td>108.9768</td>\n",
       "      <td>108.815</td>\n",
       "      <td>108.86</td>\n",
       "      <td>5116696</td>\n",
       "      <td>0.001748</td>\n",
       "      <td>282.42</td>\n",
       "      <td>283.49</td>\n",
       "      <td>279.93</td>\n",
       "      <td>280.9905</td>\n",
       "      <td>106597028</td>\n",
       "      <td>-0.024440</td>\n",
       "    </tr>\n",
       "    <tr>\n",
       "      <th>2019-05-14</th>\n",
       "      <td>108.90</td>\n",
       "      <td>108.9700</td>\n",
       "      <td>108.740</td>\n",
       "      <td>108.94</td>\n",
       "      <td>4976560</td>\n",
       "      <td>0.000735</td>\n",
       "      <td>281.99</td>\n",
       "      <td>285.10</td>\n",
       "      <td>281.85</td>\n",
       "      <td>283.3300</td>\n",
       "      <td>68269143</td>\n",
       "      <td>0.008326</td>\n",
       "    </tr>\n",
       "  </tbody>\n",
       "</table>\n",
       "</div>"
      ],
      "text/plain": [
       "               AGG                                                      SPY  \\\n",
       "              open      high      low   close   volume daily_return    open   \n",
       "2019-05-08  108.74  108.8100  108.550  108.57  5808492          NaN  287.53   \n",
       "2019-05-09  108.78  108.8100  108.550  108.67  4669136     0.000921  285.23   \n",
       "2019-05-10  108.74  108.8200  108.630  108.67  4810765     0.000000  285.62   \n",
       "2019-05-13  108.83  108.9768  108.815  108.86  5116696     0.001748  282.42   \n",
       "2019-05-14  108.90  108.9700  108.740  108.94  4976560     0.000735  281.99   \n",
       "\n",
       "                                                              \n",
       "              high     low     close     volume daily_return  \n",
       "2019-05-08  289.43  286.87  287.5600   75117753          NaN  \n",
       "2019-05-09  287.33  283.30  286.7500   90532298    -0.002817  \n",
       "2019-05-10  288.94  282.30  288.0300   97407327     0.004464  \n",
       "2019-05-13  283.49  279.93  280.9905  106597028    -0.024440  \n",
       "2019-05-14  285.10  281.85  283.3300   68269143     0.008326  "
      ]
     },
     "execution_count": 162,
     "metadata": {},
     "output_type": "execute_result"
    }
   ],
   "source": [
    "# Printing the simulation input data\n",
    "MC_even_dist.portfolio_data.head()"
   ]
  },
  {
   "cell_type": "code",
   "execution_count": 163,
   "metadata": {},
   "outputs": [
    {
     "name": "stdout",
     "output_type": "stream",
     "text": [
      "Running Monte Carlo simulation number 0.\n",
      "Running Monte Carlo simulation number 10.\n",
      "Running Monte Carlo simulation number 20.\n",
      "Running Monte Carlo simulation number 30.\n",
      "Running Monte Carlo simulation number 40.\n",
      "Running Monte Carlo simulation number 50.\n",
      "Running Monte Carlo simulation number 60.\n",
      "Running Monte Carlo simulation number 70.\n",
      "Running Monte Carlo simulation number 80.\n",
      "Running Monte Carlo simulation number 90.\n",
      "Running Monte Carlo simulation number 100.\n",
      "Running Monte Carlo simulation number 110.\n",
      "Running Monte Carlo simulation number 120.\n",
      "Running Monte Carlo simulation number 130.\n",
      "Running Monte Carlo simulation number 140.\n",
      "Running Monte Carlo simulation number 150.\n",
      "Running Monte Carlo simulation number 160.\n",
      "Running Monte Carlo simulation number 170.\n",
      "Running Monte Carlo simulation number 180.\n",
      "Running Monte Carlo simulation number 190.\n",
      "Running Monte Carlo simulation number 200.\n",
      "Running Monte Carlo simulation number 210.\n",
      "Running Monte Carlo simulation number 220.\n",
      "Running Monte Carlo simulation number 230.\n",
      "Running Monte Carlo simulation number 240.\n",
      "Running Monte Carlo simulation number 250.\n",
      "Running Monte Carlo simulation number 260.\n",
      "Running Monte Carlo simulation number 270.\n",
      "Running Monte Carlo simulation number 280.\n",
      "Running Monte Carlo simulation number 290.\n",
      "Running Monte Carlo simulation number 300.\n",
      "Running Monte Carlo simulation number 310.\n",
      "Running Monte Carlo simulation number 320.\n",
      "Running Monte Carlo simulation number 330.\n",
      "Running Monte Carlo simulation number 340.\n",
      "Running Monte Carlo simulation number 350.\n",
      "Running Monte Carlo simulation number 360.\n",
      "Running Monte Carlo simulation number 370.\n",
      "Running Monte Carlo simulation number 380.\n",
      "Running Monte Carlo simulation number 390.\n",
      "Running Monte Carlo simulation number 400.\n",
      "Running Monte Carlo simulation number 410.\n",
      "Running Monte Carlo simulation number 420.\n",
      "Running Monte Carlo simulation number 430.\n",
      "Running Monte Carlo simulation number 440.\n",
      "Running Monte Carlo simulation number 450.\n",
      "Running Monte Carlo simulation number 460.\n",
      "Running Monte Carlo simulation number 470.\n",
      "Running Monte Carlo simulation number 480.\n",
      "Running Monte Carlo simulation number 490.\n"
     ]
    },
    {
     "data": {
      "text/html": [
       "<div>\n",
       "<style scoped>\n",
       "    .dataframe tbody tr th:only-of-type {\n",
       "        vertical-align: middle;\n",
       "    }\n",
       "\n",
       "    .dataframe tbody tr th {\n",
       "        vertical-align: top;\n",
       "    }\n",
       "\n",
       "    .dataframe thead th {\n",
       "        text-align: right;\n",
       "    }\n",
       "</style>\n",
       "<table border=\"1\" class=\"dataframe\">\n",
       "  <thead>\n",
       "    <tr style=\"text-align: right;\">\n",
       "      <th></th>\n",
       "      <th>0</th>\n",
       "      <th>1</th>\n",
       "      <th>2</th>\n",
       "      <th>3</th>\n",
       "      <th>4</th>\n",
       "      <th>5</th>\n",
       "      <th>6</th>\n",
       "      <th>7</th>\n",
       "      <th>8</th>\n",
       "      <th>9</th>\n",
       "      <th>...</th>\n",
       "      <th>490</th>\n",
       "      <th>491</th>\n",
       "      <th>492</th>\n",
       "      <th>493</th>\n",
       "      <th>494</th>\n",
       "      <th>495</th>\n",
       "      <th>496</th>\n",
       "      <th>497</th>\n",
       "      <th>498</th>\n",
       "      <th>499</th>\n",
       "    </tr>\n",
       "  </thead>\n",
       "  <tbody>\n",
       "    <tr>\n",
       "      <th>0</th>\n",
       "      <td>1.000000</td>\n",
       "      <td>1.000000</td>\n",
       "      <td>1.000000</td>\n",
       "      <td>1.000000</td>\n",
       "      <td>1.000000</td>\n",
       "      <td>1.000000</td>\n",
       "      <td>1.000000</td>\n",
       "      <td>1.000000</td>\n",
       "      <td>1.000000</td>\n",
       "      <td>1.000000</td>\n",
       "      <td>...</td>\n",
       "      <td>1.000000</td>\n",
       "      <td>1.000000</td>\n",
       "      <td>1.000000</td>\n",
       "      <td>1.000000</td>\n",
       "      <td>1.000000</td>\n",
       "      <td>1.000000</td>\n",
       "      <td>1.000000</td>\n",
       "      <td>1.000000</td>\n",
       "      <td>1.000000</td>\n",
       "      <td>1.000000</td>\n",
       "    </tr>\n",
       "    <tr>\n",
       "      <th>1</th>\n",
       "      <td>1.007124</td>\n",
       "      <td>1.001452</td>\n",
       "      <td>0.990941</td>\n",
       "      <td>1.018222</td>\n",
       "      <td>0.986168</td>\n",
       "      <td>0.984866</td>\n",
       "      <td>0.998469</td>\n",
       "      <td>0.991116</td>\n",
       "      <td>1.005893</td>\n",
       "      <td>1.002166</td>\n",
       "      <td>...</td>\n",
       "      <td>1.008732</td>\n",
       "      <td>1.002047</td>\n",
       "      <td>1.001692</td>\n",
       "      <td>1.006172</td>\n",
       "      <td>1.010701</td>\n",
       "      <td>0.984822</td>\n",
       "      <td>0.997713</td>\n",
       "      <td>0.999817</td>\n",
       "      <td>1.004181</td>\n",
       "      <td>1.011205</td>\n",
       "    </tr>\n",
       "    <tr>\n",
       "      <th>2</th>\n",
       "      <td>0.999660</td>\n",
       "      <td>0.990275</td>\n",
       "      <td>0.984614</td>\n",
       "      <td>1.016910</td>\n",
       "      <td>0.994502</td>\n",
       "      <td>0.979708</td>\n",
       "      <td>0.999516</td>\n",
       "      <td>0.994878</td>\n",
       "      <td>0.997183</td>\n",
       "      <td>0.999186</td>\n",
       "      <td>...</td>\n",
       "      <td>0.991000</td>\n",
       "      <td>1.008675</td>\n",
       "      <td>1.025466</td>\n",
       "      <td>1.024394</td>\n",
       "      <td>0.991596</td>\n",
       "      <td>0.983932</td>\n",
       "      <td>0.995776</td>\n",
       "      <td>0.998483</td>\n",
       "      <td>0.994707</td>\n",
       "      <td>1.002210</td>\n",
       "    </tr>\n",
       "    <tr>\n",
       "      <th>3</th>\n",
       "      <td>1.004286</td>\n",
       "      <td>0.999685</td>\n",
       "      <td>1.010773</td>\n",
       "      <td>1.030971</td>\n",
       "      <td>1.006726</td>\n",
       "      <td>0.987482</td>\n",
       "      <td>1.003721</td>\n",
       "      <td>0.983192</td>\n",
       "      <td>1.004577</td>\n",
       "      <td>0.991503</td>\n",
       "      <td>...</td>\n",
       "      <td>1.000461</td>\n",
       "      <td>1.005990</td>\n",
       "      <td>1.027923</td>\n",
       "      <td>1.022299</td>\n",
       "      <td>0.983119</td>\n",
       "      <td>1.000178</td>\n",
       "      <td>0.988690</td>\n",
       "      <td>1.007047</td>\n",
       "      <td>0.991580</td>\n",
       "      <td>0.999962</td>\n",
       "    </tr>\n",
       "    <tr>\n",
       "      <th>4</th>\n",
       "      <td>0.987456</td>\n",
       "      <td>0.994474</td>\n",
       "      <td>1.010173</td>\n",
       "      <td>1.026511</td>\n",
       "      <td>1.015649</td>\n",
       "      <td>0.991937</td>\n",
       "      <td>1.011495</td>\n",
       "      <td>0.984842</td>\n",
       "      <td>1.000647</td>\n",
       "      <td>1.011907</td>\n",
       "      <td>...</td>\n",
       "      <td>0.998432</td>\n",
       "      <td>1.019049</td>\n",
       "      <td>1.005241</td>\n",
       "      <td>1.014752</td>\n",
       "      <td>0.970816</td>\n",
       "      <td>0.992732</td>\n",
       "      <td>0.993061</td>\n",
       "      <td>1.008368</td>\n",
       "      <td>0.979397</td>\n",
       "      <td>1.000603</td>\n",
       "    </tr>\n",
       "    <tr>\n",
       "      <th>...</th>\n",
       "      <td>...</td>\n",
       "      <td>...</td>\n",
       "      <td>...</td>\n",
       "      <td>...</td>\n",
       "      <td>...</td>\n",
       "      <td>...</td>\n",
       "      <td>...</td>\n",
       "      <td>...</td>\n",
       "      <td>...</td>\n",
       "      <td>...</td>\n",
       "      <td>...</td>\n",
       "      <td>...</td>\n",
       "      <td>...</td>\n",
       "      <td>...</td>\n",
       "      <td>...</td>\n",
       "      <td>...</td>\n",
       "      <td>...</td>\n",
       "      <td>...</td>\n",
       "      <td>...</td>\n",
       "      <td>...</td>\n",
       "      <td>...</td>\n",
       "    </tr>\n",
       "    <tr>\n",
       "      <th>7556</th>\n",
       "      <td>68.139913</td>\n",
       "      <td>5.067295</td>\n",
       "      <td>70.708866</td>\n",
       "      <td>149.334414</td>\n",
       "      <td>90.534132</td>\n",
       "      <td>108.109845</td>\n",
       "      <td>43.628790</td>\n",
       "      <td>20.201305</td>\n",
       "      <td>48.292658</td>\n",
       "      <td>38.346339</td>\n",
       "      <td>...</td>\n",
       "      <td>70.681298</td>\n",
       "      <td>267.313458</td>\n",
       "      <td>36.528096</td>\n",
       "      <td>50.970025</td>\n",
       "      <td>12.907800</td>\n",
       "      <td>65.248866</td>\n",
       "      <td>23.260416</td>\n",
       "      <td>77.861141</td>\n",
       "      <td>108.516490</td>\n",
       "      <td>130.207133</td>\n",
       "    </tr>\n",
       "    <tr>\n",
       "      <th>7557</th>\n",
       "      <td>68.474826</td>\n",
       "      <td>5.073466</td>\n",
       "      <td>70.560734</td>\n",
       "      <td>153.906046</td>\n",
       "      <td>91.441650</td>\n",
       "      <td>107.961786</td>\n",
       "      <td>43.784876</td>\n",
       "      <td>19.765709</td>\n",
       "      <td>47.997553</td>\n",
       "      <td>37.870461</td>\n",
       "      <td>...</td>\n",
       "      <td>71.166424</td>\n",
       "      <td>269.034638</td>\n",
       "      <td>36.075701</td>\n",
       "      <td>50.688640</td>\n",
       "      <td>12.953772</td>\n",
       "      <td>65.682225</td>\n",
       "      <td>23.399112</td>\n",
       "      <td>77.589226</td>\n",
       "      <td>109.422390</td>\n",
       "      <td>132.609008</td>\n",
       "    </tr>\n",
       "    <tr>\n",
       "      <th>7558</th>\n",
       "      <td>67.815699</td>\n",
       "      <td>5.044517</td>\n",
       "      <td>69.819771</td>\n",
       "      <td>155.210015</td>\n",
       "      <td>91.619282</td>\n",
       "      <td>108.464258</td>\n",
       "      <td>43.168173</td>\n",
       "      <td>19.906964</td>\n",
       "      <td>48.695119</td>\n",
       "      <td>37.066955</td>\n",
       "      <td>...</td>\n",
       "      <td>72.121798</td>\n",
       "      <td>276.032674</td>\n",
       "      <td>35.913007</td>\n",
       "      <td>50.489027</td>\n",
       "      <td>12.917606</td>\n",
       "      <td>66.701648</td>\n",
       "      <td>23.189529</td>\n",
       "      <td>77.918246</td>\n",
       "      <td>109.822722</td>\n",
       "      <td>130.971892</td>\n",
       "    </tr>\n",
       "    <tr>\n",
       "      <th>7559</th>\n",
       "      <td>68.361305</td>\n",
       "      <td>4.999582</td>\n",
       "      <td>70.073570</td>\n",
       "      <td>154.211172</td>\n",
       "      <td>90.865083</td>\n",
       "      <td>109.255479</td>\n",
       "      <td>42.908197</td>\n",
       "      <td>20.271749</td>\n",
       "      <td>48.223204</td>\n",
       "      <td>37.199620</td>\n",
       "      <td>...</td>\n",
       "      <td>71.193452</td>\n",
       "      <td>275.316211</td>\n",
       "      <td>35.625318</td>\n",
       "      <td>50.230696</td>\n",
       "      <td>12.886895</td>\n",
       "      <td>67.062844</td>\n",
       "      <td>23.110520</td>\n",
       "      <td>79.007118</td>\n",
       "      <td>111.369597</td>\n",
       "      <td>130.371764</td>\n",
       "    </tr>\n",
       "    <tr>\n",
       "      <th>7560</th>\n",
       "      <td>68.451602</td>\n",
       "      <td>5.061004</td>\n",
       "      <td>69.746043</td>\n",
       "      <td>155.383499</td>\n",
       "      <td>89.583553</td>\n",
       "      <td>109.184585</td>\n",
       "      <td>43.030934</td>\n",
       "      <td>20.160949</td>\n",
       "      <td>47.386887</td>\n",
       "      <td>37.004597</td>\n",
       "      <td>...</td>\n",
       "      <td>72.665693</td>\n",
       "      <td>273.424502</td>\n",
       "      <td>35.582136</td>\n",
       "      <td>49.894985</td>\n",
       "      <td>12.937269</td>\n",
       "      <td>67.817225</td>\n",
       "      <td>23.126608</td>\n",
       "      <td>78.762036</td>\n",
       "      <td>112.960794</td>\n",
       "      <td>131.348416</td>\n",
       "    </tr>\n",
       "  </tbody>\n",
       "</table>\n",
       "<p>7561 rows × 500 columns</p>\n",
       "</div>"
      ],
      "text/plain": [
       "            0         1          2           3          4           5    \\\n",
       "0      1.000000  1.000000   1.000000    1.000000   1.000000    1.000000   \n",
       "1      1.007124  1.001452   0.990941    1.018222   0.986168    0.984866   \n",
       "2      0.999660  0.990275   0.984614    1.016910   0.994502    0.979708   \n",
       "3      1.004286  0.999685   1.010773    1.030971   1.006726    0.987482   \n",
       "4      0.987456  0.994474   1.010173    1.026511   1.015649    0.991937   \n",
       "...         ...       ...        ...         ...        ...         ...   \n",
       "7556  68.139913  5.067295  70.708866  149.334414  90.534132  108.109845   \n",
       "7557  68.474826  5.073466  70.560734  153.906046  91.441650  107.961786   \n",
       "7558  67.815699  5.044517  69.819771  155.210015  91.619282  108.464258   \n",
       "7559  68.361305  4.999582  70.073570  154.211172  90.865083  109.255479   \n",
       "7560  68.451602  5.061004  69.746043  155.383499  89.583553  109.184585   \n",
       "\n",
       "            6          7          8          9    ...        490         491  \\\n",
       "0      1.000000   1.000000   1.000000   1.000000  ...   1.000000    1.000000   \n",
       "1      0.998469   0.991116   1.005893   1.002166  ...   1.008732    1.002047   \n",
       "2      0.999516   0.994878   0.997183   0.999186  ...   0.991000    1.008675   \n",
       "3      1.003721   0.983192   1.004577   0.991503  ...   1.000461    1.005990   \n",
       "4      1.011495   0.984842   1.000647   1.011907  ...   0.998432    1.019049   \n",
       "...         ...        ...        ...        ...  ...        ...         ...   \n",
       "7556  43.628790  20.201305  48.292658  38.346339  ...  70.681298  267.313458   \n",
       "7557  43.784876  19.765709  47.997553  37.870461  ...  71.166424  269.034638   \n",
       "7558  43.168173  19.906964  48.695119  37.066955  ...  72.121798  276.032674   \n",
       "7559  42.908197  20.271749  48.223204  37.199620  ...  71.193452  275.316211   \n",
       "7560  43.030934  20.160949  47.386887  37.004597  ...  72.665693  273.424502   \n",
       "\n",
       "            492        493        494        495        496        497  \\\n",
       "0      1.000000   1.000000   1.000000   1.000000   1.000000   1.000000   \n",
       "1      1.001692   1.006172   1.010701   0.984822   0.997713   0.999817   \n",
       "2      1.025466   1.024394   0.991596   0.983932   0.995776   0.998483   \n",
       "3      1.027923   1.022299   0.983119   1.000178   0.988690   1.007047   \n",
       "4      1.005241   1.014752   0.970816   0.992732   0.993061   1.008368   \n",
       "...         ...        ...        ...        ...        ...        ...   \n",
       "7556  36.528096  50.970025  12.907800  65.248866  23.260416  77.861141   \n",
       "7557  36.075701  50.688640  12.953772  65.682225  23.399112  77.589226   \n",
       "7558  35.913007  50.489027  12.917606  66.701648  23.189529  77.918246   \n",
       "7559  35.625318  50.230696  12.886895  67.062844  23.110520  79.007118   \n",
       "7560  35.582136  49.894985  12.937269  67.817225  23.126608  78.762036   \n",
       "\n",
       "             498         499  \n",
       "0       1.000000    1.000000  \n",
       "1       1.004181    1.011205  \n",
       "2       0.994707    1.002210  \n",
       "3       0.991580    0.999962  \n",
       "4       0.979397    1.000603  \n",
       "...          ...         ...  \n",
       "7556  108.516490  130.207133  \n",
       "7557  109.422390  132.609008  \n",
       "7558  109.822722  130.971892  \n",
       "7559  111.369597  130.371764  \n",
       "7560  112.960794  131.348416  \n",
       "\n",
       "[7561 rows x 500 columns]"
      ]
     },
     "execution_count": 163,
     "metadata": {},
     "output_type": "execute_result"
    }
   ],
   "source": [
    "# Running a Monte Carlo simulation to forecast 30 years cumulative returns\n",
    "MC_even_dist.calc_cumulative_return()"
   ]
  },
  {
   "cell_type": "code",
   "execution_count": 164,
   "metadata": {},
   "outputs": [
    {
     "data": {
      "image/png": "[encoded data removed]",
      "text/plain": [
       "<Figure size 432x288 with 1 Axes>"
      ]
     },
     "metadata": {
      "needs_background": "light"
     },
     "output_type": "display_data"
    }
   ],
   "source": [
    "# Plot simulation outcomes\n",
    "line_plot = MC_even_dist.plot_simulation()"
   ]
  },
  {
   "cell_type": "code",
   "execution_count": 165,
   "metadata": {},
   "outputs": [
    {
     "data": {
      "image/png": "[encoded data removed]",
      "text/plain": [
       "<Figure size 432x288 with 1 Axes>"
      ]
     },
     "metadata": {
      "needs_background": "light"
     },
     "output_type": "display_data"
    }
   ],
   "source": [
    "# Plot probability distribution and confidence intervals\n",
    "dist_plot = MC_even_dist.plot_distribution()"
   ]
  },
  {
   "cell_type": "markdown",
   "metadata": {},
   "source": [
    "### Retirement Analysis"
   ]
  },
  {
   "cell_type": "code",
   "execution_count": 166,
   "metadata": {},
   "outputs": [
    {
     "name": "stdout",
     "output_type": "stream",
     "text": [
      "count           500.000000\n",
      "mean             77.424154\n",
      "std              72.638674\n",
      "min               3.924562\n",
      "25%              30.045717\n",
      "50%              53.292788\n",
      "75%              97.292638\n",
      "max             458.992250\n",
      "95% CI Lower     10.139354\n",
      "95% CI Upper    291.840909\n",
      "Name: 7560, dtype: float64\n"
     ]
    }
   ],
   "source": [
    "# Fetch summary statistics from the Monte Carlo simulation results\n",
    "even_tbl = MC_even_dist.summarize_cumulative_return()\n",
    "\n",
    "# Print summary statistics\n",
    "print(even_tbl)"
   ]
  },
  {
   "cell_type": "markdown",
   "metadata": {},
   "source": [
    "### Calculate the expected portfolio return at the 95% lower and upper confidence intervals based on a `$20,000` initial investment."
   ]
  },
  {
   "cell_type": "code",
   "execution_count": 167,
   "metadata": {},
   "outputs": [
    {
     "name": "stdout",
     "output_type": "stream",
     "text": [
      "There is a 95% chance that an initial investment of $20000 in the portfolio over the next 30 years will end within in the range of $202787.08 and $5836818.18\n"
     ]
    }
   ],
   "source": [
    "# Set initial investment\n",
    "initial_investment = 20000\n",
    "\n",
    "# Use the lower and upper `95%` confidence intervals to calculate the range of the possible outcomes of our $20,000\n",
    "ci_lower = round(even_tbl[8]*20000,2)\n",
    "ci_upper = round(even_tbl[9]*20000,2)\n",
    "\n",
    "# Print results\n",
    "print(f\"There is a 95% chance that an initial investment of ${initial_investment} in the portfolio\"\n",
    "      f\" over the next 30 years will end within in the range of\"\n",
    "      f\" ${ci_lower} and ${ci_upper}\")"
   ]
  },
  {
   "cell_type": "markdown",
   "metadata": {},
   "source": [
    "### Calculate the expected portfolio return at the `95%` lower and upper confidence intervals based on a `50%` increase in the initial investment."
   ]
  },
  {
   "cell_type": "code",
   "execution_count": 168,
   "metadata": {},
   "outputs": [
    {
     "name": "stdout",
     "output_type": "stream",
     "text": [
      "There is a 95% chance that an initial investment of $30000.0 in the portfolio over the next 30 years will end within in the range of $304180.62 and $8755227.27\n"
     ]
    }
   ],
   "source": [
    "# Set initial investment\n",
    "initial_investment = 20000 * 1.5\n",
    "\n",
    "# Use the lower and upper `95%` confidence intervals to calculate the range of the possible outcomes of our $30,000\n",
    "tbl = MC_even_dist.summarize_cumulative_return()\n",
    "ci_lower = round(tbl[8]*20000*1.5,2)\n",
    "ci_upper = round(tbl[9]*20000*1.5,2)\n",
    "\n",
    "# Print results\n",
    "print(f\"There is a 95% chance that an initial investment of ${initial_investment} in the portfolio\"\n",
    "      f\" over the next 30 years will end within in the range of\"\n",
    "      f\" ${ci_lower} and ${ci_upper}\")"
   ]
  },
  {
   "cell_type": "markdown",
   "metadata": {},
   "source": [
    "## Optional Challenge - Early Retirement\n",
    "\n",
    "\n",
    "### Five Years Retirement Option"
   ]
  },
  {
   "cell_type": "code",
   "execution_count": null,
   "metadata": {},
   "outputs": [],
   "source": [
    "# Configuring a Monte Carlo simulation to forecast 5 years cumulative returns\n",
    "# YOUR CODE HERE!\n",
    "\n",
    "# Print the simulation input data"
   ]
  },
  {
   "cell_type": "code",
   "execution_count": null,
   "metadata": {},
   "outputs": [],
   "source": [
    "# Running a Monte Carlo simulation to forecast 5 years cumulative returns\n",
    "# YOUR CODE HERE!"
   ]
  },
  {
   "cell_type": "code",
   "execution_count": null,
   "metadata": {},
   "outputs": [],
   "source": [
    "# Plot simulation outcomes\n",
    "# YOUR CODE HERE!\n",
    "line_plot = MC_even_dist.plot_simulation()"
   ]
  },
  {
   "cell_type": "code",
   "execution_count": null,
   "metadata": {},
   "outputs": [],
   "source": [
    "# Plot probability distribution and confidence intervals\n",
    "# YOUR CODE HERE!\n"
   ]
  },
  {
   "cell_type": "code",
   "execution_count": null,
   "metadata": {},
   "outputs": [],
   "source": [
    "# Fetch summary statistics from the Monte Carlo simulation results\n",
    "# YOUR CODE HERE!\n",
    "\n",
    "# Print summary statistics\n"
   ]
  },
  {
   "cell_type": "code",
   "execution_count": null,
   "metadata": {},
   "outputs": [],
   "source": [
    "# Set initial investment\n",
    "\n",
    "# Use the lower and upper `95%` confidence intervals to calculate the range of the possible outcomes of our $60,000\n",
    "\n",
    "# Print results\n",
    "print(f\"There is a 95% chance that an initial investment of ${initial_investment} in the portfolio\"\n",
    "      f\" over the next 5 years will end within in the range of\"\n",
    "      f\" ${ci_lower_five} and ${ci_upper_five}\")"
   ]
  },
  {
   "cell_type": "markdown",
   "metadata": {},
   "source": [
    "### Ten Years Retirement Option"
   ]
  },
  {
   "cell_type": "code",
   "execution_count": null,
   "metadata": {},
   "outputs": [],
   "source": [
    "# Configuring a Monte Carlo simulation to forecast 10 years cumulative returns\n",
    "# YOUR CODE HERE!"
   ]
  },
  {
   "cell_type": "code",
   "execution_count": null,
   "metadata": {},
   "outputs": [],
   "source": [
    "# Running a Monte Carlo simulation to forecast 10 years cumulative returns\n",
    "# YOUR CODE HERE!"
   ]
  },
  {
   "cell_type": "code",
   "execution_count": null,
   "metadata": {},
   "outputs": [],
   "source": [
    "# Plot simulation outcomes\n",
    "# YOUR CODE HERE!"
   ]
  },
  {
   "cell_type": "code",
   "execution_count": null,
   "metadata": {},
   "outputs": [],
   "source": [
    "# Plot probability distribution and confidence intervals\n",
    "# YOUR CODE HERE!"
   ]
  },
  {
   "cell_type": "code",
   "execution_count": null,
   "metadata": {},
   "outputs": [],
   "source": [
    "# Fetch summary statistics from the Monte Carlo simulation results\n",
    "# YOUR CODE HERE!\n",
    "\n",
    "# Print summary statistics\n",
    "# YOUR CODE HERE!"
   ]
  },
  {
   "cell_type": "code",
   "execution_count": null,
   "metadata": {},
   "outputs": [],
   "source": [
    "# Set initial investment\n",
    "# YOUR CODE HERE!\n",
    "\n",
    "# Use the lower and upper `95%` confidence intervals to calculate the range of the possible outcomes of our $60,000\n",
    "# YOUR CODE HERE!\n",
    "\n",
    "# Print results\n",
    "print(f\"There is a 95% chance that an initial investment of ${initial_investment} in the portfolio\"\n",
    "      f\" over the next 10 years will end within in the range of\"\n",
    "      f\" ${ci_lower_ten} and ${ci_upper_ten}\")"
   ]
  },
  {
   "cell_type": "code",
   "execution_count": null,
   "metadata": {},
   "outputs": [],
   "source": []
  },
  {
   "cell_type": "code",
   "execution_count": null,
   "metadata": {},
   "outputs": [],
   "source": []
  }
 ],
 "metadata": {
  "kernelspec": {
   "display_name": "Python 3",
   "language": "python",
   "name": "python3"
  },
  "language_info": {
   "codemirror_mode": {
    "name": "ipython",
    "version": 3
   },
   "file_extension": ".py",
   "mimetype": "text/x-python",
   "name": "python",
   "nbconvert_exporter": "python",
   "pygments_lexer": "ipython3",
   "version": "3.7.9"
  }
 },
 "nbformat": 4,
 "nbformat_minor": 4
}
