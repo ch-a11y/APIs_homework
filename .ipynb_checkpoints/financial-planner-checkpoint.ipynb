{
 "cells": [
  {
   "cell_type": "markdown",
   "metadata": {},
   "source": [
    "# Unit 5 - Financial Planning\n"
   ]
  },
  {
   "cell_type": "code",
   "execution_count": 174,
   "metadata": {},
   "outputs": [],
   "source": [
    "# Initial imports\n",
    "import os\n",
    "import requests\n",
    "import pandas as pd\n",
    "from dotenv import load_dotenv\n",
    "import alpaca_trade_api as tradeapi\n",
    "from MCForecastTools import MCSimulation\n",
    "\n",
    "%matplotlib inline"
   ]
  },
  {
   "cell_type": "code",
   "execution_count": 175,
   "metadata": {},
   "outputs": [
    {
     "data": {
      "text/plain": [
       "True"
      ]
     },
     "execution_count": 175,
     "metadata": {},
     "output_type": "execute_result"
    }
   ],
   "source": [
    "# Load .env enviroment variables\n",
    "load_dotenv()"
   ]
  },
  {
   "cell_type": "markdown",
   "metadata": {},
   "source": [
    "## Part 1 - Personal Finance Planner"
   ]
  },
  {
   "cell_type": "markdown",
   "metadata": {},
   "source": [
    "### Collect Crypto Prices Using the `requests` Library"
   ]
  },
  {
   "cell_type": "code",
   "execution_count": 176,
   "metadata": {},
   "outputs": [],
   "source": [
    "# Set current amount of crypto assets\n",
    "my_btc = 1.2\n",
    "my_eth = 5.3"
   ]
  },
  {
   "cell_type": "code",
   "execution_count": 177,
   "metadata": {},
   "outputs": [],
   "source": [
    "# Crypto API URLs\n",
    "btc_url = \"https://api.alternative.me/v2/ticker/Bitcoin/?convert=CAD\"\n",
    "eth_url = \"https://api.alternative.me/v2/ticker/Ethereum/?convert=CAD\""
   ]
  },
  {
   "cell_type": "code",
   "execution_count": 178,
   "metadata": {},
   "outputs": [
    {
     "name": "stdout",
     "output_type": "stream",
     "text": [
      "The current value of your 1.2 BTC is $45615.60\n",
      "The current value of your 5.3 ETH is $12496.92\n"
     ]
    }
   ],
   "source": [
    "# Fetch current BTC price\n",
    "data_btc = requests.get(btc_url).json()\n",
    "btc_value = data_btc[\"data\"][\"1\"][\"quotes\"][\"USD\"][\"price\"]\n",
    "\n",
    "# Fetch current ETH price\n",
    "data_eth = requests.get(eth_url).json()\n",
    "eth_value = data_eth[\"data\"][\"1027\"][\"quotes\"][\"USD\"][\"price\"]\n",
    "\n",
    "# Compute current value of my crpto\n",
    "my_btc_value = my_btc * btc_value\n",
    "my_eth_value = my_eth * eth_value\n",
    "\n",
    "# Print current crypto wallet balance\n",
    "print(f\"The current value of your {my_btc} BTC is ${my_btc_value:0.2f}\")\n",
    "print(f\"The current value of your {my_eth} ETH is ${my_eth_value:0.2f}\")"
   ]
  },
  {
   "cell_type": "markdown",
   "metadata": {},
   "source": [
    "### Collect Investments Data Using Alpaca: `SPY` (stocks) and `AGG` (bonds)"
   ]
  },
  {
   "cell_type": "code",
   "execution_count": 179,
   "metadata": {},
   "outputs": [],
   "source": [
    "# Current amount of shares\n",
    "my_agg = 200\n",
    "my_spy = 50"
   ]
  },
  {
   "cell_type": "code",
   "execution_count": 180,
   "metadata": {},
   "outputs": [],
   "source": [
    "# Set Alpaca API key and secret\n",
    "#alpaca_api_key = os.getenv(\"ALPACA_API_KEY\")\n",
    "alpaca_api_key = os.getenv(\"ALPACA_API_KEY\")\n",
    "alpaca_secret_key = os.getenv(\"ALPACA_SECRET_KEY\")\n",
    "\n",
    "# Create the Alpaca API object\n",
    "api = tradeapi.REST(\n",
    "    alpaca_api_key,\n",
    "    alpaca_secret_key,\n",
    "    api_version=\"v2\")"
   ]
  },
  {
   "cell_type": "code",
   "execution_count": 181,
   "metadata": {},
   "outputs": [
    {
     "data": {
      "text/html": [
       "<div>\n",
       "<style scoped>\n",
       "    .dataframe tbody tr th:only-of-type {\n",
       "        vertical-align: middle;\n",
       "    }\n",
       "\n",
       "    .dataframe tbody tr th {\n",
       "        vertical-align: top;\n",
       "    }\n",
       "\n",
       "    .dataframe thead tr th {\n",
       "        text-align: left;\n",
       "    }\n",
       "\n",
       "    .dataframe thead tr:last-of-type th {\n",
       "        text-align: right;\n",
       "    }\n",
       "</style>\n",
       "<table border=\"1\" class=\"dataframe\">\n",
       "  <thead>\n",
       "    <tr>\n",
       "      <th></th>\n",
       "      <th colspan=\"5\" halign=\"left\">AGG</th>\n",
       "      <th colspan=\"5\" halign=\"left\">SPY</th>\n",
       "    </tr>\n",
       "    <tr>\n",
       "      <th></th>\n",
       "      <th>open</th>\n",
       "      <th>high</th>\n",
       "      <th>low</th>\n",
       "      <th>close</th>\n",
       "      <th>volume</th>\n",
       "      <th>open</th>\n",
       "      <th>high</th>\n",
       "      <th>low</th>\n",
       "      <th>close</th>\n",
       "      <th>volume</th>\n",
       "    </tr>\n",
       "    <tr>\n",
       "      <th>time</th>\n",
       "      <th></th>\n",
       "      <th></th>\n",
       "      <th></th>\n",
       "      <th></th>\n",
       "      <th></th>\n",
       "      <th></th>\n",
       "      <th></th>\n",
       "      <th></th>\n",
       "      <th></th>\n",
       "      <th></th>\n",
       "    </tr>\n",
       "  </thead>\n",
       "  <tbody>\n",
       "    <tr>\n",
       "      <th>2021-05-17 00:00:00-04:00</th>\n",
       "      <td>114.21</td>\n",
       "      <td>115.4999</td>\n",
       "      <td>111.26</td>\n",
       "      <td>114.165</td>\n",
       "      <td>3852318</td>\n",
       "      <td>415.39</td>\n",
       "      <td>416.39</td>\n",
       "      <td>413.36</td>\n",
       "      <td>415.54</td>\n",
       "      <td>57713174</td>\n",
       "    </tr>\n",
       "  </tbody>\n",
       "</table>\n",
       "</div>"
      ],
      "text/plain": [
       "                              AGG                                         SPY  \\\n",
       "                             open      high     low    close   volume    open   \n",
       "time                                                                            \n",
       "2021-05-17 00:00:00-04:00  114.21  115.4999  111.26  114.165  3852318  415.39   \n",
       "\n",
       "                                                             \n",
       "                             high     low   close    volume  \n",
       "time                                                         \n",
       "2021-05-17 00:00:00-04:00  416.39  413.36  415.54  57713174  "
      ]
     },
     "execution_count": 181,
     "metadata": {},
     "output_type": "execute_result"
    }
   ],
   "source": [
    "# Format current date as ISO format\n",
    "today = pd.Timestamp(\"2021-05-17\", tz=\"America/New_York\").isoformat()\n",
    "\n",
    "# Set the tickers\n",
    "tickers = [\"AGG\", \"SPY\"]\n",
    "\n",
    "# Set timeframe to '1D' for Alpaca API\n",
    "timeframe = \"1D\"\n",
    "\n",
    "# Get current closing prices for SPY and AGG\n",
    "df_portfolio = api.get_barset(\n",
    "    tickers,\n",
    "    timeframe,\n",
    "    start = today,\n",
    "    end = today,\n",
    ").df\n",
    "\n",
    "# Preview DataFrame\n",
    "df_portfolio.head()"
   ]
  },
  {
   "cell_type": "code",
   "execution_count": 182,
   "metadata": {},
   "outputs": [
    {
     "name": "stdout",
     "output_type": "stream",
     "text": [
      "Current AGG closing price: $114.165\n",
      "Current SPY closing price: $415.54\n"
     ]
    }
   ],
   "source": [
    "# Pick AGG and SPY close prices\n",
    "\n",
    "agg_close_price = float(df_portfolio[\"AGG\"][\"close\"])                                     \n",
    "spy_close_price = float(df_portfolio[\"SPY\"][\"close\"])\n",
    "                                     \n",
    "# Print AGG and SPY close prices\n",
    "print(f\"Current AGG closing price: ${agg_close_price}\")\n",
    "print(f\"Current SPY closing price: ${spy_close_price}\")"
   ]
  },
  {
   "cell_type": "code",
   "execution_count": 183,
   "metadata": {},
   "outputs": [
    {
     "name": "stdout",
     "output_type": "stream",
     "text": [
      "The current value of your 50 SPY shares is $20777.00\n",
      "The current value of your 200 AGG shares is $22833.00\n"
     ]
    }
   ],
   "source": [
    "# Compute the current value of shares\n",
    "my_agg_value = my_agg * agg_close_price\n",
    "my_spy_value = my_spy * spy_close_price\n",
    "\n",
    "# Print current value of share\n",
    "print(f\"The current value of your {my_spy} SPY shares is ${my_spy_value:0.2f}\")\n",
    "print(f\"The current value of your {my_agg} AGG shares is ${my_agg_value:0.2f}\")"
   ]
  },
  {
   "cell_type": "markdown",
   "metadata": {},
   "source": [
    "### Savings Health Analysis"
   ]
  },
  {
   "cell_type": "code",
   "execution_count": 184,
   "metadata": {},
   "outputs": [
    {
     "data": {
      "text/html": [
       "<div>\n",
       "<style scoped>\n",
       "    .dataframe tbody tr th:only-of-type {\n",
       "        vertical-align: middle;\n",
       "    }\n",
       "\n",
       "    .dataframe tbody tr th {\n",
       "        vertical-align: top;\n",
       "    }\n",
       "\n",
       "    .dataframe thead th {\n",
       "        text-align: right;\n",
       "    }\n",
       "</style>\n",
       "<table border=\"1\" class=\"dataframe\">\n",
       "  <thead>\n",
       "    <tr style=\"text-align: right;\">\n",
       "      <th></th>\n",
       "      <th>amount</th>\n",
       "    </tr>\n",
       "  </thead>\n",
       "  <tbody>\n",
       "    <tr>\n",
       "      <th>crypto</th>\n",
       "      <td>58112.523</td>\n",
       "    </tr>\n",
       "    <tr>\n",
       "      <th>shares</th>\n",
       "      <td>43610.000</td>\n",
       "    </tr>\n",
       "  </tbody>\n",
       "</table>\n",
       "</div>"
      ],
      "text/plain": [
       "           amount\n",
       "crypto  58112.523\n",
       "shares  43610.000"
      ]
     },
     "metadata": {},
     "output_type": "display_data"
    }
   ],
   "source": [
    "# Set monthly household income\n",
    "monthly_income = 12000\n",
    "total_crypto = my_btc_value + my_eth_value\n",
    "total_shares_value = my_agg_value + my_spy_value\n",
    "data = {'amount':[total_crypto, total_shares_value]}\n",
    "\n",
    "# Create savings DataFrame\n",
    "df_savings = pd.DataFrame(data, index =['crypto', 'shares'])\n",
    "\n",
    "# Display savings DataFrame\n",
    "display(df_savings)"
   ]
  },
  {
   "cell_type": "code",
   "execution_count": 185,
   "metadata": {},
   "outputs": [
    {
     "data": {
      "text/plain": [
       "<AxesSubplot:title={'center':'Composition of Personal Savings'}, ylabel='amount'>"
      ]
     },
     "execution_count": 185,
     "metadata": {},
     "output_type": "execute_result"
    },
    {
     "data": {
      "image/png": "[encoded data removed]",
      "text/plain": [
       "<Figure size 432x288 with 1 Axes>"
      ]
     },
     "metadata": {},
     "output_type": "display_data"
    }
   ],
   "source": [
    "# Plot savings pie chart\n",
    "df_savings.plot.pie(y=\"amount\", title=\"Composition of Personal Savings\")"
   ]
  },
  {
   "cell_type": "code",
   "execution_count": 186,
   "metadata": {},
   "outputs": [
    {
     "name": "stdout",
     "output_type": "stream",
     "text": [
      "Congratulations! You have enough money in your emergency fund.\n"
     ]
    }
   ],
   "source": [
    "# Set ideal emergency fund\n",
    "emergency_fund = monthly_income * 3\n",
    "\n",
    "# Calculate total amount of savings\n",
    "total_savings = total_crypto + total_shares_value\n",
    "\n",
    "# Validate saving health\n",
    "if emergency_fund < total_savings:\n",
    "    print(\"Congratulations! You have enough money in your emergency fund.\")\n",
    "elif emergency_fund == total_savings:\n",
    "    print(\"You have reach your financial goal\")\n",
    "else:\n",
    "    print(f\"You are {emergency_fun - total_savings} dollars away from reaching the goal\")"
   ]
  },
  {
   "cell_type": "markdown",
   "metadata": {},
   "source": [
    "## Part 2 - Retirement Planning\n",
    "\n",
    "### Monte Carlo Simulation"
   ]
  },
  {
   "cell_type": "code",
   "execution_count": 187,
   "metadata": {},
   "outputs": [],
   "source": [
    "# Set start and end dates of five years back from today.\n",
    "# Sample results may vary from the solution based on the time frame chosen\n",
    "start_date = pd.Timestamp('2016-04-30', tz='America/New_York').isoformat()\n",
    "end_date = pd.Timestamp('2021-04-30', tz='America/New_York').isoformat()"
   ]
  },
  {
   "cell_type": "code",
   "execution_count": 188,
   "metadata": {},
   "outputs": [
    {
     "data": {
      "text/html": [
       "<div>\n",
       "<style scoped>\n",
       "    .dataframe tbody tr th:only-of-type {\n",
       "        vertical-align: middle;\n",
       "    }\n",
       "\n",
       "    .dataframe tbody tr th {\n",
       "        vertical-align: top;\n",
       "    }\n",
       "\n",
       "    .dataframe thead tr th {\n",
       "        text-align: left;\n",
       "    }\n",
       "</style>\n",
       "<table border=\"1\" class=\"dataframe\">\n",
       "  <thead>\n",
       "    <tr>\n",
       "      <th></th>\n",
       "      <th colspan=\"5\" halign=\"left\">AGG</th>\n",
       "      <th colspan=\"5\" halign=\"left\">SPY</th>\n",
       "    </tr>\n",
       "    <tr>\n",
       "      <th></th>\n",
       "      <th>open</th>\n",
       "      <th>high</th>\n",
       "      <th>low</th>\n",
       "      <th>close</th>\n",
       "      <th>volume</th>\n",
       "      <th>open</th>\n",
       "      <th>high</th>\n",
       "      <th>low</th>\n",
       "      <th>close</th>\n",
       "      <th>volume</th>\n",
       "    </tr>\n",
       "  </thead>\n",
       "  <tbody>\n",
       "    <tr>\n",
       "      <th>2019-05-07</th>\n",
       "      <td>108.63</td>\n",
       "      <td>108.7000</td>\n",
       "      <td>108.585</td>\n",
       "      <td>108.62</td>\n",
       "      <td>2788574.0</td>\n",
       "      <td>NaN</td>\n",
       "      <td>NaN</td>\n",
       "      <td>NaN</td>\n",
       "      <td>NaN</td>\n",
       "      <td>NaN</td>\n",
       "    </tr>\n",
       "    <tr>\n",
       "      <th>2019-05-08</th>\n",
       "      <td>108.74</td>\n",
       "      <td>108.8100</td>\n",
       "      <td>108.550</td>\n",
       "      <td>108.57</td>\n",
       "      <td>5808492.0</td>\n",
       "      <td>287.53</td>\n",
       "      <td>289.43</td>\n",
       "      <td>286.87</td>\n",
       "      <td>287.5600</td>\n",
       "      <td>75117753.0</td>\n",
       "    </tr>\n",
       "    <tr>\n",
       "      <th>2019-05-09</th>\n",
       "      <td>108.78</td>\n",
       "      <td>108.8100</td>\n",
       "      <td>108.550</td>\n",
       "      <td>108.67</td>\n",
       "      <td>4669136.0</td>\n",
       "      <td>285.23</td>\n",
       "      <td>287.33</td>\n",
       "      <td>283.30</td>\n",
       "      <td>286.7500</td>\n",
       "      <td>90532298.0</td>\n",
       "    </tr>\n",
       "    <tr>\n",
       "      <th>2019-05-10</th>\n",
       "      <td>108.74</td>\n",
       "      <td>108.8200</td>\n",
       "      <td>108.630</td>\n",
       "      <td>108.67</td>\n",
       "      <td>4810765.0</td>\n",
       "      <td>285.62</td>\n",
       "      <td>288.94</td>\n",
       "      <td>282.30</td>\n",
       "      <td>288.0300</td>\n",
       "      <td>97407327.0</td>\n",
       "    </tr>\n",
       "    <tr>\n",
       "      <th>2019-05-13</th>\n",
       "      <td>108.83</td>\n",
       "      <td>108.9768</td>\n",
       "      <td>108.815</td>\n",
       "      <td>108.86</td>\n",
       "      <td>5116696.0</td>\n",
       "      <td>282.42</td>\n",
       "      <td>283.49</td>\n",
       "      <td>279.93</td>\n",
       "      <td>280.9905</td>\n",
       "      <td>106597028.0</td>\n",
       "    </tr>\n",
       "  </tbody>\n",
       "</table>\n",
       "</div>"
      ],
      "text/plain": [
       "               AGG                                           SPY          \\\n",
       "              open      high      low   close     volume    open    high   \n",
       "2019-05-07  108.63  108.7000  108.585  108.62  2788574.0     NaN     NaN   \n",
       "2019-05-08  108.74  108.8100  108.550  108.57  5808492.0  287.53  289.43   \n",
       "2019-05-09  108.78  108.8100  108.550  108.67  4669136.0  285.23  287.33   \n",
       "2019-05-10  108.74  108.8200  108.630  108.67  4810765.0  285.62  288.94   \n",
       "2019-05-13  108.83  108.9768  108.815  108.86  5116696.0  282.42  283.49   \n",
       "\n",
       "                                           \n",
       "               low     close       volume  \n",
       "2019-05-07     NaN       NaN          NaN  \n",
       "2019-05-08  286.87  287.5600   75117753.0  \n",
       "2019-05-09  283.30  286.7500   90532298.0  \n",
       "2019-05-10  282.30  288.0300   97407327.0  \n",
       "2019-05-13  279.93  280.9905  106597028.0  "
      ]
     },
     "execution_count": 188,
     "metadata": {},
     "output_type": "execute_result"
    }
   ],
   "source": [
    "# Get 5 years' worth of historical data for SPY and AGG\n",
    "tickers = [\"AGG\", \"SPY\"]\n",
    "df_stock_data = api.get_barset(\n",
    "    tickers,\n",
    "    timeframe,\n",
    "    start = start_date,\n",
    "    end = end_date,\n",
    "    limit = 500,\n",
    ").df\n",
    "\n",
    "df_stock_data.index = df_stock_data.index.date\n",
    "\n",
    "# Display sample data\n",
    "df_stock_data.head()"
   ]
  },
  {
   "cell_type": "code",
   "execution_count": 189,
   "metadata": {},
   "outputs": [],
   "source": [
    "df_stock_data = df_stock_data.dropna()"
   ]
  },
  {
   "cell_type": "code",
   "execution_count": 190,
   "metadata": {},
   "outputs": [
    {
     "data": {
      "text/plain": [
       "AGG  open      0\n",
       "     high      0\n",
       "     low       0\n",
       "     close     0\n",
       "     volume    0\n",
       "SPY  open      0\n",
       "     high      0\n",
       "     low       0\n",
       "     close     0\n",
       "     volume    0\n",
       "dtype: int64"
      ]
     },
     "execution_count": 190,
     "metadata": {},
     "output_type": "execute_result"
    }
   ],
   "source": [
    "df_stock_data.isnull().sum()"
   ]
  },
  {
   "cell_type": "code",
   "execution_count": 191,
   "metadata": {},
   "outputs": [
    {
     "data": {
      "text/html": [
       "<div>\n",
       "<style scoped>\n",
       "    .dataframe tbody tr th:only-of-type {\n",
       "        vertical-align: middle;\n",
       "    }\n",
       "\n",
       "    .dataframe tbody tr th {\n",
       "        vertical-align: top;\n",
       "    }\n",
       "\n",
       "    .dataframe thead tr th {\n",
       "        text-align: left;\n",
       "    }\n",
       "</style>\n",
       "<table border=\"1\" class=\"dataframe\">\n",
       "  <thead>\n",
       "    <tr>\n",
       "      <th></th>\n",
       "      <th colspan=\"5\" halign=\"left\">AGG</th>\n",
       "      <th colspan=\"5\" halign=\"left\">SPY</th>\n",
       "    </tr>\n",
       "    <tr>\n",
       "      <th></th>\n",
       "      <th>open</th>\n",
       "      <th>high</th>\n",
       "      <th>low</th>\n",
       "      <th>close</th>\n",
       "      <th>volume</th>\n",
       "      <th>open</th>\n",
       "      <th>high</th>\n",
       "      <th>low</th>\n",
       "      <th>close</th>\n",
       "      <th>volume</th>\n",
       "    </tr>\n",
       "  </thead>\n",
       "  <tbody>\n",
       "    <tr>\n",
       "      <th>2019-05-08</th>\n",
       "      <td>108.74</td>\n",
       "      <td>108.8100</td>\n",
       "      <td>108.550</td>\n",
       "      <td>108.57</td>\n",
       "      <td>5808492.0</td>\n",
       "      <td>287.53</td>\n",
       "      <td>289.43</td>\n",
       "      <td>286.87</td>\n",
       "      <td>287.5600</td>\n",
       "      <td>75117753.0</td>\n",
       "    </tr>\n",
       "    <tr>\n",
       "      <th>2019-05-09</th>\n",
       "      <td>108.78</td>\n",
       "      <td>108.8100</td>\n",
       "      <td>108.550</td>\n",
       "      <td>108.67</td>\n",
       "      <td>4669136.0</td>\n",
       "      <td>285.23</td>\n",
       "      <td>287.33</td>\n",
       "      <td>283.30</td>\n",
       "      <td>286.7500</td>\n",
       "      <td>90532298.0</td>\n",
       "    </tr>\n",
       "    <tr>\n",
       "      <th>2019-05-10</th>\n",
       "      <td>108.74</td>\n",
       "      <td>108.8200</td>\n",
       "      <td>108.630</td>\n",
       "      <td>108.67</td>\n",
       "      <td>4810765.0</td>\n",
       "      <td>285.62</td>\n",
       "      <td>288.94</td>\n",
       "      <td>282.30</td>\n",
       "      <td>288.0300</td>\n",
       "      <td>97407327.0</td>\n",
       "    </tr>\n",
       "    <tr>\n",
       "      <th>2019-05-13</th>\n",
       "      <td>108.83</td>\n",
       "      <td>108.9768</td>\n",
       "      <td>108.815</td>\n",
       "      <td>108.86</td>\n",
       "      <td>5116696.0</td>\n",
       "      <td>282.42</td>\n",
       "      <td>283.49</td>\n",
       "      <td>279.93</td>\n",
       "      <td>280.9905</td>\n",
       "      <td>106597028.0</td>\n",
       "    </tr>\n",
       "    <tr>\n",
       "      <th>2019-05-14</th>\n",
       "      <td>108.90</td>\n",
       "      <td>108.9700</td>\n",
       "      <td>108.740</td>\n",
       "      <td>108.94</td>\n",
       "      <td>4976560.0</td>\n",
       "      <td>281.99</td>\n",
       "      <td>285.10</td>\n",
       "      <td>281.85</td>\n",
       "      <td>283.3300</td>\n",
       "      <td>68269143.0</td>\n",
       "    </tr>\n",
       "  </tbody>\n",
       "</table>\n",
       "</div>"
      ],
      "text/plain": [
       "               AGG                                           SPY          \\\n",
       "              open      high      low   close     volume    open    high   \n",
       "2019-05-08  108.74  108.8100  108.550  108.57  5808492.0  287.53  289.43   \n",
       "2019-05-09  108.78  108.8100  108.550  108.67  4669136.0  285.23  287.33   \n",
       "2019-05-10  108.74  108.8200  108.630  108.67  4810765.0  285.62  288.94   \n",
       "2019-05-13  108.83  108.9768  108.815  108.86  5116696.0  282.42  283.49   \n",
       "2019-05-14  108.90  108.9700  108.740  108.94  4976560.0  281.99  285.10   \n",
       "\n",
       "                                           \n",
       "               low     close       volume  \n",
       "2019-05-08  286.87  287.5600   75117753.0  \n",
       "2019-05-09  283.30  286.7500   90532298.0  \n",
       "2019-05-10  282.30  288.0300   97407327.0  \n",
       "2019-05-13  279.93  280.9905  106597028.0  \n",
       "2019-05-14  281.85  283.3300   68269143.0  "
      ]
     },
     "execution_count": 191,
     "metadata": {},
     "output_type": "execute_result"
    }
   ],
   "source": [
    "df_stock_data.head()"
   ]
  },
  {
   "cell_type": "code",
   "execution_count": 192,
   "metadata": {},
   "outputs": [],
   "source": [
    "# Configuring a Monte Carlo simulation to forecast 30 years cumulative returns\n",
    "MC_even_dist = MCSimulation(portfolio_data = df_stock_data, weights = [.40, .60], num_simulation = 500, num_trading_days = 252*30)"
   ]
  },
  {
   "cell_type": "code",
   "execution_count": 193,
   "metadata": {},
   "outputs": [
    {
     "data": {
      "text/html": [
       "<div>\n",
       "<style scoped>\n",
       "    .dataframe tbody tr th:only-of-type {\n",
       "        vertical-align: middle;\n",
       "    }\n",
       "\n",
       "    .dataframe tbody tr th {\n",
       "        vertical-align: top;\n",
       "    }\n",
       "\n",
       "    .dataframe thead tr th {\n",
       "        text-align: left;\n",
       "    }\n",
       "</style>\n",
       "<table border=\"1\" class=\"dataframe\">\n",
       "  <thead>\n",
       "    <tr>\n",
       "      <th></th>\n",
       "      <th colspan=\"6\" halign=\"left\">AGG</th>\n",
       "      <th colspan=\"6\" halign=\"left\">SPY</th>\n",
       "    </tr>\n",
       "    <tr>\n",
       "      <th></th>\n",
       "      <th>open</th>\n",
       "      <th>high</th>\n",
       "      <th>low</th>\n",
       "      <th>close</th>\n",
       "      <th>volume</th>\n",
       "      <th>daily_return</th>\n",
       "      <th>open</th>\n",
       "      <th>high</th>\n",
       "      <th>low</th>\n",
       "      <th>close</th>\n",
       "      <th>volume</th>\n",
       "      <th>daily_return</th>\n",
       "    </tr>\n",
       "  </thead>\n",
       "  <tbody>\n",
       "    <tr>\n",
       "      <th>2019-05-08</th>\n",
       "      <td>108.74</td>\n",
       "      <td>108.8100</td>\n",
       "      <td>108.550</td>\n",
       "      <td>108.57</td>\n",
       "      <td>5808492.0</td>\n",
       "      <td>NaN</td>\n",
       "      <td>287.53</td>\n",
       "      <td>289.43</td>\n",
       "      <td>286.87</td>\n",
       "      <td>287.5600</td>\n",
       "      <td>75117753.0</td>\n",
       "      <td>NaN</td>\n",
       "    </tr>\n",
       "    <tr>\n",
       "      <th>2019-05-09</th>\n",
       "      <td>108.78</td>\n",
       "      <td>108.8100</td>\n",
       "      <td>108.550</td>\n",
       "      <td>108.67</td>\n",
       "      <td>4669136.0</td>\n",
       "      <td>0.000921</td>\n",
       "      <td>285.23</td>\n",
       "      <td>287.33</td>\n",
       "      <td>283.30</td>\n",
       "      <td>286.7500</td>\n",
       "      <td>90532298.0</td>\n",
       "      <td>-0.002817</td>\n",
       "    </tr>\n",
       "    <tr>\n",
       "      <th>2019-05-10</th>\n",
       "      <td>108.74</td>\n",
       "      <td>108.8200</td>\n",
       "      <td>108.630</td>\n",
       "      <td>108.67</td>\n",
       "      <td>4810765.0</td>\n",
       "      <td>0.000000</td>\n",
       "      <td>285.62</td>\n",
       "      <td>288.94</td>\n",
       "      <td>282.30</td>\n",
       "      <td>288.0300</td>\n",
       "      <td>97407327.0</td>\n",
       "      <td>0.004464</td>\n",
       "    </tr>\n",
       "    <tr>\n",
       "      <th>2019-05-13</th>\n",
       "      <td>108.83</td>\n",
       "      <td>108.9768</td>\n",
       "      <td>108.815</td>\n",
       "      <td>108.86</td>\n",
       "      <td>5116696.0</td>\n",
       "      <td>0.001748</td>\n",
       "      <td>282.42</td>\n",
       "      <td>283.49</td>\n",
       "      <td>279.93</td>\n",
       "      <td>280.9905</td>\n",
       "      <td>106597028.0</td>\n",
       "      <td>-0.024440</td>\n",
       "    </tr>\n",
       "    <tr>\n",
       "      <th>2019-05-14</th>\n",
       "      <td>108.90</td>\n",
       "      <td>108.9700</td>\n",
       "      <td>108.740</td>\n",
       "      <td>108.94</td>\n",
       "      <td>4976560.0</td>\n",
       "      <td>0.000735</td>\n",
       "      <td>281.99</td>\n",
       "      <td>285.10</td>\n",
       "      <td>281.85</td>\n",
       "      <td>283.3300</td>\n",
       "      <td>68269143.0</td>\n",
       "      <td>0.008326</td>\n",
       "    </tr>\n",
       "  </tbody>\n",
       "</table>\n",
       "</div>"
      ],
      "text/plain": [
       "               AGG                                                        SPY  \\\n",
       "              open      high      low   close     volume daily_return    open   \n",
       "2019-05-08  108.74  108.8100  108.550  108.57  5808492.0          NaN  287.53   \n",
       "2019-05-09  108.78  108.8100  108.550  108.67  4669136.0     0.000921  285.23   \n",
       "2019-05-10  108.74  108.8200  108.630  108.67  4810765.0     0.000000  285.62   \n",
       "2019-05-13  108.83  108.9768  108.815  108.86  5116696.0     0.001748  282.42   \n",
       "2019-05-14  108.90  108.9700  108.740  108.94  4976560.0     0.000735  281.99   \n",
       "\n",
       "                                                                \n",
       "              high     low     close       volume daily_return  \n",
       "2019-05-08  289.43  286.87  287.5600   75117753.0          NaN  \n",
       "2019-05-09  287.33  283.30  286.7500   90532298.0    -0.002817  \n",
       "2019-05-10  288.94  282.30  288.0300   97407327.0     0.004464  \n",
       "2019-05-13  283.49  279.93  280.9905  106597028.0    -0.024440  \n",
       "2019-05-14  285.10  281.85  283.3300   68269143.0     0.008326  "
      ]
     },
     "execution_count": 193,
     "metadata": {},
     "output_type": "execute_result"
    }
   ],
   "source": [
    "# Printing the simulation input data\n",
    "MC_even_dist.portfolio_data.head()"
   ]
  },
  {
   "cell_type": "code",
   "execution_count": 194,
   "metadata": {},
   "outputs": [],
   "source": [
    "MC_even_dist.portfolio_data = MC_even_dist.portfolio_data.dropna()"
   ]
  },
  {
   "cell_type": "code",
   "execution_count": 195,
   "metadata": {},
   "outputs": [
    {
     "data": {
      "text/plain": [
       "AGG  open            0\n",
       "     high            0\n",
       "     low             0\n",
       "     close           0\n",
       "     volume          0\n",
       "     daily_return    0\n",
       "SPY  open            0\n",
       "     high            0\n",
       "     low             0\n",
       "     close           0\n",
       "     volume          0\n",
       "     daily_return    0\n",
       "dtype: int64"
      ]
     },
     "execution_count": 195,
     "metadata": {},
     "output_type": "execute_result"
    }
   ],
   "source": [
    "MC_even_dist.portfolio_data.isnull().sum()"
   ]
  },
  {
   "cell_type": "code",
   "execution_count": 196,
   "metadata": {},
   "outputs": [
    {
     "data": {
      "text/html": [
       "<div>\n",
       "<style scoped>\n",
       "    .dataframe tbody tr th:only-of-type {\n",
       "        vertical-align: middle;\n",
       "    }\n",
       "\n",
       "    .dataframe tbody tr th {\n",
       "        vertical-align: top;\n",
       "    }\n",
       "\n",
       "    .dataframe thead tr th {\n",
       "        text-align: left;\n",
       "    }\n",
       "</style>\n",
       "<table border=\"1\" class=\"dataframe\">\n",
       "  <thead>\n",
       "    <tr>\n",
       "      <th></th>\n",
       "      <th colspan=\"6\" halign=\"left\">AGG</th>\n",
       "      <th colspan=\"6\" halign=\"left\">SPY</th>\n",
       "    </tr>\n",
       "    <tr>\n",
       "      <th></th>\n",
       "      <th>open</th>\n",
       "      <th>high</th>\n",
       "      <th>low</th>\n",
       "      <th>close</th>\n",
       "      <th>volume</th>\n",
       "      <th>daily_return</th>\n",
       "      <th>open</th>\n",
       "      <th>high</th>\n",
       "      <th>low</th>\n",
       "      <th>close</th>\n",
       "      <th>volume</th>\n",
       "      <th>daily_return</th>\n",
       "    </tr>\n",
       "  </thead>\n",
       "  <tbody>\n",
       "    <tr>\n",
       "      <th>2019-05-09</th>\n",
       "      <td>108.78</td>\n",
       "      <td>108.8100</td>\n",
       "      <td>108.550</td>\n",
       "      <td>108.67</td>\n",
       "      <td>4669136.0</td>\n",
       "      <td>0.000921</td>\n",
       "      <td>285.23</td>\n",
       "      <td>287.33</td>\n",
       "      <td>283.30</td>\n",
       "      <td>286.7500</td>\n",
       "      <td>90532298.0</td>\n",
       "      <td>-0.002817</td>\n",
       "    </tr>\n",
       "    <tr>\n",
       "      <th>2019-05-10</th>\n",
       "      <td>108.74</td>\n",
       "      <td>108.8200</td>\n",
       "      <td>108.630</td>\n",
       "      <td>108.67</td>\n",
       "      <td>4810765.0</td>\n",
       "      <td>0.000000</td>\n",
       "      <td>285.62</td>\n",
       "      <td>288.94</td>\n",
       "      <td>282.30</td>\n",
       "      <td>288.0300</td>\n",
       "      <td>97407327.0</td>\n",
       "      <td>0.004464</td>\n",
       "    </tr>\n",
       "    <tr>\n",
       "      <th>2019-05-13</th>\n",
       "      <td>108.83</td>\n",
       "      <td>108.9768</td>\n",
       "      <td>108.815</td>\n",
       "      <td>108.86</td>\n",
       "      <td>5116696.0</td>\n",
       "      <td>0.001748</td>\n",
       "      <td>282.42</td>\n",
       "      <td>283.49</td>\n",
       "      <td>279.93</td>\n",
       "      <td>280.9905</td>\n",
       "      <td>106597028.0</td>\n",
       "      <td>-0.024440</td>\n",
       "    </tr>\n",
       "    <tr>\n",
       "      <th>2019-05-14</th>\n",
       "      <td>108.90</td>\n",
       "      <td>108.9700</td>\n",
       "      <td>108.740</td>\n",
       "      <td>108.94</td>\n",
       "      <td>4976560.0</td>\n",
       "      <td>0.000735</td>\n",
       "      <td>281.99</td>\n",
       "      <td>285.10</td>\n",
       "      <td>281.85</td>\n",
       "      <td>283.3300</td>\n",
       "      <td>68269143.0</td>\n",
       "      <td>0.008326</td>\n",
       "    </tr>\n",
       "    <tr>\n",
       "      <th>2019-05-15</th>\n",
       "      <td>109.16</td>\n",
       "      <td>109.1800</td>\n",
       "      <td>108.830</td>\n",
       "      <td>109.11</td>\n",
       "      <td>2136097.0</td>\n",
       "      <td>0.001560</td>\n",
       "      <td>281.59</td>\n",
       "      <td>285.77</td>\n",
       "      <td>281.36</td>\n",
       "      <td>285.0600</td>\n",
       "      <td>62989430.0</td>\n",
       "      <td>0.006106</td>\n",
       "    </tr>\n",
       "  </tbody>\n",
       "</table>\n",
       "</div>"
      ],
      "text/plain": [
       "               AGG                                                        SPY  \\\n",
       "              open      high      low   close     volume daily_return    open   \n",
       "2019-05-09  108.78  108.8100  108.550  108.67  4669136.0     0.000921  285.23   \n",
       "2019-05-10  108.74  108.8200  108.630  108.67  4810765.0     0.000000  285.62   \n",
       "2019-05-13  108.83  108.9768  108.815  108.86  5116696.0     0.001748  282.42   \n",
       "2019-05-14  108.90  108.9700  108.740  108.94  4976560.0     0.000735  281.99   \n",
       "2019-05-15  109.16  109.1800  108.830  109.11  2136097.0     0.001560  281.59   \n",
       "\n",
       "                                                                \n",
       "              high     low     close       volume daily_return  \n",
       "2019-05-09  287.33  283.30  286.7500   90532298.0    -0.002817  \n",
       "2019-05-10  288.94  282.30  288.0300   97407327.0     0.004464  \n",
       "2019-05-13  283.49  279.93  280.9905  106597028.0    -0.024440  \n",
       "2019-05-14  285.10  281.85  283.3300   68269143.0     0.008326  \n",
       "2019-05-15  285.77  281.36  285.0600   62989430.0     0.006106  "
      ]
     },
     "execution_count": 196,
     "metadata": {},
     "output_type": "execute_result"
    }
   ],
   "source": [
    "MC_even_dist.portfolio_data.head()"
   ]
  },
  {
   "cell_type": "code",
   "execution_count": 197,
   "metadata": {},
   "outputs": [
    {
     "name": "stdout",
     "output_type": "stream",
     "text": [
      "Running Monte Carlo simulation number 0.\n",
      "Running Monte Carlo simulation number 10.\n",
      "Running Monte Carlo simulation number 20.\n",
      "Running Monte Carlo simulation number 30.\n",
      "Running Monte Carlo simulation number 40.\n",
      "Running Monte Carlo simulation number 50.\n",
      "Running Monte Carlo simulation number 60.\n",
      "Running Monte Carlo simulation number 70.\n",
      "Running Monte Carlo simulation number 80.\n",
      "Running Monte Carlo simulation number 90.\n",
      "Running Monte Carlo simulation number 100.\n",
      "Running Monte Carlo simulation number 110.\n",
      "Running Monte Carlo simulation number 120.\n",
      "Running Monte Carlo simulation number 130.\n",
      "Running Monte Carlo simulation number 140.\n",
      "Running Monte Carlo simulation number 150.\n",
      "Running Monte Carlo simulation number 160.\n",
      "Running Monte Carlo simulation number 170.\n",
      "Running Monte Carlo simulation number 180.\n",
      "Running Monte Carlo simulation number 190.\n",
      "Running Monte Carlo simulation number 200.\n",
      "Running Monte Carlo simulation number 210.\n",
      "Running Monte Carlo simulation number 220.\n",
      "Running Monte Carlo simulation number 230.\n",
      "Running Monte Carlo simulation number 240.\n",
      "Running Monte Carlo simulation number 250.\n",
      "Running Monte Carlo simulation number 260.\n",
      "Running Monte Carlo simulation number 270.\n",
      "Running Monte Carlo simulation number 280.\n",
      "Running Monte Carlo simulation number 290.\n",
      "Running Monte Carlo simulation number 300.\n",
      "Running Monte Carlo simulation number 310.\n",
      "Running Monte Carlo simulation number 320.\n",
      "Running Monte Carlo simulation number 330.\n",
      "Running Monte Carlo simulation number 340.\n",
      "Running Monte Carlo simulation number 350.\n",
      "Running Monte Carlo simulation number 360.\n",
      "Running Monte Carlo simulation number 370.\n",
      "Running Monte Carlo simulation number 380.\n",
      "Running Monte Carlo simulation number 390.\n",
      "Running Monte Carlo simulation number 400.\n",
      "Running Monte Carlo simulation number 410.\n",
      "Running Monte Carlo simulation number 420.\n",
      "Running Monte Carlo simulation number 430.\n",
      "Running Monte Carlo simulation number 440.\n",
      "Running Monte Carlo simulation number 450.\n",
      "Running Monte Carlo simulation number 460.\n",
      "Running Monte Carlo simulation number 470.\n",
      "Running Monte Carlo simulation number 480.\n",
      "Running Monte Carlo simulation number 490.\n"
     ]
    },
    {
     "data": {
      "text/html": [
       "<div>\n",
       "<style scoped>\n",
       "    .dataframe tbody tr th:only-of-type {\n",
       "        vertical-align: middle;\n",
       "    }\n",
       "\n",
       "    .dataframe tbody tr th {\n",
       "        vertical-align: top;\n",
       "    }\n",
       "\n",
       "    .dataframe thead th {\n",
       "        text-align: right;\n",
       "    }\n",
       "</style>\n",
       "<table border=\"1\" class=\"dataframe\">\n",
       "  <thead>\n",
       "    <tr style=\"text-align: right;\">\n",
       "      <th></th>\n",
       "      <th>0</th>\n",
       "      <th>1</th>\n",
       "      <th>2</th>\n",
       "      <th>3</th>\n",
       "      <th>4</th>\n",
       "      <th>5</th>\n",
       "      <th>6</th>\n",
       "      <th>7</th>\n",
       "      <th>8</th>\n",
       "      <th>9</th>\n",
       "      <th>...</th>\n",
       "      <th>490</th>\n",
       "      <th>491</th>\n",
       "      <th>492</th>\n",
       "      <th>493</th>\n",
       "      <th>494</th>\n",
       "      <th>495</th>\n",
       "      <th>496</th>\n",
       "      <th>497</th>\n",
       "      <th>498</th>\n",
       "      <th>499</th>\n",
       "    </tr>\n",
       "  </thead>\n",
       "  <tbody>\n",
       "    <tr>\n",
       "      <th>0</th>\n",
       "      <td>1.000000</td>\n",
       "      <td>1.000000</td>\n",
       "      <td>1.000000</td>\n",
       "      <td>1.000000</td>\n",
       "      <td>1.000000</td>\n",
       "      <td>1.000000</td>\n",
       "      <td>1.000000</td>\n",
       "      <td>1.000000</td>\n",
       "      <td>1.000000</td>\n",
       "      <td>1.000000</td>\n",
       "      <td>...</td>\n",
       "      <td>1.000000</td>\n",
       "      <td>1.000000</td>\n",
       "      <td>1.000000</td>\n",
       "      <td>1.000000</td>\n",
       "      <td>1.000000</td>\n",
       "      <td>1.000000</td>\n",
       "      <td>1.000000</td>\n",
       "      <td>1.000000</td>\n",
       "      <td>1.000000</td>\n",
       "      <td>1.000000</td>\n",
       "    </tr>\n",
       "    <tr>\n",
       "      <th>1</th>\n",
       "      <td>0.979802</td>\n",
       "      <td>0.998600</td>\n",
       "      <td>1.003905</td>\n",
       "      <td>0.988613</td>\n",
       "      <td>0.991596</td>\n",
       "      <td>0.998620</td>\n",
       "      <td>0.988621</td>\n",
       "      <td>0.992123</td>\n",
       "      <td>1.014669</td>\n",
       "      <td>1.017621</td>\n",
       "      <td>...</td>\n",
       "      <td>0.996080</td>\n",
       "      <td>1.005341</td>\n",
       "      <td>0.969728</td>\n",
       "      <td>1.023468</td>\n",
       "      <td>1.013021</td>\n",
       "      <td>1.002447</td>\n",
       "      <td>1.010433</td>\n",
       "      <td>1.001312</td>\n",
       "      <td>0.999560</td>\n",
       "      <td>0.991599</td>\n",
       "    </tr>\n",
       "    <tr>\n",
       "      <th>2</th>\n",
       "      <td>0.974909</td>\n",
       "      <td>0.985459</td>\n",
       "      <td>1.009015</td>\n",
       "      <td>1.004281</td>\n",
       "      <td>0.986766</td>\n",
       "      <td>1.002705</td>\n",
       "      <td>0.991871</td>\n",
       "      <td>0.986962</td>\n",
       "      <td>0.991877</td>\n",
       "      <td>1.016831</td>\n",
       "      <td>...</td>\n",
       "      <td>1.007172</td>\n",
       "      <td>1.005460</td>\n",
       "      <td>0.968400</td>\n",
       "      <td>1.040039</td>\n",
       "      <td>1.020589</td>\n",
       "      <td>1.012851</td>\n",
       "      <td>1.009759</td>\n",
       "      <td>0.993139</td>\n",
       "      <td>1.007287</td>\n",
       "      <td>0.992886</td>\n",
       "    </tr>\n",
       "    <tr>\n",
       "      <th>3</th>\n",
       "      <td>0.968488</td>\n",
       "      <td>0.973537</td>\n",
       "      <td>0.998417</td>\n",
       "      <td>1.002302</td>\n",
       "      <td>0.979785</td>\n",
       "      <td>1.022876</td>\n",
       "      <td>0.983601</td>\n",
       "      <td>0.993431</td>\n",
       "      <td>0.985394</td>\n",
       "      <td>1.009505</td>\n",
       "      <td>...</td>\n",
       "      <td>1.011671</td>\n",
       "      <td>0.996705</td>\n",
       "      <td>0.970198</td>\n",
       "      <td>1.033750</td>\n",
       "      <td>1.032444</td>\n",
       "      <td>1.002945</td>\n",
       "      <td>1.001023</td>\n",
       "      <td>1.006427</td>\n",
       "      <td>1.026928</td>\n",
       "      <td>0.989741</td>\n",
       "    </tr>\n",
       "    <tr>\n",
       "      <th>4</th>\n",
       "      <td>0.964868</td>\n",
       "      <td>0.963066</td>\n",
       "      <td>0.988165</td>\n",
       "      <td>1.002663</td>\n",
       "      <td>0.979175</td>\n",
       "      <td>1.025821</td>\n",
       "      <td>0.982048</td>\n",
       "      <td>0.990451</td>\n",
       "      <td>1.008056</td>\n",
       "      <td>1.001334</td>\n",
       "      <td>...</td>\n",
       "      <td>1.001186</td>\n",
       "      <td>1.007586</td>\n",
       "      <td>0.976469</td>\n",
       "      <td>1.035140</td>\n",
       "      <td>1.037710</td>\n",
       "      <td>1.015763</td>\n",
       "      <td>1.002314</td>\n",
       "      <td>1.012074</td>\n",
       "      <td>1.041145</td>\n",
       "      <td>0.987136</td>\n",
       "    </tr>\n",
       "    <tr>\n",
       "      <th>...</th>\n",
       "      <td>...</td>\n",
       "      <td>...</td>\n",
       "      <td>...</td>\n",
       "      <td>...</td>\n",
       "      <td>...</td>\n",
       "      <td>...</td>\n",
       "      <td>...</td>\n",
       "      <td>...</td>\n",
       "      <td>...</td>\n",
       "      <td>...</td>\n",
       "      <td>...</td>\n",
       "      <td>...</td>\n",
       "      <td>...</td>\n",
       "      <td>...</td>\n",
       "      <td>...</td>\n",
       "      <td>...</td>\n",
       "      <td>...</td>\n",
       "      <td>...</td>\n",
       "      <td>...</td>\n",
       "      <td>...</td>\n",
       "      <td>...</td>\n",
       "    </tr>\n",
       "    <tr>\n",
       "      <th>7556</th>\n",
       "      <td>21.723323</td>\n",
       "      <td>38.796966</td>\n",
       "      <td>44.323903</td>\n",
       "      <td>588.665488</td>\n",
       "      <td>47.129893</td>\n",
       "      <td>61.269891</td>\n",
       "      <td>49.840273</td>\n",
       "      <td>37.845834</td>\n",
       "      <td>151.047780</td>\n",
       "      <td>90.428241</td>\n",
       "      <td>...</td>\n",
       "      <td>81.974499</td>\n",
       "      <td>14.128401</td>\n",
       "      <td>147.023987</td>\n",
       "      <td>37.090892</td>\n",
       "      <td>57.921229</td>\n",
       "      <td>43.617161</td>\n",
       "      <td>38.933112</td>\n",
       "      <td>26.221841</td>\n",
       "      <td>25.269904</td>\n",
       "      <td>268.197530</td>\n",
       "    </tr>\n",
       "    <tr>\n",
       "      <th>7557</th>\n",
       "      <td>21.914841</td>\n",
       "      <td>38.581653</td>\n",
       "      <td>44.342113</td>\n",
       "      <td>591.103767</td>\n",
       "      <td>47.324287</td>\n",
       "      <td>60.916989</td>\n",
       "      <td>49.458388</td>\n",
       "      <td>38.007026</td>\n",
       "      <td>150.307852</td>\n",
       "      <td>88.637600</td>\n",
       "      <td>...</td>\n",
       "      <td>81.189957</td>\n",
       "      <td>13.845815</td>\n",
       "      <td>147.841065</td>\n",
       "      <td>37.159845</td>\n",
       "      <td>56.920375</td>\n",
       "      <td>43.852426</td>\n",
       "      <td>38.703628</td>\n",
       "      <td>26.351442</td>\n",
       "      <td>25.144125</td>\n",
       "      <td>272.049264</td>\n",
       "    </tr>\n",
       "    <tr>\n",
       "      <th>7558</th>\n",
       "      <td>21.609784</td>\n",
       "      <td>38.745834</td>\n",
       "      <td>44.357961</td>\n",
       "      <td>586.073794</td>\n",
       "      <td>47.945869</td>\n",
       "      <td>60.536276</td>\n",
       "      <td>48.959444</td>\n",
       "      <td>37.496487</td>\n",
       "      <td>152.830038</td>\n",
       "      <td>90.968288</td>\n",
       "      <td>...</td>\n",
       "      <td>81.279678</td>\n",
       "      <td>13.865964</td>\n",
       "      <td>148.420852</td>\n",
       "      <td>36.791167</td>\n",
       "      <td>55.450593</td>\n",
       "      <td>44.199069</td>\n",
       "      <td>38.997751</td>\n",
       "      <td>26.597507</td>\n",
       "      <td>25.061290</td>\n",
       "      <td>277.854042</td>\n",
       "    </tr>\n",
       "    <tr>\n",
       "      <th>7559</th>\n",
       "      <td>21.533470</td>\n",
       "      <td>38.740213</td>\n",
       "      <td>45.243379</td>\n",
       "      <td>583.979646</td>\n",
       "      <td>48.279705</td>\n",
       "      <td>61.271544</td>\n",
       "      <td>49.549550</td>\n",
       "      <td>37.690285</td>\n",
       "      <td>151.761889</td>\n",
       "      <td>91.746300</td>\n",
       "      <td>...</td>\n",
       "      <td>81.327338</td>\n",
       "      <td>13.895963</td>\n",
       "      <td>144.720975</td>\n",
       "      <td>37.120800</td>\n",
       "      <td>54.687386</td>\n",
       "      <td>43.986536</td>\n",
       "      <td>38.759306</td>\n",
       "      <td>26.544213</td>\n",
       "      <td>25.016321</td>\n",
       "      <td>280.064760</td>\n",
       "    </tr>\n",
       "    <tr>\n",
       "      <th>7560</th>\n",
       "      <td>21.568456</td>\n",
       "      <td>39.057759</td>\n",
       "      <td>44.307975</td>\n",
       "      <td>583.684557</td>\n",
       "      <td>48.294924</td>\n",
       "      <td>60.977161</td>\n",
       "      <td>49.448167</td>\n",
       "      <td>36.978807</td>\n",
       "      <td>153.902596</td>\n",
       "      <td>92.811773</td>\n",
       "      <td>...</td>\n",
       "      <td>80.833114</td>\n",
       "      <td>14.043131</td>\n",
       "      <td>143.557363</td>\n",
       "      <td>36.875132</td>\n",
       "      <td>54.257714</td>\n",
       "      <td>44.055372</td>\n",
       "      <td>39.268748</td>\n",
       "      <td>26.570694</td>\n",
       "      <td>25.088250</td>\n",
       "      <td>277.248604</td>\n",
       "    </tr>\n",
       "  </tbody>\n",
       "</table>\n",
       "<p>7561 rows × 500 columns</p>\n",
       "</div>"
      ],
      "text/plain": [
       "            0          1          2           3          4          5    \\\n",
       "0      1.000000   1.000000   1.000000    1.000000   1.000000   1.000000   \n",
       "1      0.979802   0.998600   1.003905    0.988613   0.991596   0.998620   \n",
       "2      0.974909   0.985459   1.009015    1.004281   0.986766   1.002705   \n",
       "3      0.968488   0.973537   0.998417    1.002302   0.979785   1.022876   \n",
       "4      0.964868   0.963066   0.988165    1.002663   0.979175   1.025821   \n",
       "...         ...        ...        ...         ...        ...        ...   \n",
       "7556  21.723323  38.796966  44.323903  588.665488  47.129893  61.269891   \n",
       "7557  21.914841  38.581653  44.342113  591.103767  47.324287  60.916989   \n",
       "7558  21.609784  38.745834  44.357961  586.073794  47.945869  60.536276   \n",
       "7559  21.533470  38.740213  45.243379  583.979646  48.279705  61.271544   \n",
       "7560  21.568456  39.057759  44.307975  583.684557  48.294924  60.977161   \n",
       "\n",
       "            6          7           8          9    ...        490        491  \\\n",
       "0      1.000000   1.000000    1.000000   1.000000  ...   1.000000   1.000000   \n",
       "1      0.988621   0.992123    1.014669   1.017621  ...   0.996080   1.005341   \n",
       "2      0.991871   0.986962    0.991877   1.016831  ...   1.007172   1.005460   \n",
       "3      0.983601   0.993431    0.985394   1.009505  ...   1.011671   0.996705   \n",
       "4      0.982048   0.990451    1.008056   1.001334  ...   1.001186   1.007586   \n",
       "...         ...        ...         ...        ...  ...        ...        ...   \n",
       "7556  49.840273  37.845834  151.047780  90.428241  ...  81.974499  14.128401   \n",
       "7557  49.458388  38.007026  150.307852  88.637600  ...  81.189957  13.845815   \n",
       "7558  48.959444  37.496487  152.830038  90.968288  ...  81.279678  13.865964   \n",
       "7559  49.549550  37.690285  151.761889  91.746300  ...  81.327338  13.895963   \n",
       "7560  49.448167  36.978807  153.902596  92.811773  ...  80.833114  14.043131   \n",
       "\n",
       "             492        493        494        495        496        497  \\\n",
       "0       1.000000   1.000000   1.000000   1.000000   1.000000   1.000000   \n",
       "1       0.969728   1.023468   1.013021   1.002447   1.010433   1.001312   \n",
       "2       0.968400   1.040039   1.020589   1.012851   1.009759   0.993139   \n",
       "3       0.970198   1.033750   1.032444   1.002945   1.001023   1.006427   \n",
       "4       0.976469   1.035140   1.037710   1.015763   1.002314   1.012074   \n",
       "...          ...        ...        ...        ...        ...        ...   \n",
       "7556  147.023987  37.090892  57.921229  43.617161  38.933112  26.221841   \n",
       "7557  147.841065  37.159845  56.920375  43.852426  38.703628  26.351442   \n",
       "7558  148.420852  36.791167  55.450593  44.199069  38.997751  26.597507   \n",
       "7559  144.720975  37.120800  54.687386  43.986536  38.759306  26.544213   \n",
       "7560  143.557363  36.875132  54.257714  44.055372  39.268748  26.570694   \n",
       "\n",
       "            498         499  \n",
       "0      1.000000    1.000000  \n",
       "1      0.999560    0.991599  \n",
       "2      1.007287    0.992886  \n",
       "3      1.026928    0.989741  \n",
       "4      1.041145    0.987136  \n",
       "...         ...         ...  \n",
       "7556  25.269904  268.197530  \n",
       "7557  25.144125  272.049264  \n",
       "7558  25.061290  277.854042  \n",
       "7559  25.016321  280.064760  \n",
       "7560  25.088250  277.248604  \n",
       "\n",
       "[7561 rows x 500 columns]"
      ]
     },
     "execution_count": 197,
     "metadata": {},
     "output_type": "execute_result"
    }
   ],
   "source": [
    "# Running a Monte Carlo simulation to forecast 30 years cumulative returns\n",
    "MC_even_dist.calc_cumulative_return()"
   ]
  },
  {
   "cell_type": "code",
   "execution_count": 198,
   "metadata": {},
   "outputs": [
    {
     "data": {
      "image/png": "[encoded data removed]",
      "text/plain": [
       "<Figure size 432x288 with 1 Axes>"
      ]
     },
     "metadata": {
      "needs_background": "light"
     },
     "output_type": "display_data"
    }
   ],
   "source": [
    "# Plot simulation outcomes\n",
    "line_plot = MC_even_dist.plot_simulation()"
   ]
  },
  {
   "cell_type": "code",
   "execution_count": 199,
   "metadata": {},
   "outputs": [
    {
     "data": {
      "image/png": "[encoded data removed]",
      "text/plain": [
       "<Figure size 432x288 with 1 Axes>"
      ]
     },
     "metadata": {
      "needs_background": "light"
     },
     "output_type": "display_data"
    }
   ],
   "source": [
    "# Plot probability distribution and confidence intervals\n",
    "dist_plot = MC_even_dist.plot_distribution()"
   ]
  },
  {
   "cell_type": "markdown",
   "metadata": {},
   "source": [
    "### Retirement Analysis"
   ]
  },
  {
   "cell_type": "code",
   "execution_count": 200,
   "metadata": {},
   "outputs": [
    {
     "name": "stdout",
     "output_type": "stream",
     "text": [
      "count           500.000000\n",
      "mean             76.630638\n",
      "std              81.517142\n",
      "min               5.057781\n",
      "25%              27.797450\n",
      "50%              48.458243\n",
      "75%              93.546931\n",
      "max             595.506720\n",
      "95% CI Lower      9.181157\n",
      "95% CI Upper    291.785998\n",
      "Name: 7560, dtype: float64\n"
     ]
    }
   ],
   "source": [
    "# Fetch summary statistics from the Monte Carlo simulation results\n",
    "even_tbl = MC_even_dist.summarize_cumulative_return()\n",
    "\n",
    "# Print summary statistics\n",
    "print(even_tbl)"
   ]
  },
  {
   "cell_type": "markdown",
   "metadata": {},
   "source": [
    "### Calculate the expected portfolio return at the 95% lower and upper confidence intervals based on a `$20,000` initial investment."
   ]
  },
  {
   "cell_type": "code",
   "execution_count": 201,
   "metadata": {},
   "outputs": [
    {
     "name": "stdout",
     "output_type": "stream",
     "text": [
      "There is a 95% chance that an initial investment of $20000 in the portfolio over the next 30 years will end within in the range of $183623.13 and $5835719.97\n"
     ]
    }
   ],
   "source": [
    "# Set initial investment\n",
    "initial_investment = 20000\n",
    "\n",
    "# Use the lower and upper `95%` confidence intervals to calculate the range of the possible outcomes of our $20,000\n",
    "ci_lower = round(even_tbl[8]*20000,2)\n",
    "ci_upper = round(even_tbl[9]*20000,2)\n",
    "\n",
    "# Print results\n",
    "print(f\"There is a 95% chance that an initial investment of ${initial_investment} in the portfolio\"\n",
    "      f\" over the next 30 years will end within in the range of\"\n",
    "      f\" ${ci_lower} and ${ci_upper}\")"
   ]
  },
  {
   "cell_type": "markdown",
   "metadata": {},
   "source": [
    "### Calculate the expected portfolio return at the `95%` lower and upper confidence intervals based on a `50%` increase in the initial investment."
   ]
  },
  {
   "cell_type": "code",
   "execution_count": 202,
   "metadata": {},
   "outputs": [
    {
     "name": "stdout",
     "output_type": "stream",
     "text": [
      "There is a 95% chance that an initial investment of $30000.0 in the portfolio over the next 30 years will end within in the range of $275434.7 and $8753579.95\n"
     ]
    }
   ],
   "source": [
    "# Set initial investment\n",
    "initial_investment = 20000 * 1.5\n",
    "\n",
    "# Use the lower and upper `95%` confidence intervals to calculate the range of the possible outcomes of our $30,000\n",
    "tbl = MC_even_dist.summarize_cumulative_return()\n",
    "ci_lower = round(tbl[8]*20000*1.5,2)\n",
    "ci_upper = round(tbl[9]*20000*1.5,2)\n",
    "\n",
    "# Print results\n",
    "print(f\"There is a 95% chance that an initial investment of ${initial_investment} in the portfolio\"\n",
    "      f\" over the next 30 years will end within in the range of\"\n",
    "      f\" ${ci_lower} and ${ci_upper}\")"
   ]
  },
  {
   "cell_type": "markdown",
   "metadata": {},
   "source": [
    "## Optional Challenge - Early Retirement\n",
    "\n",
    "\n",
    "### Five Years Retirement Option"
   ]
  },
  {
   "cell_type": "code",
   "execution_count": 203,
   "metadata": {},
   "outputs": [],
   "source": [
    "# Configuring a Monte Carlo simulation to forecast 5 years cumulative returns\n",
    "# YOUR CODE HERE!\n",
    "\n",
    "# Print the simulation input data"
   ]
  },
  {
   "cell_type": "code",
   "execution_count": 204,
   "metadata": {},
   "outputs": [],
   "source": [
    "# Running a Monte Carlo simulation to forecast 5 years cumulative returns\n",
    "# YOUR CODE HERE!"
   ]
  },
  {
   "cell_type": "code",
   "execution_count": 210,
   "metadata": {},
   "outputs": [],
   "source": [
    "# Plot simulation outcomes\n",
    "# YOUR CODE HERE!"
   ]
  },
  {
   "cell_type": "code",
   "execution_count": 206,
   "metadata": {},
   "outputs": [],
   "source": [
    "# Plot probability distribution and confidence intervals\n",
    "# YOUR CODE HERE!\n"
   ]
  },
  {
   "cell_type": "code",
   "execution_count": 207,
   "metadata": {},
   "outputs": [],
   "source": [
    "# Fetch summary statistics from the Monte Carlo simulation results\n",
    "# YOUR CODE HERE!\n",
    "\n",
    "# Print summary statistics\n"
   ]
  },
  {
   "cell_type": "code",
   "execution_count": 211,
   "metadata": {},
   "outputs": [],
   "source": [
    "# Set initial investment\n",
    "\n",
    "# Use the lower and upper `95%` confidence intervals to calculate the range of the possible outcomes of our $60,000\n",
    "\n",
    "# Print results\n"
   ]
  },
  {
   "cell_type": "markdown",
   "metadata": {},
   "source": [
    "### Ten Years Retirement Option"
   ]
  },
  {
   "cell_type": "code",
   "execution_count": null,
   "metadata": {},
   "outputs": [],
   "source": [
    "# Configuring a Monte Carlo simulation to forecast 10 years cumulative returns\n",
    "# YOUR CODE HERE!"
   ]
  },
  {
   "cell_type": "code",
   "execution_count": null,
   "metadata": {},
   "outputs": [],
   "source": [
    "# Running a Monte Carlo simulation to forecast 10 years cumulative returns\n",
    "# YOUR CODE HERE!"
   ]
  },
  {
   "cell_type": "code",
   "execution_count": null,
   "metadata": {},
   "outputs": [],
   "source": [
    "# Plot simulation outcomes\n",
    "# YOUR CODE HERE!"
   ]
  },
  {
   "cell_type": "code",
   "execution_count": null,
   "metadata": {},
   "outputs": [],
   "source": [
    "# Plot probability distribution and confidence intervals\n",
    "# YOUR CODE HERE!"
   ]
  },
  {
   "cell_type": "code",
   "execution_count": null,
   "metadata": {},
   "outputs": [],
   "source": [
    "# Fetch summary statistics from the Monte Carlo simulation results\n",
    "# YOUR CODE HERE!\n",
    "\n",
    "# Print summary statistics\n",
    "# YOUR CODE HERE!"
   ]
  },
  {
   "cell_type": "code",
   "execution_count": null,
   "metadata": {},
   "outputs": [],
   "source": [
    "# Set initial investment\n",
    "# YOUR CODE HERE!\n",
    "\n",
    "# Use the lower and upper `95%` confidence intervals to calculate the range of the possible outcomes of our $60,000\n",
    "# YOUR CODE HERE!\n",
    "\n",
    "# Print results\n",
    "print(f\"There is a 95% chance that an initial investment of ${initial_investment} in the portfolio\"\n",
    "      f\" over the next 10 years will end within in the range of\"\n",
    "      f\" ${ci_lower_ten} and ${ci_upper_ten}\")"
   ]
  },
  {
   "cell_type": "code",
   "execution_count": null,
   "metadata": {},
   "outputs": [],
   "source": []
  },
  {
   "cell_type": "code",
   "execution_count": null,
   "metadata": {},
   "outputs": [],
   "source": []
  }
 ],
 "metadata": {
  "kernelspec": {
   "display_name": "Python 3",
   "language": "python",
   "name": "python3"
  },
  "language_info": {
   "codemirror_mode": {
    "name": "ipython",
    "version": 3
   },
   "file_extension": ".py",
   "mimetype": "text/x-python",
   "name": "python",
   "nbconvert_exporter": "python",
   "pygments_lexer": "ipython3",
   "version": "3.7.9"
  }
 },
 "nbformat": 4,
 "nbformat_minor": 4
}
