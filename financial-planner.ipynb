{
 "cells": [
  {
   "cell_type": "markdown",
   "metadata": {},
   "source": [
    "# Unit 5 - Financial Planning\n"
   ]
  },
  {
   "cell_type": "code",
   "execution_count": null,
   "metadata": {},
   "outputs": [],
   "source": [
    "# Initial imports\n",
    "import os\n",
    "import requests\n",
    "import pandas as pd\n",
    "from dotenv import load_dotenv\n",
    "import alpaca_trade_api as tradeapi\n",
    "from MCForecastTools import MCSimulation\n",
    "\n",
    "%matplotlib inline"
   ]
  },
  {
   "cell_type": "code",
   "execution_count": 92,
   "metadata": {},
   "outputs": [
    {
     "data": {
      "text/plain": [
       "True"
      ]
     },
     "execution_count": 92,
     "metadata": {},
     "output_type": "execute_result"
    }
   ],
   "source": [
    "# Load .env enviroment variables\n",
    "load_dotenv()"
   ]
  },
  {
   "cell_type": "markdown",
   "metadata": {},
   "source": [
    "## Part 1 - Personal Finance Planner"
   ]
  },
  {
   "cell_type": "markdown",
   "metadata": {},
   "source": [
    "### Collect Crypto Prices Using the `requests` Library"
   ]
  },
  {
   "cell_type": "code",
   "execution_count": 65,
   "metadata": {},
   "outputs": [],
   "source": [
    "# Set current amount of crypto assets\n",
    "my_btc = 1.2\n",
    "my_eth = 5.3"
   ]
  },
  {
   "cell_type": "code",
   "execution_count": 66,
   "metadata": {},
   "outputs": [],
   "source": [
    "# Crypto API URLs\n",
    "btc_url = \"https://api.alternative.me/v2/ticker/Bitcoin/?convert=CAD\"\n",
    "eth_url = \"https://api.alternative.me/v2/ticker/Ethereum/?convert=CAD\""
   ]
  },
  {
   "cell_type": "code",
   "execution_count": 67,
   "metadata": {},
   "outputs": [
    {
     "name": "stdout",
     "output_type": "stream",
     "text": [
      "The current value of your 1.2 BTC is $45073.20\n",
      "The current value of your 5.3 ETH is $12758.37\n"
     ]
    }
   ],
   "source": [
    "# Fetch current BTC price\n",
    "data_btc = requests.get(btc_url).json()\n",
    "btc_value = data_btc[\"data\"][\"1\"][\"quotes\"][\"USD\"][\"price\"]\n",
    "\n",
    "# Fetch current ETH price\n",
    "data_eth = requests.get(eth_url).json()\n",
    "eth_value = data_eth[\"data\"][\"1027\"][\"quotes\"][\"USD\"][\"price\"]\n",
    "\n",
    "\n",
    "# Compute current value of my crpto\n",
    "my_btc_value = my_btc * btc_value\n",
    "my_eth_value = my_eth * eth_value\n",
    "\n",
    "# Print current crypto wallet balance\n",
    "print(f\"The current value of your {my_btc} BTC is ${my_btc_value:0.2f}\")\n",
    "print(f\"The current value of your {my_eth} ETH is ${my_eth_value:0.2f}\")"
   ]
  },
  {
   "cell_type": "markdown",
   "metadata": {},
   "source": [
    "### Collect Investments Data Using Alpaca: `SPY` (stocks) and `AGG` (bonds)"
   ]
  },
  {
   "cell_type": "code",
   "execution_count": 68,
   "metadata": {},
   "outputs": [],
   "source": [
    "# Current amount of shares\n",
    "my_agg = 200\n",
    "my_spy = 50"
   ]
  },
  {
   "cell_type": "code",
   "execution_count": 69,
   "metadata": {},
   "outputs": [],
   "source": [
    "# Set Alpaca API key and secret\n",
    "#alpaca_api_key = os.getenv(\"ALPACA_API_KEY\")\n",
    "alpaca_api_key = os.getenv(\"ALPACA_API_KEY\")\n",
    "alpaca_secret_key = os.getenv(\"ALPACA_SECRET_KEY\")\n",
    "\n",
    "# Create the Alpaca API object\n",
    "api = tradeapi.REST(\n",
    "    alpaca_api_key,\n",
    "    alpaca_secret_key,\n",
    "    api_version=\"v2\")"
   ]
  },
  {
   "cell_type": "code",
   "execution_count": 70,
   "metadata": {},
   "outputs": [
    {
     "data": {
      "text/html": [
       "<div>\n",
       "<style scoped>\n",
       "    .dataframe tbody tr th:only-of-type {\n",
       "        vertical-align: middle;\n",
       "    }\n",
       "\n",
       "    .dataframe tbody tr th {\n",
       "        vertical-align: top;\n",
       "    }\n",
       "\n",
       "    .dataframe thead tr th {\n",
       "        text-align: left;\n",
       "    }\n",
       "\n",
       "    .dataframe thead tr:last-of-type th {\n",
       "        text-align: right;\n",
       "    }\n",
       "</style>\n",
       "<table border=\"1\" class=\"dataframe\">\n",
       "  <thead>\n",
       "    <tr>\n",
       "      <th></th>\n",
       "      <th colspan=\"5\" halign=\"left\">AGG</th>\n",
       "      <th colspan=\"5\" halign=\"left\">SPY</th>\n",
       "    </tr>\n",
       "    <tr>\n",
       "      <th></th>\n",
       "      <th>open</th>\n",
       "      <th>high</th>\n",
       "      <th>low</th>\n",
       "      <th>close</th>\n",
       "      <th>volume</th>\n",
       "      <th>open</th>\n",
       "      <th>high</th>\n",
       "      <th>low</th>\n",
       "      <th>close</th>\n",
       "      <th>volume</th>\n",
       "    </tr>\n",
       "    <tr>\n",
       "      <th>time</th>\n",
       "      <th></th>\n",
       "      <th></th>\n",
       "      <th></th>\n",
       "      <th></th>\n",
       "      <th></th>\n",
       "      <th></th>\n",
       "      <th></th>\n",
       "      <th></th>\n",
       "      <th></th>\n",
       "      <th></th>\n",
       "    </tr>\n",
       "  </thead>\n",
       "  <tbody>\n",
       "    <tr>\n",
       "      <th>2021-04-30 00:00:00-04:00</th>\n",
       "      <td>114.41</td>\n",
       "      <td>114.515</td>\n",
       "      <td>114.33</td>\n",
       "      <td>114.5</td>\n",
       "      <td>5160765</td>\n",
       "      <td>417.63</td>\n",
       "      <td>418.54</td>\n",
       "      <td>416.34</td>\n",
       "      <td>417.3</td>\n",
       "      <td>73129109</td>\n",
       "    </tr>\n",
       "  </tbody>\n",
       "</table>\n",
       "</div>"
      ],
      "text/plain": [
       "                              AGG                                      SPY  \\\n",
       "                             open     high     low  close   volume    open   \n",
       "time                                                                         \n",
       "2021-04-30 00:00:00-04:00  114.41  114.515  114.33  114.5  5160765  417.63   \n",
       "\n",
       "                                                            \n",
       "                             high     low  close    volume  \n",
       "time                                                        \n",
       "2021-04-30 00:00:00-04:00  418.54  416.34  417.3  73129109  "
      ]
     },
     "execution_count": 70,
     "metadata": {},
     "output_type": "execute_result"
    }
   ],
   "source": [
    "# Format current date as ISO format\n",
    "today = pd.Timestamp(\"2021-04-30\", tz=\"America/New_York\").isoformat()\n",
    "\n",
    "# Set the tickers\n",
    "tickers = [\"AGG\", \"SPY\"]\n",
    "\n",
    "# Set timeframe to '1D' for Alpaca API\n",
    "timeframe = \"1D\"\n",
    "\n",
    "# Get current closing prices for SPY and AGG\n",
    "df_portfolio = api.get_barset(\n",
    "    tickers,\n",
    "    timeframe,\n",
    "    start = today,\n",
    "    end = today,\n",
    ").df\n",
    "\n",
    "# Preview DataFrame\n",
    "df_portfolio.head()"
   ]
  },
  {
   "cell_type": "code",
   "execution_count": 71,
   "metadata": {},
   "outputs": [
    {
     "name": "stdout",
     "output_type": "stream",
     "text": [
      "Current AGG closing price: $114.5\n",
      "Current SPY closing price: $417.3\n"
     ]
    }
   ],
   "source": [
    "# Pick AGG and SPY close prices\n",
    "agg_close_price = float(df_portfolio[\"AGG\"][\"close\"])                                     \n",
    "spy_close_price = float(df_portfolio[\"SPY\"][\"close\"])\n",
    "                                     \n",
    "# Print AGG and SPY close prices\n",
    "print(f\"Current AGG closing price: ${agg_close_price}\")\n",
    "print(f\"Current SPY closing price: ${spy_close_price}\")"
   ]
  },
  {
   "cell_type": "code",
   "execution_count": 72,
   "metadata": {},
   "outputs": [
    {
     "name": "stdout",
     "output_type": "stream",
     "text": [
      "The current value of your 50 SPY shares is $20865.00\n",
      "The current value of your 200 AGG shares is $22900.00\n"
     ]
    }
   ],
   "source": [
    "# Compute the current value of shares\n",
    "my_agg_value = my_agg * agg_close_price\n",
    "my_spy_value = my_spy * spy_close_price\n",
    "\n",
    "# Print current value of share\n",
    "print(f\"The current value of your {my_spy} SPY shares is ${my_spy_value:0.2f}\")\n",
    "print(f\"The current value of your {my_agg} AGG shares is ${my_agg_value:0.2f}\")"
   ]
  },
  {
   "cell_type": "markdown",
   "metadata": {},
   "source": [
    "### Savings Health Analysis"
   ]
  },
  {
   "cell_type": "code",
   "execution_count": 73,
   "metadata": {},
   "outputs": [
    {
     "data": {
      "text/html": [
       "<div>\n",
       "<style scoped>\n",
       "    .dataframe tbody tr th:only-of-type {\n",
       "        vertical-align: middle;\n",
       "    }\n",
       "\n",
       "    .dataframe tbody tr th {\n",
       "        vertical-align: top;\n",
       "    }\n",
       "\n",
       "    .dataframe thead th {\n",
       "        text-align: right;\n",
       "    }\n",
       "</style>\n",
       "<table border=\"1\" class=\"dataframe\">\n",
       "  <thead>\n",
       "    <tr style=\"text-align: right;\">\n",
       "      <th></th>\n",
       "      <th>amount</th>\n",
       "    </tr>\n",
       "  </thead>\n",
       "  <tbody>\n",
       "    <tr>\n",
       "      <th>crypto</th>\n",
       "      <td>57831.572</td>\n",
       "    </tr>\n",
       "    <tr>\n",
       "      <th>shares</th>\n",
       "      <td>43765.000</td>\n",
       "    </tr>\n",
       "  </tbody>\n",
       "</table>\n",
       "</div>"
      ],
      "text/plain": [
       "           amount\n",
       "crypto  57831.572\n",
       "shares  43765.000"
      ]
     },
     "metadata": {},
     "output_type": "display_data"
    }
   ],
   "source": [
    "# Set monthly household income\n",
    "monthly_income = 12000\n",
    "total_crypto = my_btc_value + my_eth_value\n",
    "total_shares_value = my_agg_value + my_spy_value\n",
    "data = {'amount':[total_crypto, total_shares_value]}\n",
    "\n",
    "# Create savings DataFrame\n",
    "df_savings = pd.DataFrame(data, index =['crypto', 'shares'])\n",
    "\n",
    "# Display savings DataFrame\n",
    "display(df_savings)"
   ]
  },
  {
   "cell_type": "code",
   "execution_count": 74,
   "metadata": {},
   "outputs": [
    {
     "data": {
      "text/plain": [
       "<AxesSubplot:title={'center':'Composition of Personal Savings'}, ylabel='amount'>"
      ]
     },
     "execution_count": 74,
     "metadata": {},
     "output_type": "execute_result"
    },
    {
     "data": {
      "image/png": "[encoded data removed]",
      "text/plain": [
       "<Figure size 432x288 with 1 Axes>"
      ]
     },
     "metadata": {},
     "output_type": "display_data"
    }
   ],
   "source": [
    "# Plot savings pie chart\n",
    "df_savings.plot.pie(y=\"amount\", title=\"Composition of Personal Savings\")"
   ]
  },
  {
   "cell_type": "code",
   "execution_count": 75,
   "metadata": {},
   "outputs": [
    {
     "name": "stdout",
     "output_type": "stream",
     "text": [
      "Congratulations! You have enough money in your emergency fund.\n"
     ]
    }
   ],
   "source": [
    "# Set ideal emergency fund\n",
    "emergency_fund = monthly_income * 3\n",
    "\n",
    "# Calculate total amount of savings\n",
    "total_savings = total_crypto + total_shares_value\n",
    "\n",
    "# Validate saving health\n",
    "if emergency_fund < total_savings:\n",
    "    print(\"Congratulations! You have enough money in your emergency fund.\")\n",
    "elif emergency_fund == total_savings:\n",
    "    print(\"You have reach your financial goal\")\n",
    "else:\n",
    "    print(f\"You are {emergency_fun - total_savings} dollars away from reaching the goal\")"
   ]
  },
  {
   "cell_type": "markdown",
   "metadata": {},
   "source": [
    "## Part 2 - Retirement Planning\n",
    "\n",
    "### Monte Carlo Simulation"
   ]
  },
  {
   "cell_type": "code",
   "execution_count": 76,
   "metadata": {},
   "outputs": [],
   "source": [
    "# Set start and end dates of five years back from today.\n",
    "# Sample results may vary from the solution based on the time frame chosen\n",
    "start_date = pd.Timestamp('2016-04-30', tz='America/New_York').isoformat()\n",
    "end_date = pd.Timestamp('2021-04-30', tz='America/New_York').isoformat()"
   ]
  },
  {
   "cell_type": "code",
   "execution_count": 77,
   "metadata": {},
   "outputs": [
    {
     "data": {
      "text/html": [
       "<div>\n",
       "<style scoped>\n",
       "    .dataframe tbody tr th:only-of-type {\n",
       "        vertical-align: middle;\n",
       "    }\n",
       "\n",
       "    .dataframe tbody tr th {\n",
       "        vertical-align: top;\n",
       "    }\n",
       "\n",
       "    .dataframe thead tr th {\n",
       "        text-align: left;\n",
       "    }\n",
       "</style>\n",
       "<table border=\"1\" class=\"dataframe\">\n",
       "  <thead>\n",
       "    <tr>\n",
       "      <th></th>\n",
       "      <th colspan=\"5\" halign=\"left\">AGG</th>\n",
       "      <th colspan=\"5\" halign=\"left\">SPY</th>\n",
       "    </tr>\n",
       "    <tr>\n",
       "      <th></th>\n",
       "      <th>open</th>\n",
       "      <th>high</th>\n",
       "      <th>low</th>\n",
       "      <th>close</th>\n",
       "      <th>volume</th>\n",
       "      <th>open</th>\n",
       "      <th>high</th>\n",
       "      <th>low</th>\n",
       "      <th>close</th>\n",
       "      <th>volume</th>\n",
       "    </tr>\n",
       "  </thead>\n",
       "  <tbody>\n",
       "    <tr>\n",
       "      <th>2019-05-08</th>\n",
       "      <td>108.74</td>\n",
       "      <td>108.8100</td>\n",
       "      <td>108.550</td>\n",
       "      <td>108.57</td>\n",
       "      <td>5808492</td>\n",
       "      <td>287.53</td>\n",
       "      <td>289.43</td>\n",
       "      <td>286.87</td>\n",
       "      <td>287.5600</td>\n",
       "      <td>75117753</td>\n",
       "    </tr>\n",
       "    <tr>\n",
       "      <th>2019-05-09</th>\n",
       "      <td>108.78</td>\n",
       "      <td>108.8100</td>\n",
       "      <td>108.550</td>\n",
       "      <td>108.67</td>\n",
       "      <td>4669136</td>\n",
       "      <td>285.23</td>\n",
       "      <td>287.33</td>\n",
       "      <td>283.30</td>\n",
       "      <td>286.7500</td>\n",
       "      <td>90532298</td>\n",
       "    </tr>\n",
       "    <tr>\n",
       "      <th>2019-05-10</th>\n",
       "      <td>108.74</td>\n",
       "      <td>108.8200</td>\n",
       "      <td>108.630</td>\n",
       "      <td>108.67</td>\n",
       "      <td>4810765</td>\n",
       "      <td>285.62</td>\n",
       "      <td>288.94</td>\n",
       "      <td>282.30</td>\n",
       "      <td>288.0300</td>\n",
       "      <td>97407327</td>\n",
       "    </tr>\n",
       "    <tr>\n",
       "      <th>2019-05-13</th>\n",
       "      <td>108.83</td>\n",
       "      <td>108.9768</td>\n",
       "      <td>108.815</td>\n",
       "      <td>108.86</td>\n",
       "      <td>5116696</td>\n",
       "      <td>282.42</td>\n",
       "      <td>283.49</td>\n",
       "      <td>279.93</td>\n",
       "      <td>280.9905</td>\n",
       "      <td>106597028</td>\n",
       "    </tr>\n",
       "    <tr>\n",
       "      <th>2019-05-14</th>\n",
       "      <td>108.90</td>\n",
       "      <td>108.9700</td>\n",
       "      <td>108.740</td>\n",
       "      <td>108.94</td>\n",
       "      <td>4976560</td>\n",
       "      <td>281.99</td>\n",
       "      <td>285.10</td>\n",
       "      <td>281.85</td>\n",
       "      <td>283.3300</td>\n",
       "      <td>68269143</td>\n",
       "    </tr>\n",
       "  </tbody>\n",
       "</table>\n",
       "</div>"
      ],
      "text/plain": [
       "               AGG                                         SPY          \\\n",
       "              open      high      low   close   volume    open    high   \n",
       "2019-05-08  108.74  108.8100  108.550  108.57  5808492  287.53  289.43   \n",
       "2019-05-09  108.78  108.8100  108.550  108.67  4669136  285.23  287.33   \n",
       "2019-05-10  108.74  108.8200  108.630  108.67  4810765  285.62  288.94   \n",
       "2019-05-13  108.83  108.9768  108.815  108.86  5116696  282.42  283.49   \n",
       "2019-05-14  108.90  108.9700  108.740  108.94  4976560  281.99  285.10   \n",
       "\n",
       "                                         \n",
       "               low     close     volume  \n",
       "2019-05-08  286.87  287.5600   75117753  \n",
       "2019-05-09  283.30  286.7500   90532298  \n",
       "2019-05-10  282.30  288.0300   97407327  \n",
       "2019-05-13  279.93  280.9905  106597028  \n",
       "2019-05-14  281.85  283.3300   68269143  "
      ]
     },
     "execution_count": 77,
     "metadata": {},
     "output_type": "execute_result"
    }
   ],
   "source": [
    "# Get 5 years' worth of historical data for SPY and AGG\n",
    "tickers = [\"AGG\", \"SPY\"]\n",
    "df_stock_data = api.get_barset(\n",
    "    tickers,\n",
    "    timeframe,\n",
    "    start = start_date,\n",
    "    end = end_date,\n",
    "    limit = 500,\n",
    ").df\n",
    "df_stock_data.index = df_stock_data.index.date\n",
    "\n",
    "# Display sample data\n",
    "df_stock_data.head()"
   ]
  },
  {
   "cell_type": "code",
   "execution_count": 78,
   "metadata": {},
   "outputs": [],
   "source": [
    "# Configuring a Monte Carlo simulation to forecast 30 years cumulative returns\n",
    "MC_even_dist = MCSimulation(portfolio_data = df_stock_data, weights = [.40, .60], num_simulation = 500, num_trading_days = 252*30)"
   ]
  },
  {
   "cell_type": "code",
   "execution_count": null,
   "metadata": {},
   "outputs": [],
   "source": [
    "# Printing the simulation input data\n",
    "MC_even_dist.portfolio_data.head()"
   ]
  },
  {
   "cell_type": "code",
   "execution_count": 80,
   "metadata": {},
   "outputs": [
    {
     "name": "stdout",
     "output_type": "stream",
     "text": [
      "Running Monte Carlo simulation number 0.\n",
      "Running Monte Carlo simulation number 10.\n",
      "Running Monte Carlo simulation number 20.\n",
      "Running Monte Carlo simulation number 30.\n",
      "Running Monte Carlo simulation number 40.\n",
      "Running Monte Carlo simulation number 50.\n",
      "Running Monte Carlo simulation number 60.\n",
      "Running Monte Carlo simulation number 70.\n",
      "Running Monte Carlo simulation number 80.\n",
      "Running Monte Carlo simulation number 90.\n",
      "Running Monte Carlo simulation number 100.\n",
      "Running Monte Carlo simulation number 110.\n",
      "Running Monte Carlo simulation number 120.\n",
      "Running Monte Carlo simulation number 130.\n",
      "Running Monte Carlo simulation number 140.\n",
      "Running Monte Carlo simulation number 150.\n",
      "Running Monte Carlo simulation number 160.\n",
      "Running Monte Carlo simulation number 170.\n",
      "Running Monte Carlo simulation number 180.\n",
      "Running Monte Carlo simulation number 190.\n",
      "Running Monte Carlo simulation number 200.\n",
      "Running Monte Carlo simulation number 210.\n",
      "Running Monte Carlo simulation number 220.\n",
      "Running Monte Carlo simulation number 230.\n",
      "Running Monte Carlo simulation number 240.\n",
      "Running Monte Carlo simulation number 250.\n",
      "Running Monte Carlo simulation number 260.\n",
      "Running Monte Carlo simulation number 270.\n",
      "Running Monte Carlo simulation number 280.\n",
      "Running Monte Carlo simulation number 290.\n",
      "Running Monte Carlo simulation number 300.\n",
      "Running Monte Carlo simulation number 310.\n",
      "Running Monte Carlo simulation number 320.\n",
      "Running Monte Carlo simulation number 330.\n",
      "Running Monte Carlo simulation number 340.\n",
      "Running Monte Carlo simulation number 350.\n",
      "Running Monte Carlo simulation number 360.\n",
      "Running Monte Carlo simulation number 370.\n",
      "Running Monte Carlo simulation number 380.\n",
      "Running Monte Carlo simulation number 390.\n",
      "Running Monte Carlo simulation number 400.\n",
      "Running Monte Carlo simulation number 410.\n",
      "Running Monte Carlo simulation number 420.\n",
      "Running Monte Carlo simulation number 430.\n",
      "Running Monte Carlo simulation number 440.\n",
      "Running Monte Carlo simulation number 450.\n",
      "Running Monte Carlo simulation number 460.\n",
      "Running Monte Carlo simulation number 470.\n",
      "Running Monte Carlo simulation number 480.\n",
      "Running Monte Carlo simulation number 490.\n"
     ]
    },
    {
     "data": {
      "text/html": [
       "<div>\n",
       "<style scoped>\n",
       "    .dataframe tbody tr th:only-of-type {\n",
       "        vertical-align: middle;\n",
       "    }\n",
       "\n",
       "    .dataframe tbody tr th {\n",
       "        vertical-align: top;\n",
       "    }\n",
       "\n",
       "    .dataframe thead th {\n",
       "        text-align: right;\n",
       "    }\n",
       "</style>\n",
       "<table border=\"1\" class=\"dataframe\">\n",
       "  <thead>\n",
       "    <tr style=\"text-align: right;\">\n",
       "      <th></th>\n",
       "      <th>0</th>\n",
       "      <th>1</th>\n",
       "      <th>2</th>\n",
       "      <th>3</th>\n",
       "      <th>4</th>\n",
       "      <th>5</th>\n",
       "      <th>6</th>\n",
       "      <th>7</th>\n",
       "      <th>8</th>\n",
       "      <th>9</th>\n",
       "      <th>...</th>\n",
       "      <th>490</th>\n",
       "      <th>491</th>\n",
       "      <th>492</th>\n",
       "      <th>493</th>\n",
       "      <th>494</th>\n",
       "      <th>495</th>\n",
       "      <th>496</th>\n",
       "      <th>497</th>\n",
       "      <th>498</th>\n",
       "      <th>499</th>\n",
       "    </tr>\n",
       "  </thead>\n",
       "  <tbody>\n",
       "    <tr>\n",
       "      <th>0</th>\n",
       "      <td>1.000000</td>\n",
       "      <td>1.000000</td>\n",
       "      <td>1.000000</td>\n",
       "      <td>1.000000</td>\n",
       "      <td>1.000000</td>\n",
       "      <td>1.000000</td>\n",
       "      <td>1.000000</td>\n",
       "      <td>1.000000</td>\n",
       "      <td>1.000000</td>\n",
       "      <td>1.000000</td>\n",
       "      <td>...</td>\n",
       "      <td>1.000000</td>\n",
       "      <td>1.000000</td>\n",
       "      <td>1.000000</td>\n",
       "      <td>1.000000</td>\n",
       "      <td>1.000000</td>\n",
       "      <td>1.000000</td>\n",
       "      <td>1.000000</td>\n",
       "      <td>1.000000</td>\n",
       "      <td>1.000000</td>\n",
       "      <td>1.000000</td>\n",
       "    </tr>\n",
       "    <tr>\n",
       "      <th>1</th>\n",
       "      <td>1.006449</td>\n",
       "      <td>1.002006</td>\n",
       "      <td>1.003393</td>\n",
       "      <td>0.999387</td>\n",
       "      <td>1.002576</td>\n",
       "      <td>1.002319</td>\n",
       "      <td>0.992052</td>\n",
       "      <td>1.002706</td>\n",
       "      <td>1.003477</td>\n",
       "      <td>0.998768</td>\n",
       "      <td>...</td>\n",
       "      <td>1.023660</td>\n",
       "      <td>0.996693</td>\n",
       "      <td>0.997692</td>\n",
       "      <td>1.003096</td>\n",
       "      <td>1.003013</td>\n",
       "      <td>1.009720</td>\n",
       "      <td>1.003259</td>\n",
       "      <td>0.999421</td>\n",
       "      <td>0.989228</td>\n",
       "      <td>0.994870</td>\n",
       "    </tr>\n",
       "    <tr>\n",
       "      <th>2</th>\n",
       "      <td>1.008973</td>\n",
       "      <td>1.019993</td>\n",
       "      <td>1.005100</td>\n",
       "      <td>1.001252</td>\n",
       "      <td>0.992480</td>\n",
       "      <td>1.003298</td>\n",
       "      <td>0.976538</td>\n",
       "      <td>0.999433</td>\n",
       "      <td>1.026813</td>\n",
       "      <td>0.986845</td>\n",
       "      <td>...</td>\n",
       "      <td>1.018748</td>\n",
       "      <td>0.991794</td>\n",
       "      <td>0.993382</td>\n",
       "      <td>0.996911</td>\n",
       "      <td>0.983363</td>\n",
       "      <td>1.010423</td>\n",
       "      <td>1.005953</td>\n",
       "      <td>0.989753</td>\n",
       "      <td>1.007124</td>\n",
       "      <td>0.994604</td>\n",
       "    </tr>\n",
       "    <tr>\n",
       "      <th>3</th>\n",
       "      <td>1.018392</td>\n",
       "      <td>1.006909</td>\n",
       "      <td>1.002069</td>\n",
       "      <td>1.002660</td>\n",
       "      <td>1.000291</td>\n",
       "      <td>0.988143</td>\n",
       "      <td>0.976935</td>\n",
       "      <td>0.999299</td>\n",
       "      <td>1.026518</td>\n",
       "      <td>0.985775</td>\n",
       "      <td>...</td>\n",
       "      <td>1.031150</td>\n",
       "      <td>0.980921</td>\n",
       "      <td>1.007971</td>\n",
       "      <td>1.010038</td>\n",
       "      <td>1.003601</td>\n",
       "      <td>1.007748</td>\n",
       "      <td>1.002388</td>\n",
       "      <td>0.971182</td>\n",
       "      <td>1.000947</td>\n",
       "      <td>0.987932</td>\n",
       "    </tr>\n",
       "    <tr>\n",
       "      <th>4</th>\n",
       "      <td>1.006870</td>\n",
       "      <td>1.009770</td>\n",
       "      <td>0.983966</td>\n",
       "      <td>1.011866</td>\n",
       "      <td>0.992531</td>\n",
       "      <td>0.986408</td>\n",
       "      <td>0.968863</td>\n",
       "      <td>0.995746</td>\n",
       "      <td>1.011356</td>\n",
       "      <td>0.975331</td>\n",
       "      <td>...</td>\n",
       "      <td>1.024972</td>\n",
       "      <td>0.983609</td>\n",
       "      <td>0.996773</td>\n",
       "      <td>1.013132</td>\n",
       "      <td>0.995009</td>\n",
       "      <td>1.002300</td>\n",
       "      <td>1.001255</td>\n",
       "      <td>0.963359</td>\n",
       "      <td>1.016635</td>\n",
       "      <td>0.979949</td>\n",
       "    </tr>\n",
       "    <tr>\n",
       "      <th>...</th>\n",
       "      <td>...</td>\n",
       "      <td>...</td>\n",
       "      <td>...</td>\n",
       "      <td>...</td>\n",
       "      <td>...</td>\n",
       "      <td>...</td>\n",
       "      <td>...</td>\n",
       "      <td>...</td>\n",
       "      <td>...</td>\n",
       "      <td>...</td>\n",
       "      <td>...</td>\n",
       "      <td>...</td>\n",
       "      <td>...</td>\n",
       "      <td>...</td>\n",
       "      <td>...</td>\n",
       "      <td>...</td>\n",
       "      <td>...</td>\n",
       "      <td>...</td>\n",
       "      <td>...</td>\n",
       "      <td>...</td>\n",
       "      <td>...</td>\n",
       "    </tr>\n",
       "    <tr>\n",
       "      <th>7556</th>\n",
       "      <td>122.944455</td>\n",
       "      <td>103.143156</td>\n",
       "      <td>8.286290</td>\n",
       "      <td>233.911167</td>\n",
       "      <td>37.039214</td>\n",
       "      <td>20.235706</td>\n",
       "      <td>209.113034</td>\n",
       "      <td>38.327254</td>\n",
       "      <td>165.763721</td>\n",
       "      <td>48.019608</td>\n",
       "      <td>...</td>\n",
       "      <td>36.365119</td>\n",
       "      <td>350.538588</td>\n",
       "      <td>40.599158</td>\n",
       "      <td>49.703448</td>\n",
       "      <td>18.828306</td>\n",
       "      <td>28.119428</td>\n",
       "      <td>57.482630</td>\n",
       "      <td>126.712606</td>\n",
       "      <td>60.225738</td>\n",
       "      <td>86.498258</td>\n",
       "    </tr>\n",
       "    <tr>\n",
       "      <th>7557</th>\n",
       "      <td>123.153564</td>\n",
       "      <td>103.399778</td>\n",
       "      <td>8.485599</td>\n",
       "      <td>233.174528</td>\n",
       "      <td>37.356071</td>\n",
       "      <td>20.305744</td>\n",
       "      <td>212.972746</td>\n",
       "      <td>39.223124</td>\n",
       "      <td>166.887584</td>\n",
       "      <td>48.095016</td>\n",
       "      <td>...</td>\n",
       "      <td>36.041494</td>\n",
       "      <td>350.122872</td>\n",
       "      <td>40.102345</td>\n",
       "      <td>49.462848</td>\n",
       "      <td>18.864585</td>\n",
       "      <td>27.960860</td>\n",
       "      <td>57.576798</td>\n",
       "      <td>124.347549</td>\n",
       "      <td>60.423058</td>\n",
       "      <td>85.981298</td>\n",
       "    </tr>\n",
       "    <tr>\n",
       "      <th>7558</th>\n",
       "      <td>123.617450</td>\n",
       "      <td>102.254481</td>\n",
       "      <td>8.449851</td>\n",
       "      <td>233.252896</td>\n",
       "      <td>37.250797</td>\n",
       "      <td>19.980198</td>\n",
       "      <td>213.774652</td>\n",
       "      <td>39.176375</td>\n",
       "      <td>164.837040</td>\n",
       "      <td>47.821340</td>\n",
       "      <td>...</td>\n",
       "      <td>36.507214</td>\n",
       "      <td>346.199125</td>\n",
       "      <td>39.824564</td>\n",
       "      <td>48.937644</td>\n",
       "      <td>19.070351</td>\n",
       "      <td>28.187492</td>\n",
       "      <td>57.730099</td>\n",
       "      <td>124.631686</td>\n",
       "      <td>60.467566</td>\n",
       "      <td>86.064907</td>\n",
       "    </tr>\n",
       "    <tr>\n",
       "      <th>7559</th>\n",
       "      <td>122.740716</td>\n",
       "      <td>100.040043</td>\n",
       "      <td>8.434104</td>\n",
       "      <td>232.072711</td>\n",
       "      <td>37.311564</td>\n",
       "      <td>19.300784</td>\n",
       "      <td>208.841772</td>\n",
       "      <td>38.766651</td>\n",
       "      <td>163.201769</td>\n",
       "      <td>47.758917</td>\n",
       "      <td>...</td>\n",
       "      <td>36.927334</td>\n",
       "      <td>345.152460</td>\n",
       "      <td>40.198937</td>\n",
       "      <td>48.172794</td>\n",
       "      <td>19.382427</td>\n",
       "      <td>28.113770</td>\n",
       "      <td>58.778338</td>\n",
       "      <td>126.424647</td>\n",
       "      <td>60.684717</td>\n",
       "      <td>86.720422</td>\n",
       "    </tr>\n",
       "    <tr>\n",
       "      <th>7560</th>\n",
       "      <td>122.376282</td>\n",
       "      <td>98.065200</td>\n",
       "      <td>8.485717</td>\n",
       "      <td>226.900487</td>\n",
       "      <td>37.417158</td>\n",
       "      <td>19.103645</td>\n",
       "      <td>209.288883</td>\n",
       "      <td>39.032563</td>\n",
       "      <td>160.269775</td>\n",
       "      <td>46.891688</td>\n",
       "      <td>...</td>\n",
       "      <td>36.792034</td>\n",
       "      <td>345.350115</td>\n",
       "      <td>40.563262</td>\n",
       "      <td>47.811002</td>\n",
       "      <td>19.679029</td>\n",
       "      <td>27.380212</td>\n",
       "      <td>58.695780</td>\n",
       "      <td>128.513867</td>\n",
       "      <td>60.439900</td>\n",
       "      <td>87.994306</td>\n",
       "    </tr>\n",
       "  </tbody>\n",
       "</table>\n",
       "<p>7561 rows × 500 columns</p>\n",
       "</div>"
      ],
      "text/plain": [
       "             0           1         2           3          4          5    \\\n",
       "0       1.000000    1.000000  1.000000    1.000000   1.000000   1.000000   \n",
       "1       1.006449    1.002006  1.003393    0.999387   1.002576   1.002319   \n",
       "2       1.008973    1.019993  1.005100    1.001252   0.992480   1.003298   \n",
       "3       1.018392    1.006909  1.002069    1.002660   1.000291   0.988143   \n",
       "4       1.006870    1.009770  0.983966    1.011866   0.992531   0.986408   \n",
       "...          ...         ...       ...         ...        ...        ...   \n",
       "7556  122.944455  103.143156  8.286290  233.911167  37.039214  20.235706   \n",
       "7557  123.153564  103.399778  8.485599  233.174528  37.356071  20.305744   \n",
       "7558  123.617450  102.254481  8.449851  233.252896  37.250797  19.980198   \n",
       "7559  122.740716  100.040043  8.434104  232.072711  37.311564  19.300784   \n",
       "7560  122.376282   98.065200  8.485717  226.900487  37.417158  19.103645   \n",
       "\n",
       "             6          7           8          9    ...        490  \\\n",
       "0       1.000000   1.000000    1.000000   1.000000  ...   1.000000   \n",
       "1       0.992052   1.002706    1.003477   0.998768  ...   1.023660   \n",
       "2       0.976538   0.999433    1.026813   0.986845  ...   1.018748   \n",
       "3       0.976935   0.999299    1.026518   0.985775  ...   1.031150   \n",
       "4       0.968863   0.995746    1.011356   0.975331  ...   1.024972   \n",
       "...          ...        ...         ...        ...  ...        ...   \n",
       "7556  209.113034  38.327254  165.763721  48.019608  ...  36.365119   \n",
       "7557  212.972746  39.223124  166.887584  48.095016  ...  36.041494   \n",
       "7558  213.774652  39.176375  164.837040  47.821340  ...  36.507214   \n",
       "7559  208.841772  38.766651  163.201769  47.758917  ...  36.927334   \n",
       "7560  209.288883  39.032563  160.269775  46.891688  ...  36.792034   \n",
       "\n",
       "             491        492        493        494        495        496  \\\n",
       "0       1.000000   1.000000   1.000000   1.000000   1.000000   1.000000   \n",
       "1       0.996693   0.997692   1.003096   1.003013   1.009720   1.003259   \n",
       "2       0.991794   0.993382   0.996911   0.983363   1.010423   1.005953   \n",
       "3       0.980921   1.007971   1.010038   1.003601   1.007748   1.002388   \n",
       "4       0.983609   0.996773   1.013132   0.995009   1.002300   1.001255   \n",
       "...          ...        ...        ...        ...        ...        ...   \n",
       "7556  350.538588  40.599158  49.703448  18.828306  28.119428  57.482630   \n",
       "7557  350.122872  40.102345  49.462848  18.864585  27.960860  57.576798   \n",
       "7558  346.199125  39.824564  48.937644  19.070351  28.187492  57.730099   \n",
       "7559  345.152460  40.198937  48.172794  19.382427  28.113770  58.778338   \n",
       "7560  345.350115  40.563262  47.811002  19.679029  27.380212  58.695780   \n",
       "\n",
       "             497        498        499  \n",
       "0       1.000000   1.000000   1.000000  \n",
       "1       0.999421   0.989228   0.994870  \n",
       "2       0.989753   1.007124   0.994604  \n",
       "3       0.971182   1.000947   0.987932  \n",
       "4       0.963359   1.016635   0.979949  \n",
       "...          ...        ...        ...  \n",
       "7556  126.712606  60.225738  86.498258  \n",
       "7557  124.347549  60.423058  85.981298  \n",
       "7558  124.631686  60.467566  86.064907  \n",
       "7559  126.424647  60.684717  86.720422  \n",
       "7560  128.513867  60.439900  87.994306  \n",
       "\n",
       "[7561 rows x 500 columns]"
      ]
     },
     "execution_count": 80,
     "metadata": {},
     "output_type": "execute_result"
    }
   ],
   "source": [
    "# Running a Monte Carlo simulation to forecast 30 years cumulative returns\n",
    "MC_even_dist.calc_cumulative_return()"
   ]
  },
  {
   "cell_type": "code",
   "execution_count": 94,
   "metadata": {},
   "outputs": [
    {
     "data": {
      "image/png": "[encoded data removed]",
      "text/plain": [
       "<Figure size 432x288 with 1 Axes>"
      ]
     },
     "metadata": {
      "needs_background": "light"
     },
     "output_type": "display_data"
    }
   ],
   "source": [
    "# Plot simulation outcomes\n",
    "line_plot = MC_even_dist.plot_simulation()"
   ]
  },
  {
   "cell_type": "code",
   "execution_count": 93,
   "metadata": {},
   "outputs": [
    {
     "data": {
      "image/png": "[encoded data removed]",
      "text/plain": [
       "<Figure size 432x288 with 1 Axes>"
      ]
     },
     "metadata": {
      "needs_background": "light"
     },
     "output_type": "display_data"
    }
   ],
   "source": [
    "# Plot probability distribution and confidence intervals\n",
    "dist_plot = MC_even_dist.plot_distribution()"
   ]
  },
  {
   "cell_type": "markdown",
   "metadata": {},
   "source": [
    "### Retirement Analysis"
   ]
  },
  {
   "cell_type": "code",
   "execution_count": 95,
   "metadata": {},
   "outputs": [
    {
     "name": "stdout",
     "output_type": "stream",
     "text": [
      "count           500.000000\n",
      "mean             77.203341\n",
      "std              78.751807\n",
      "min               5.996207\n",
      "25%              29.569556\n",
      "50%              50.459099\n",
      "75%              89.888668\n",
      "max             640.393073\n",
      "95% CI Lower     10.832326\n",
      "95% CI Upper    321.261679\n",
      "Name: 7560, dtype: float64\n"
     ]
    }
   ],
   "source": [
    "# Fetch summary statistics from the Monte Carlo simulation results\n",
    "even_tbl = MC_even_dist.summarize_cumulative_return()\n",
    "\n",
    "# Print summary statistics\n",
    "print(even_tbl)"
   ]
  },
  {
   "cell_type": "markdown",
   "metadata": {},
   "source": [
    "### Calculate the expected portfolio return at the 95% lower and upper confidence intervals based on a `$20,000` initial investment."
   ]
  },
  {
   "cell_type": "code",
   "execution_count": 96,
   "metadata": {},
   "outputs": [
    {
     "name": "stdout",
     "output_type": "stream",
     "text": [
      "There is a 95% chance that an initial investment of $20000 in the portfolio over the next 30 years will end within in the range of $216646.53 and $6425233.58\n"
     ]
    }
   ],
   "source": [
    "# Set initial investment\n",
    "initial_investment = 20000\n",
    "\n",
    "# Use the lower and upper `95%` confidence intervals to calculate the range of the possible outcomes of our $20,000\n",
    "ci_lower = round(even_tbl[8]*20000,2)\n",
    "ci_upper = round(even_tbl[9]*20000,2)\n",
    "\n",
    "# Print results\n",
    "print(f\"There is a 95% chance that an initial investment of ${initial_investment} in the portfolio\"\n",
    "      f\" over the next 30 years will end within in the range of\"\n",
    "      f\" ${ci_lower} and ${ci_upper}\")"
   ]
  },
  {
   "cell_type": "markdown",
   "metadata": {},
   "source": [
    "### Calculate the expected portfolio return at the `95%` lower and upper confidence intervals based on a `50%` increase in the initial investment."
   ]
  },
  {
   "cell_type": "code",
   "execution_count": 97,
   "metadata": {},
   "outputs": [
    {
     "name": "stdout",
     "output_type": "stream",
     "text": [
      "There is a 95% chance that an initial investment of $30000.0 in the portfolio over the next 30 years will end within in the range of $324969.79 and $9637850.37\n"
     ]
    }
   ],
   "source": [
    "# Set initial investment\n",
    "initial_investment = 20000 * 1.5\n",
    "\n",
    "# Use the lower and upper `95%` confidence intervals to calculate the range of the possible outcomes of our $30,000\n",
    "tbl = MC_even_dist.summarize_cumulative_return()\n",
    "ci_lower = round(tbl[8]*20000*1.5,2)\n",
    "ci_upper = round(tbl[9]*20000*1.5,2)\n",
    "\n",
    "# Print results\n",
    "print(f\"There is a 95% chance that an initial investment of ${initial_investment} in the portfolio\"\n",
    "      f\" over the next 30 years will end within in the range of\"\n",
    "      f\" ${ci_lower} and ${ci_upper}\")"
   ]
  },
  {
   "cell_type": "markdown",
   "metadata": {},
   "source": [
    "## Optional Challenge - Early Retirement\n",
    "\n",
    "\n",
    "### Five Years Retirement Option"
   ]
  },
  {
   "cell_type": "code",
   "execution_count": 86,
   "metadata": {},
   "outputs": [],
   "source": [
    "# Configuring a Monte Carlo simulation to forecast 5 years cumulative returns\n",
    "# YOUR CODE HERE!\n",
    "\n",
    "# Print the simulation input data"
   ]
  },
  {
   "cell_type": "code",
   "execution_count": 87,
   "metadata": {},
   "outputs": [],
   "source": [
    "# Running a Monte Carlo simulation to forecast 5 years cumulative returns\n",
    "# YOUR CODE HERE!"
   ]
  },
  {
   "cell_type": "code",
   "execution_count": 88,
   "metadata": {},
   "outputs": [
    {
     "data": {
      "image/png": "[encoded data removed]",
      "text/plain": [
       "<Figure size 432x288 with 1 Axes>"
      ]
     },
     "metadata": {
      "needs_background": "light"
     },
     "output_type": "display_data"
    }
   ],
   "source": [
    "# Plot simulation outcomes\n",
    "# YOUR CODE HERE!\n",
    "line_plot = MC_even_dist.plot_simulation()"
   ]
  },
  {
   "cell_type": "code",
   "execution_count": 89,
   "metadata": {},
   "outputs": [],
   "source": [
    "# Plot probability distribution and confidence intervals\n",
    "# YOUR CODE HERE!\n"
   ]
  },
  {
   "cell_type": "code",
   "execution_count": 90,
   "metadata": {},
   "outputs": [],
   "source": [
    "# Fetch summary statistics from the Monte Carlo simulation results\n",
    "# YOUR CODE HERE!\n",
    "\n",
    "# Print summary statistics\n"
   ]
  },
  {
   "cell_type": "code",
   "execution_count": 91,
   "metadata": {},
   "outputs": [
    {
     "ename": "NameError",
     "evalue": "name 'ci_lower_five' is not defined",
     "output_type": "error",
     "traceback": [
      "\u001b[0;31m---------------------------------------------------------------------------\u001b[0m",
      "\u001b[0;31mNameError\u001b[0m                                 Traceback (most recent call last)",
      "\u001b[0;32m<ipython-input-91-682af6f3df43>\u001b[0m in \u001b[0;36m<module>\u001b[0;34m\u001b[0m\n\u001b[1;32m      4\u001b[0m \u001b[0;34m\u001b[0m\u001b[0m\n\u001b[1;32m      5\u001b[0m \u001b[0;31m# Print results\u001b[0m\u001b[0;34m\u001b[0m\u001b[0;34m\u001b[0m\u001b[0;34m\u001b[0m\u001b[0m\n\u001b[0;32m----> 6\u001b[0;31m print(f\"There is a 95% chance that an initial investment of ${initial_investment} in the portfolio\"\n\u001b[0m\u001b[1;32m      7\u001b[0m       \u001b[0;34mf\" over the next 5 years will end within in the range of\"\u001b[0m\u001b[0;34m\u001b[0m\u001b[0;34m\u001b[0m\u001b[0m\n\u001b[1;32m      8\u001b[0m       f\" ${ci_lower_five} and ${ci_upper_five}\")\n",
      "\u001b[0;31mNameError\u001b[0m: name 'ci_lower_five' is not defined"
     ]
    }
   ],
   "source": [
    "# Set initial investment\n",
    "\n",
    "# Use the lower and upper `95%` confidence intervals to calculate the range of the possible outcomes of our $60,000\n",
    "\n",
    "# Print results\n",
    "print(f\"There is a 95% chance that an initial investment of ${initial_investment} in the portfolio\"\n",
    "      f\" over the next 5 years will end within in the range of\"\n",
    "      f\" ${ci_lower_five} and ${ci_upper_five}\")"
   ]
  },
  {
   "cell_type": "markdown",
   "metadata": {},
   "source": [
    "### Ten Years Retirement Option"
   ]
  },
  {
   "cell_type": "code",
   "execution_count": null,
   "metadata": {},
   "outputs": [],
   "source": [
    "# Configuring a Monte Carlo simulation to forecast 10 years cumulative returns\n",
    "# YOUR CODE HERE!"
   ]
  },
  {
   "cell_type": "code",
   "execution_count": null,
   "metadata": {},
   "outputs": [],
   "source": [
    "# Running a Monte Carlo simulation to forecast 10 years cumulative returns\n",
    "# YOUR CODE HERE!"
   ]
  },
  {
   "cell_type": "code",
   "execution_count": null,
   "metadata": {},
   "outputs": [],
   "source": [
    "# Plot simulation outcomes\n",
    "# YOUR CODE HERE!"
   ]
  },
  {
   "cell_type": "code",
   "execution_count": null,
   "metadata": {},
   "outputs": [],
   "source": [
    "# Plot probability distribution and confidence intervals\n",
    "# YOUR CODE HERE!"
   ]
  },
  {
   "cell_type": "code",
   "execution_count": null,
   "metadata": {},
   "outputs": [],
   "source": [
    "# Fetch summary statistics from the Monte Carlo simulation results\n",
    "# YOUR CODE HERE!\n",
    "\n",
    "# Print summary statistics\n",
    "# YOUR CODE HERE!"
   ]
  },
  {
   "cell_type": "code",
   "execution_count": null,
   "metadata": {},
   "outputs": [],
   "source": [
    "# Set initial investment\n",
    "# YOUR CODE HERE!\n",
    "\n",
    "# Use the lower and upper `95%` confidence intervals to calculate the range of the possible outcomes of our $60,000\n",
    "# YOUR CODE HERE!\n",
    "\n",
    "# Print results\n",
    "print(f\"There is a 95% chance that an initial investment of ${initial_investment} in the portfolio\"\n",
    "      f\" over the next 10 years will end within in the range of\"\n",
    "      f\" ${ci_lower_ten} and ${ci_upper_ten}\")"
   ]
  },
  {
   "cell_type": "code",
   "execution_count": null,
   "metadata": {},
   "outputs": [],
   "source": []
  },
  {
   "cell_type": "code",
   "execution_count": null,
   "metadata": {},
   "outputs": [],
   "source": []
  }
 ],
 "metadata": {
  "kernelspec": {
   "display_name": "Python 3",
   "language": "python",
   "name": "python3"
  },
  "language_info": {
   "codemirror_mode": {
    "name": "ipython",
    "version": 3
   },
   "file_extension": ".py",
   "mimetype": "text/x-python",
   "name": "python",
   "nbconvert_exporter": "python",
   "pygments_lexer": "ipython3",
   "version": "3.7.9"
  }
 },
 "nbformat": 4,
 "nbformat_minor": 4
}
